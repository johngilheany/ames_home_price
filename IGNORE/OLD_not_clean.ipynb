{
 "cells": [
  {
   "cell_type": "markdown",
   "id": "cf8596c9-c719-4df2-b2c5-7ea7964eda59",
   "metadata": {},
   "source": [
    "# 1. EDA and Cleaning"
   ]
  },
  {
   "cell_type": "code",
   "execution_count": 1,
   "id": "6c416cec-4e4b-44cf-a15e-e12b7949e8c9",
   "metadata": {
    "tags": []
   },
   "outputs": [],
   "source": [
    "# Imports\n",
    "import pandas as pd\n",
    "import numpy as np\n",
    "import matplotlib.pyplot as plt\n",
    "import seaborn as sns\n",
    "from sklearn.linear_model import LinearRegression\n",
    "from sklearn import metrics\n",
    "from sklearn.preprocessing import StandardScaler, PolynomialFeatures, OneHotEncoder\n",
    "from sklearn.compose import ColumnTransformer\n",
    "from sklearn.model_selection import train_test_split, cross_val_score"
   ]
  },
  {
   "cell_type": "code",
   "execution_count": 2,
   "id": "6646ac16-fce1-48bc-865f-5ab95732749e",
   "metadata": {
    "tags": []
   },
   "outputs": [],
   "source": [
    "# Read in Data\n",
    "housing = pd.read_csv('datasets/train.csv')\n",
    "housing_test = pd.read_csv('datasets/test.csv')"
   ]
  },
  {
   "cell_type": "code",
   "execution_count": 3,
   "id": "d2a364a4-4401-4b02-ba2a-3be15b9860f1",
   "metadata": {
    "tags": []
   },
   "outputs": [],
   "source": [
    "# Lot of NA values. However some actually mean 0, so need to fix this. \n",
    "# i.e. GarageQual NA means No Garage\n",
    "# housing.isna().mean().sort_values(ascending=False).head(20)"
   ]
  },
  {
   "cell_type": "code",
   "execution_count": 4,
   "id": "bb127146-f8fe-47c8-bc9f-063f83db2077",
   "metadata": {
    "tags": []
   },
   "outputs": [],
   "source": [
    "# housing.loc[housing['Overall Cond'] == 2, ['Functional']]"
   ]
  },
  {
   "cell_type": "markdown",
   "id": "e41f5847-ceb4-4a53-86ce-b63ca73caeda",
   "metadata": {},
   "source": [
    "### Read through data dictionary, decide on which variables to use"
   ]
  },
  {
   "cell_type": "code",
   "execution_count": 5,
   "id": "a39ccf0b-f7f2-40b3-ac3b-fedcfe2389ed",
   "metadata": {
    "tags": []
   },
   "outputs": [
    {
     "data": {
      "text/plain": [
       "Index(['1stFlrSF', '2ndFlrSF', '3SsnPorch', 'Alley', 'BedroomAbvGr',\n",
       "       'BldgType', 'BsmtCond', 'BsmtExposure', 'BsmtFinSF1', 'BsmtFinSF2',\n",
       "       'BsmtFinType1', 'BsmtFinType2', 'BsmtFullBath', 'BsmtHalfBath',\n",
       "       'BsmtQual', 'BsmtUnfSF', 'CentralAir', 'Condition1', 'Condition2',\n",
       "       'Electrical', 'EnclosedPorch', 'ExterCond', 'ExterQual', 'Exterior1st',\n",
       "       'Exterior2nd', 'Fence', 'FireplaceQu', 'Fireplaces', 'Foundation',\n",
       "       'FullBath', 'Functional', 'GarageArea', 'GarageCars', 'GarageCond',\n",
       "       'GarageFinish', 'GarageQual', 'GarageType', 'GarageYrBlt', 'GrLivArea',\n",
       "       'HalfBath', 'Heating', 'HeatingQC', 'HouseStyle', 'Id', 'KitchenAbvGr',\n",
       "       'KitchenQual', 'LandContour', 'LandSlope', 'LotArea', 'LotConfig',\n",
       "       'LotFrontage', 'LotShape', 'LowQualFinSF', 'MSSubClass', 'MSZoning',\n",
       "       'MasVnrArea', 'MasVnrType', 'MiscFeature', 'MiscVal', 'MoSold',\n",
       "       'Neighborhood', 'OpenPorchSF', 'OverallCond', 'OverallQual', 'PID',\n",
       "       'PavedDrive', 'PoolArea', 'PoolQC', 'RoofMatl', 'RoofStyle',\n",
       "       'SalePrice', 'SaleType', 'ScreenPorch', 'Street', 'TotRmsAbvGrd',\n",
       "       'TotalBsmtSF', 'Utilities', 'WoodDeckSF', 'YearBuilt', 'YearRemod/Add',\n",
       "       'YrSold'],\n",
       "      dtype='object')"
      ]
     },
     "execution_count": 5,
     "metadata": {},
     "output_type": "execute_result"
    }
   ],
   "source": [
    "# Remove spaces in col names b/c data dictionary col names do not include spaces\n",
    "housing.columns = [n.replace(\" \", \"\") for n in housing.columns]\n",
    "# housing.head()\n",
    "housing.columns.sort_values()"
   ]
  },
  {
   "cell_type": "code",
   "execution_count": 6,
   "id": "f3a1cd6d-9fc7-40fc-a7b3-cff708181172",
   "metadata": {
    "tags": []
   },
   "outputs": [
    {
     "data": {
      "text/html": [
       "<div>\n",
       "<style scoped>\n",
       "    .dataframe tbody tr th:only-of-type {\n",
       "        vertical-align: middle;\n",
       "    }\n",
       "\n",
       "    .dataframe tbody tr th {\n",
       "        vertical-align: top;\n",
       "    }\n",
       "\n",
       "    .dataframe thead th {\n",
       "        text-align: right;\n",
       "    }\n",
       "</style>\n",
       "<table border=\"1\" class=\"dataframe\">\n",
       "  <thead>\n",
       "    <tr style=\"text-align: right;\">\n",
       "      <th></th>\n",
       "      <th>MSSubClass</th>\n",
       "      <th>MSZoning</th>\n",
       "      <th>Neighborhood</th>\n",
       "      <th>OverallQual</th>\n",
       "      <th>OverallCond</th>\n",
       "      <th>YearRemod/Add</th>\n",
       "      <th>TotalBsmtSF</th>\n",
       "      <th>HeatingQC</th>\n",
       "      <th>CentralAir</th>\n",
       "      <th>GrLivArea</th>\n",
       "      <th>...</th>\n",
       "      <th>EnclosedPorch</th>\n",
       "      <th>3SsnPorch</th>\n",
       "      <th>ScreenPorch</th>\n",
       "      <th>MiscVal</th>\n",
       "      <th>MoSold</th>\n",
       "      <th>YrSold</th>\n",
       "      <th>Condition1</th>\n",
       "      <th>Fireplaces</th>\n",
       "      <th>PoolArea</th>\n",
       "      <th>SalePrice</th>\n",
       "    </tr>\n",
       "  </thead>\n",
       "  <tbody>\n",
       "    <tr>\n",
       "      <th>0</th>\n",
       "      <td>60</td>\n",
       "      <td>RL</td>\n",
       "      <td>Sawyer</td>\n",
       "      <td>6</td>\n",
       "      <td>8</td>\n",
       "      <td>2005</td>\n",
       "      <td>725.0</td>\n",
       "      <td>Ex</td>\n",
       "      <td>Y</td>\n",
       "      <td>1479</td>\n",
       "      <td>...</td>\n",
       "      <td>0</td>\n",
       "      <td>0</td>\n",
       "      <td>0</td>\n",
       "      <td>0</td>\n",
       "      <td>3</td>\n",
       "      <td>2010</td>\n",
       "      <td>RRAe</td>\n",
       "      <td>0</td>\n",
       "      <td>0</td>\n",
       "      <td>130500</td>\n",
       "    </tr>\n",
       "    <tr>\n",
       "      <th>1</th>\n",
       "      <td>60</td>\n",
       "      <td>RL</td>\n",
       "      <td>SawyerW</td>\n",
       "      <td>7</td>\n",
       "      <td>5</td>\n",
       "      <td>1997</td>\n",
       "      <td>913.0</td>\n",
       "      <td>Ex</td>\n",
       "      <td>Y</td>\n",
       "      <td>2122</td>\n",
       "      <td>...</td>\n",
       "      <td>0</td>\n",
       "      <td>0</td>\n",
       "      <td>0</td>\n",
       "      <td>0</td>\n",
       "      <td>4</td>\n",
       "      <td>2009</td>\n",
       "      <td>Norm</td>\n",
       "      <td>1</td>\n",
       "      <td>0</td>\n",
       "      <td>220000</td>\n",
       "    </tr>\n",
       "    <tr>\n",
       "      <th>2</th>\n",
       "      <td>20</td>\n",
       "      <td>RL</td>\n",
       "      <td>NAmes</td>\n",
       "      <td>5</td>\n",
       "      <td>7</td>\n",
       "      <td>2007</td>\n",
       "      <td>1057.0</td>\n",
       "      <td>TA</td>\n",
       "      <td>Y</td>\n",
       "      <td>1057</td>\n",
       "      <td>...</td>\n",
       "      <td>0</td>\n",
       "      <td>0</td>\n",
       "      <td>0</td>\n",
       "      <td>0</td>\n",
       "      <td>1</td>\n",
       "      <td>2010</td>\n",
       "      <td>Norm</td>\n",
       "      <td>0</td>\n",
       "      <td>0</td>\n",
       "      <td>109000</td>\n",
       "    </tr>\n",
       "    <tr>\n",
       "      <th>3</th>\n",
       "      <td>60</td>\n",
       "      <td>RL</td>\n",
       "      <td>Timber</td>\n",
       "      <td>5</td>\n",
       "      <td>5</td>\n",
       "      <td>2007</td>\n",
       "      <td>384.0</td>\n",
       "      <td>Gd</td>\n",
       "      <td>Y</td>\n",
       "      <td>1444</td>\n",
       "      <td>...</td>\n",
       "      <td>0</td>\n",
       "      <td>0</td>\n",
       "      <td>0</td>\n",
       "      <td>0</td>\n",
       "      <td>4</td>\n",
       "      <td>2010</td>\n",
       "      <td>Norm</td>\n",
       "      <td>0</td>\n",
       "      <td>0</td>\n",
       "      <td>174000</td>\n",
       "    </tr>\n",
       "    <tr>\n",
       "      <th>4</th>\n",
       "      <td>50</td>\n",
       "      <td>RL</td>\n",
       "      <td>SawyerW</td>\n",
       "      <td>6</td>\n",
       "      <td>8</td>\n",
       "      <td>1993</td>\n",
       "      <td>676.0</td>\n",
       "      <td>TA</td>\n",
       "      <td>Y</td>\n",
       "      <td>1445</td>\n",
       "      <td>...</td>\n",
       "      <td>0</td>\n",
       "      <td>0</td>\n",
       "      <td>0</td>\n",
       "      <td>0</td>\n",
       "      <td>3</td>\n",
       "      <td>2010</td>\n",
       "      <td>Norm</td>\n",
       "      <td>0</td>\n",
       "      <td>0</td>\n",
       "      <td>138500</td>\n",
       "    </tr>\n",
       "  </tbody>\n",
       "</table>\n",
       "<p>5 rows × 28 columns</p>\n",
       "</div>"
      ],
      "text/plain": [
       "   MSSubClass MSZoning Neighborhood  OverallQual  OverallCond  YearRemod/Add  \\\n",
       "0          60       RL       Sawyer            6            8           2005   \n",
       "1          60       RL      SawyerW            7            5           1997   \n",
       "2          20       RL        NAmes            5            7           2007   \n",
       "3          60       RL       Timber            5            5           2007   \n",
       "4          50       RL      SawyerW            6            8           1993   \n",
       "\n",
       "   TotalBsmtSF HeatingQC CentralAir  GrLivArea  ...  EnclosedPorch  3SsnPorch  \\\n",
       "0        725.0        Ex          Y       1479  ...              0          0   \n",
       "1        913.0        Ex          Y       2122  ...              0          0   \n",
       "2       1057.0        TA          Y       1057  ...              0          0   \n",
       "3        384.0        Gd          Y       1444  ...              0          0   \n",
       "4        676.0        TA          Y       1445  ...              0          0   \n",
       "\n",
       "   ScreenPorch  MiscVal  MoSold  YrSold  Condition1  Fireplaces  PoolArea  \\\n",
       "0            0        0       3    2010        RRAe           0         0   \n",
       "1            0        0       4    2009        Norm           1         0   \n",
       "2            0        0       1    2010        Norm           0         0   \n",
       "3            0        0       4    2010        Norm           0         0   \n",
       "4            0        0       3    2010        Norm           0         0   \n",
       "\n",
       "   SalePrice  \n",
       "0     130500  \n",
       "1     220000  \n",
       "2     109000  \n",
       "3     174000  \n",
       "4     138500  \n",
       "\n",
       "[5 rows x 28 columns]"
      ]
     },
     "execution_count": 6,
     "metadata": {},
     "output_type": "execute_result"
    }
   ],
   "source": [
    "# Save var names in txt file\n",
    "# Create function to get variable names into list from txt file\n",
    "# https://stackoverflow.com/questions/23372086/how-would-i-read-only-the-first-word-of-each-line-of-a-text-file\n",
    "\n",
    "def get_var_name(txt_file):\n",
    "    vars = []\n",
    "    with open(txt_file, 'r') as f:\n",
    "        for line in f:\n",
    "            vars.append(line.split(None, 1)[0][:-1])\n",
    "    return vars\n",
    "\n",
    "init_vars = get_var_name('datasets/initial_vars.txt')\n",
    "housing_init = housing[init_vars]\n",
    "housing_init.head()"
   ]
  },
  {
   "cell_type": "markdown",
   "id": "d7ac944b-f4ea-432c-a8de-2ebe21fcc0b3",
   "metadata": {},
   "source": [
    "### Null values"
   ]
  },
  {
   "cell_type": "code",
   "execution_count": 7,
   "id": "489a1100-682f-483f-88ac-82bb2ab474a7",
   "metadata": {},
   "outputs": [
    {
     "data": {
      "text/plain": [
       "<bound method Series.sort_values of MSSubClass       0.000000\n",
       "MSZoning         0.000000\n",
       "Neighborhood     0.000000\n",
       "OverallQual      0.000000\n",
       "OverallCond      0.000000\n",
       "YearRemod/Add    0.000000\n",
       "TotalBsmtSF      0.000488\n",
       "HeatingQC        0.000000\n",
       "CentralAir       0.000000\n",
       "GrLivArea        0.000000\n",
       "BsmtFullBath     0.000975\n",
       "BsmtHalfBath     0.000975\n",
       "FullBath         0.000000\n",
       "HalfBath         0.000000\n",
       "TotRmsAbvGrd     0.000000\n",
       "GarageCars       0.000488\n",
       "WoodDeckSF       0.000000\n",
       "OpenPorchSF      0.000000\n",
       "EnclosedPorch    0.000000\n",
       "3SsnPorch        0.000000\n",
       "ScreenPorch      0.000000\n",
       "MiscVal          0.000000\n",
       "MoSold           0.000000\n",
       "YrSold           0.000000\n",
       "Condition1       0.000000\n",
       "Fireplaces       0.000000\n",
       "PoolArea         0.000000\n",
       "SalePrice        0.000000\n",
       "dtype: float64>"
      ]
     },
     "execution_count": 7,
     "metadata": {},
     "output_type": "execute_result"
    }
   ],
   "source": [
    "# Check for NA values. \n",
    "housing_init.isna().mean().sort_values\n",
    "# X_init_vars.loc[X_init_vars['MasVnrArea'].isna(), ]"
   ]
  },
  {
   "cell_type": "markdown",
   "id": "6af2e610-def9-439b-8176-2ff99ea3595d",
   "metadata": {
    "tags": []
   },
   "source": [
    "Replace NAs with 0. They are not missing values, but 0 (i.e. basement bathroom is 0 not NA if there is no basement)"
   ]
  },
  {
   "cell_type": "code",
   "execution_count": 8,
   "id": "09010558-cdc7-458c-bc07-38ca508fcb56",
   "metadata": {
    "tags": []
   },
   "outputs": [],
   "source": [
    "# https://www.geeksforgeeks.org/replace-nan-values-with-zeros-in-pandas-dataframe/\n",
    "housing_init = housing_init.fillna(0)"
   ]
  },
  {
   "cell_type": "markdown",
   "id": "99f377e9-c81f-43d8-b639-ecc92ae8dba1",
   "metadata": {},
   "source": [
    "### Variable Transformations"
   ]
  },
  {
   "cell_type": "markdown",
   "id": "ceaef67e-fcfe-4b0f-bef0-9386a337dada",
   "metadata": {
    "tags": []
   },
   "source": [
    "Add 'age' of home to be time since build or latest remodel. Assume data is from 2011"
   ]
  },
  {
   "cell_type": "code",
   "execution_count": 9,
   "id": "c267f586-4858-46c3-a477-f5065a56dd55",
   "metadata": {
    "tags": []
   },
   "outputs": [
    {
     "data": {
      "text/plain": [
       "YearRemod/Add\n",
       "1950    262\n",
       "1951     10\n",
       "1952      9\n",
       "1953     18\n",
       "1954     17\n",
       "       ... \n",
       "2006    139\n",
       "2007    123\n",
       "2008     55\n",
       "2009     23\n",
       "2010      8\n",
       "Name: YearRemod/Add, Length: 61, dtype: int64"
      ]
     },
     "execution_count": 9,
     "metadata": {},
     "output_type": "execute_result"
    }
   ],
   "source": [
    "housing_init['YearRemod/Add'].groupby(housing_init['YearRemod/Add']).count()"
   ]
  },
  {
   "cell_type": "code",
   "execution_count": 10,
   "id": "aed77c40-730f-4586-a05a-5e12810d6b43",
   "metadata": {
    "tags": []
   },
   "outputs": [],
   "source": [
    "housing_init['Age'] = 2011 - housing_init['YearRemod/Add']"
   ]
  },
  {
   "cell_type": "code",
   "execution_count": 11,
   "id": "910729cc-64f8-49d1-b68f-1348bd1b8dae",
   "metadata": {
    "tags": []
   },
   "outputs": [],
   "source": [
    "housing_init.drop(columns =['YearRemod/Add'], inplace= True)"
   ]
  },
  {
   "cell_type": "code",
   "execution_count": 12,
   "id": "1f38339f-5e55-4ffd-93d2-ddf13b1c1dd9",
   "metadata": {
    "tags": []
   },
   "outputs": [
    {
     "data": {
      "text/plain": [
       "count    2051.000000\n",
       "mean       26.809849\n",
       "std        21.036250\n",
       "min         1.000000\n",
       "25%         7.000000\n",
       "50%        18.000000\n",
       "75%        46.500000\n",
       "max        61.000000\n",
       "Name: Age, dtype: float64"
      ]
     },
     "execution_count": 12,
     "metadata": {},
     "output_type": "execute_result"
    }
   ],
   "source": [
    "# Ages range from 1-61 years, which makes sense \n",
    "housing_init['Age'].describe()"
   ]
  },
  {
   "cell_type": "markdown",
   "id": "0271d44f-8aac-4f40-ae61-8e4eea4ca805",
   "metadata": {
    "tags": []
   },
   "source": [
    "Add 'TotalBaths' as new variable, adding up basement full bathrooms, basement half bathrooms, full bathrooms above grade, and half bathrooms above grade. "
   ]
  },
  {
   "cell_type": "code",
   "execution_count": 13,
   "id": "8413d8e2-ea25-40e6-9e23-a6f023a2318c",
   "metadata": {
    "tags": []
   },
   "outputs": [],
   "source": [
    "housing_init['TotalBaths'] = housing_init['BsmtFullBath'] + 0.5*housing_init['BsmtHalfBath'] + housing_init['FullBath'] + 0.5*housing_init['HalfBath']"
   ]
  },
  {
   "cell_type": "code",
   "execution_count": 14,
   "id": "e0acae37-0b97-43dd-8ea0-c3e7f40e274c",
   "metadata": {
    "tags": []
   },
   "outputs": [
    {
     "data": {
      "text/plain": [
       "count    2051.000000\n",
       "mean        2.221599\n",
       "std         0.807294\n",
       "min         1.000000\n",
       "25%         2.000000\n",
       "50%         2.000000\n",
       "75%         3.000000\n",
       "max         7.000000\n",
       "Name: TotalBaths, dtype: float64"
      ]
     },
     "execution_count": 14,
     "metadata": {},
     "output_type": "execute_result"
    }
   ],
   "source": [
    "housing_init['TotalBaths'].describe()"
   ]
  },
  {
   "cell_type": "code",
   "execution_count": 15,
   "id": "e15c69ba-79d3-4ae7-b83f-10244f4d4137",
   "metadata": {
    "tags": []
   },
   "outputs": [],
   "source": [
    "housing_init.drop(columns =['BsmtFullBath', 'BsmtHalfBath', 'FullBath', 'HalfBath'], inplace= True)"
   ]
  },
  {
   "cell_type": "markdown",
   "id": "35eba827-39dd-4f82-8443-3407cac4aa05",
   "metadata": {
    "tags": []
   },
   "source": [
    "Add 'OutdoorSF' as outdoor square feet, which represents the sum of wood deck, open porch, enclosed porch, 3 screen porch and screen porch square feet. "
   ]
  },
  {
   "cell_type": "code",
   "execution_count": 16,
   "id": "c7d5bd1b-876c-4538-ae70-566fd72857d2",
   "metadata": {
    "tags": []
   },
   "outputs": [],
   "source": [
    "housing_init['OutdoorSF'] = housing_init['WoodDeckSF'] + housing_init['OpenPorchSF'] + housing_init['EnclosedPorch'] + housing_init['3SsnPorch'] + housing_init['ScreenPorch'] "
   ]
  },
  {
   "cell_type": "code",
   "execution_count": 17,
   "id": "0f1645c0-cc16-42af-8961-7c8c7b2653e9",
   "metadata": {
    "tags": []
   },
   "outputs": [
    {
     "data": {
      "text/plain": [
       "count    2051.000000\n",
       "mean      183.065334\n",
       "std       160.116258\n",
       "min         0.000000\n",
       "25%        49.000000\n",
       "50%       164.000000\n",
       "75%       268.000000\n",
       "max      1424.000000\n",
       "Name: OutdoorSF, dtype: float64"
      ]
     },
     "execution_count": 17,
     "metadata": {},
     "output_type": "execute_result"
    }
   ],
   "source": [
    "housing_init['OutdoorSF'].describe()"
   ]
  },
  {
   "cell_type": "code",
   "execution_count": 18,
   "id": "74deb26c-5fd5-422c-93a6-21e3d5fc7dd1",
   "metadata": {
    "tags": []
   },
   "outputs": [],
   "source": [
    "housing_init.drop(columns =['WoodDeckSF', 'OpenPorchSF', 'EnclosedPorch', '3SsnPorch', 'ScreenPorch'], inplace= True)"
   ]
  },
  {
   "cell_type": "markdown",
   "id": "0ae8591d-b532-4fd8-9f6b-7b8bcd594c50",
   "metadata": {},
   "source": [
    "**Deal with MiscVal ($Value of miscellaneous feature). I want to add it to the model instead of having it as a variable**"
   ]
  },
  {
   "cell_type": "markdown",
   "id": "1651d816-56c5-4d4d-bfe5-762f7a59f4b2",
   "metadata": {},
   "source": [
    "Convert month sold into calendar year quarter (Q1 for Jan-Mar, etc.)"
   ]
  },
  {
   "cell_type": "code",
   "execution_count": 19,
   "id": "a131a47e-192b-46fb-9bd7-2d43cd7bb9e0",
   "metadata": {
    "tags": []
   },
   "outputs": [
    {
     "data": {
      "text/plain": [
       "count    2051.000000\n",
       "mean        6.219893\n",
       "std         2.744736\n",
       "min         1.000000\n",
       "25%         4.000000\n",
       "50%         6.000000\n",
       "75%         8.000000\n",
       "max        12.000000\n",
       "Name: MoSold, dtype: float64"
      ]
     },
     "execution_count": 19,
     "metadata": {},
     "output_type": "execute_result"
    }
   ],
   "source": [
    "# https://www.nar.realtor/blogs/economists-outlook/seasonality-in-the-housing-market\n",
    "housing_init['MoSold'].describe()"
   ]
  },
  {
   "cell_type": "code",
   "execution_count": 20,
   "id": "0fb863a8-fa31-43f1-bcb0-d4fbc5af1eaf",
   "metadata": {
    "tags": []
   },
   "outputs": [],
   "source": [
    "housing_init['Quarter'] = np.nan\n",
    "q = []\n",
    "for month in housing_init['MoSold']:\n",
    "    if month < 4:\n",
    "        q.append('Q1')\n",
    "    elif month < 7:\n",
    "        q.append('Q2')\n",
    "    elif month < 10:\n",
    "        q.append('Q3')\n",
    "    else:\n",
    "        q.append('Q4')\n",
    "\n",
    "housing_init['Quarter'] = q"
   ]
  },
  {
   "cell_type": "code",
   "execution_count": 21,
   "id": "bd0f7b8e-9de1-4130-a3ca-d9389e8a8a3a",
   "metadata": {
    "tags": []
   },
   "outputs": [
    {
     "data": {
      "text/plain": [
       "Quarter\n",
       "Q1    351\n",
       "Q2    817\n",
       "Q3    579\n",
       "Q4    304\n",
       "Name: Quarter, dtype: int64"
      ]
     },
     "execution_count": 21,
     "metadata": {},
     "output_type": "execute_result"
    }
   ],
   "source": [
    "housing_init['Quarter'].groupby(housing_init['Quarter']).count()"
   ]
  },
  {
   "cell_type": "code",
   "execution_count": 22,
   "id": "1a67343b-7b63-45d0-bbf2-81fad06daaf4",
   "metadata": {
    "tags": []
   },
   "outputs": [],
   "source": [
    "housing_init.drop(columns =['MoSold'], inplace=True)"
   ]
  },
  {
   "cell_type": "markdown",
   "id": "be416fef-2a0f-483b-9b71-b84e75fb0cc2",
   "metadata": {
    "tags": []
   },
   "source": [
    "Convert year to binary variable 'GFC', before and after 2008 (Great Financial Crisis) which negatively impacted real estate prices. "
   ]
  },
  {
   "cell_type": "code",
   "execution_count": 23,
   "id": "f0bdbbf8-e1e8-4158-a4a6-36b6f99939e6",
   "metadata": {
    "tags": []
   },
   "outputs": [
    {
     "data": {
      "text/plain": [
       "YrSold\n",
       "2006    179471.609589\n",
       "2007    185524.514056\n",
       "2008    181750.372414\n",
       "2009    182455.244395\n",
       "2010    174180.059829\n",
       "Name: SalePrice, dtype: float64"
      ]
     },
     "execution_count": 23,
     "metadata": {},
     "output_type": "execute_result"
    }
   ],
   "source": [
    "housing_init['SalePrice'].groupby(housing_init['YrSold']).mean()"
   ]
  },
  {
   "cell_type": "code",
   "execution_count": 24,
   "id": "626ed67a-c944-4712-aeac-de1136642a43",
   "metadata": {
    "tags": []
   },
   "outputs": [],
   "source": [
    "housing_init['GFC'] = np.nan\n",
    "year = []\n",
    "for yr in housing_init['YrSold']:\n",
    "    if yr > 2009:\n",
    "        year.append('0')\n",
    "    else:\n",
    "        year.append('1')\n",
    "\n",
    "housing_init['GFC'] = year"
   ]
  },
  {
   "cell_type": "code",
   "execution_count": 25,
   "id": "6701f7dc-571b-41f0-bc2f-ffedd7f9c14f",
   "metadata": {
    "tags": []
   },
   "outputs": [
    {
     "data": {
      "text/plain": [
       "GFC\n",
       "0     234\n",
       "1    1817\n",
       "Name: GFC, dtype: int64"
      ]
     },
     "execution_count": 25,
     "metadata": {},
     "output_type": "execute_result"
    }
   ],
   "source": [
    "housing_init['GFC'].groupby(housing_init['GFC']).count()"
   ]
  },
  {
   "cell_type": "code",
   "execution_count": 26,
   "id": "c365cf23-bdb1-43ac-a9e7-747d9baa0f85",
   "metadata": {
    "tags": []
   },
   "outputs": [],
   "source": [
    "housing_init.drop(columns =['YrSold'], inplace=True)"
   ]
  },
  {
   "cell_type": "markdown",
   "id": "a4cfd9aa-4170-4df2-970a-6039402a2ea8",
   "metadata": {},
   "source": [
    "### Variable Types"
   ]
  },
  {
   "cell_type": "code",
   "execution_count": 27,
   "id": "1be9a8f8-2ff8-42c4-a0c8-39c026c9f083",
   "metadata": {
    "tags": []
   },
   "outputs": [
    {
     "name": "stdout",
     "output_type": "stream",
     "text": [
      "<class 'pandas.core.frame.DataFrame'>\n",
      "RangeIndex: 2051 entries, 0 to 2050\n",
      "Data columns (total 21 columns):\n",
      " #   Column        Non-Null Count  Dtype  \n",
      "---  ------        --------------  -----  \n",
      " 0   MSSubClass    2051 non-null   int64  \n",
      " 1   MSZoning      2051 non-null   object \n",
      " 2   Neighborhood  2051 non-null   object \n",
      " 3   OverallQual   2051 non-null   int64  \n",
      " 4   OverallCond   2051 non-null   int64  \n",
      " 5   TotalBsmtSF   2051 non-null   float64\n",
      " 6   HeatingQC     2051 non-null   object \n",
      " 7   CentralAir    2051 non-null   object \n",
      " 8   GrLivArea     2051 non-null   int64  \n",
      " 9   TotRmsAbvGrd  2051 non-null   int64  \n",
      " 10  GarageCars    2051 non-null   float64\n",
      " 11  MiscVal       2051 non-null   int64  \n",
      " 12  Condition1    2051 non-null   object \n",
      " 13  Fireplaces    2051 non-null   int64  \n",
      " 14  PoolArea      2051 non-null   int64  \n",
      " 15  SalePrice     2051 non-null   int64  \n",
      " 16  Age           2051 non-null   int64  \n",
      " 17  TotalBaths    2051 non-null   float64\n",
      " 18  OutdoorSF     2051 non-null   int64  \n",
      " 19  Quarter       2051 non-null   object \n",
      " 20  GFC           2051 non-null   object \n",
      "dtypes: float64(3), int64(11), object(7)\n",
      "memory usage: 336.6+ KB\n"
     ]
    }
   ],
   "source": [
    "housing_init.info()"
   ]
  },
  {
   "cell_type": "code",
   "execution_count": 28,
   "id": "84602c81-c101-4e00-97b6-3b583d698bd0",
   "metadata": {
    "tags": []
   },
   "outputs": [],
   "source": [
    "# Convert variables to categorical (after TTS) \n",
    "housing_init_dummy = housing_init.drop(columns = ['TotalBsmtSF', 'GrLivArea', 'MiscVal', 'PoolArea', 'SalePrice', 'Age', 'OutdoorSF', 'TotRmsAbvGrd', 'GarageCars', 'Fireplaces', 'TotalBaths'])"
   ]
  },
  {
   "cell_type": "code",
   "execution_count": 29,
   "id": "702b68b8-6458-4684-9cb8-ed4d2caa40f1",
   "metadata": {
    "tags": []
   },
   "outputs": [],
   "source": [
    "# Do this after TTS\n",
    "# housing_init_dummy = pd.get_dummies(housing_init_dummy, drop_first = True)\n",
    "# housing_init_dummy"
   ]
  },
  {
   "cell_type": "code",
   "execution_count": 30,
   "id": "f329a3dc-9240-463c-94e0-2c24803e2bdd",
   "metadata": {
    "tags": []
   },
   "outputs": [
    {
     "data": {
      "text/html": [
       "<div>\n",
       "<style scoped>\n",
       "    .dataframe tbody tr th:only-of-type {\n",
       "        vertical-align: middle;\n",
       "    }\n",
       "\n",
       "    .dataframe tbody tr th {\n",
       "        vertical-align: top;\n",
       "    }\n",
       "\n",
       "    .dataframe thead th {\n",
       "        text-align: right;\n",
       "    }\n",
       "</style>\n",
       "<table border=\"1\" class=\"dataframe\">\n",
       "  <thead>\n",
       "    <tr style=\"text-align: right;\">\n",
       "      <th></th>\n",
       "      <th>TotalBsmtSF</th>\n",
       "      <th>GrLivArea</th>\n",
       "      <th>MiscVal</th>\n",
       "      <th>PoolArea</th>\n",
       "      <th>Age</th>\n",
       "      <th>OutdoorSF</th>\n",
       "      <th>TotRmsAbvGrd</th>\n",
       "      <th>GarageCars</th>\n",
       "      <th>Fireplaces</th>\n",
       "      <th>TotalBaths</th>\n",
       "    </tr>\n",
       "  </thead>\n",
       "  <tbody>\n",
       "    <tr>\n",
       "      <th>0</th>\n",
       "      <td>725.0</td>\n",
       "      <td>1479</td>\n",
       "      <td>0</td>\n",
       "      <td>0</td>\n",
       "      <td>6</td>\n",
       "      <td>44</td>\n",
       "      <td>6</td>\n",
       "      <td>2.0</td>\n",
       "      <td>0</td>\n",
       "      <td>2.5</td>\n",
       "    </tr>\n",
       "    <tr>\n",
       "      <th>1</th>\n",
       "      <td>913.0</td>\n",
       "      <td>2122</td>\n",
       "      <td>0</td>\n",
       "      <td>0</td>\n",
       "      <td>14</td>\n",
       "      <td>74</td>\n",
       "      <td>8</td>\n",
       "      <td>2.0</td>\n",
       "      <td>1</td>\n",
       "      <td>3.5</td>\n",
       "    </tr>\n",
       "    <tr>\n",
       "      <th>2</th>\n",
       "      <td>1057.0</td>\n",
       "      <td>1057</td>\n",
       "      <td>0</td>\n",
       "      <td>0</td>\n",
       "      <td>4</td>\n",
       "      <td>52</td>\n",
       "      <td>5</td>\n",
       "      <td>1.0</td>\n",
       "      <td>0</td>\n",
       "      <td>2.0</td>\n",
       "    </tr>\n",
       "    <tr>\n",
       "      <th>3</th>\n",
       "      <td>384.0</td>\n",
       "      <td>1444</td>\n",
       "      <td>0</td>\n",
       "      <td>0</td>\n",
       "      <td>4</td>\n",
       "      <td>100</td>\n",
       "      <td>7</td>\n",
       "      <td>2.0</td>\n",
       "      <td>0</td>\n",
       "      <td>2.5</td>\n",
       "    </tr>\n",
       "    <tr>\n",
       "      <th>4</th>\n",
       "      <td>676.0</td>\n",
       "      <td>1445</td>\n",
       "      <td>0</td>\n",
       "      <td>0</td>\n",
       "      <td>18</td>\n",
       "      <td>59</td>\n",
       "      <td>6</td>\n",
       "      <td>2.0</td>\n",
       "      <td>0</td>\n",
       "      <td>2.0</td>\n",
       "    </tr>\n",
       "    <tr>\n",
       "      <th>...</th>\n",
       "      <td>...</td>\n",
       "      <td>...</td>\n",
       "      <td>...</td>\n",
       "      <td>...</td>\n",
       "      <td>...</td>\n",
       "      <td>...</td>\n",
       "      <td>...</td>\n",
       "      <td>...</td>\n",
       "      <td>...</td>\n",
       "      <td>...</td>\n",
       "    </tr>\n",
       "    <tr>\n",
       "      <th>2046</th>\n",
       "      <td>1884.0</td>\n",
       "      <td>1728</td>\n",
       "      <td>0</td>\n",
       "      <td>0</td>\n",
       "      <td>4</td>\n",
       "      <td>276</td>\n",
       "      <td>7</td>\n",
       "      <td>2.0</td>\n",
       "      <td>1</td>\n",
       "      <td>3.0</td>\n",
       "    </tr>\n",
       "    <tr>\n",
       "      <th>2047</th>\n",
       "      <td>861.0</td>\n",
       "      <td>861</td>\n",
       "      <td>0</td>\n",
       "      <td>0</td>\n",
       "      <td>61</td>\n",
       "      <td>158</td>\n",
       "      <td>4</td>\n",
       "      <td>2.0</td>\n",
       "      <td>0</td>\n",
       "      <td>1.0</td>\n",
       "    </tr>\n",
       "    <tr>\n",
       "      <th>2048</th>\n",
       "      <td>896.0</td>\n",
       "      <td>1913</td>\n",
       "      <td>0</td>\n",
       "      <td>0</td>\n",
       "      <td>61</td>\n",
       "      <td>0</td>\n",
       "      <td>9</td>\n",
       "      <td>2.0</td>\n",
       "      <td>1</td>\n",
       "      <td>1.5</td>\n",
       "    </tr>\n",
       "    <tr>\n",
       "      <th>2049</th>\n",
       "      <td>1200.0</td>\n",
       "      <td>1200</td>\n",
       "      <td>0</td>\n",
       "      <td>0</td>\n",
       "      <td>55</td>\n",
       "      <td>329</td>\n",
       "      <td>6</td>\n",
       "      <td>1.0</td>\n",
       "      <td>2</td>\n",
       "      <td>2.0</td>\n",
       "    </tr>\n",
       "    <tr>\n",
       "      <th>2050</th>\n",
       "      <td>994.0</td>\n",
       "      <td>1804</td>\n",
       "      <td>0</td>\n",
       "      <td>0</td>\n",
       "      <td>12</td>\n",
       "      <td>200</td>\n",
       "      <td>7</td>\n",
       "      <td>2.0</td>\n",
       "      <td>1</td>\n",
       "      <td>2.5</td>\n",
       "    </tr>\n",
       "  </tbody>\n",
       "</table>\n",
       "<p>2051 rows × 10 columns</p>\n",
       "</div>"
      ],
      "text/plain": [
       "      TotalBsmtSF  GrLivArea  MiscVal  PoolArea  Age  OutdoorSF  TotRmsAbvGrd  \\\n",
       "0           725.0       1479        0         0    6         44             6   \n",
       "1           913.0       2122        0         0   14         74             8   \n",
       "2          1057.0       1057        0         0    4         52             5   \n",
       "3           384.0       1444        0         0    4        100             7   \n",
       "4           676.0       1445        0         0   18         59             6   \n",
       "...           ...        ...      ...       ...  ...        ...           ...   \n",
       "2046       1884.0       1728        0         0    4        276             7   \n",
       "2047        861.0        861        0         0   61        158             4   \n",
       "2048        896.0       1913        0         0   61          0             9   \n",
       "2049       1200.0       1200        0         0   55        329             6   \n",
       "2050        994.0       1804        0         0   12        200             7   \n",
       "\n",
       "      GarageCars  Fireplaces  TotalBaths  \n",
       "0            2.0           0         2.5  \n",
       "1            2.0           1         3.5  \n",
       "2            1.0           0         2.0  \n",
       "3            2.0           0         2.5  \n",
       "4            2.0           0         2.0  \n",
       "...          ...         ...         ...  \n",
       "2046         2.0           1         3.0  \n",
       "2047         2.0           0         1.0  \n",
       "2048         2.0           1         1.5  \n",
       "2049         1.0           2         2.0  \n",
       "2050         2.0           1         2.5  \n",
       "\n",
       "[2051 rows x 10 columns]"
      ]
     },
     "execution_count": 30,
     "metadata": {},
     "output_type": "execute_result"
    }
   ],
   "source": [
    "# Numeric variables\n",
    "housing_init_num = housing_init[['TotalBsmtSF', 'GrLivArea', 'MiscVal', 'PoolArea', 'Age', 'OutdoorSF', 'TotRmsAbvGrd', 'GarageCars', 'Fireplaces', 'TotalBaths']]\n",
    "housing_init_num"
   ]
  },
  {
   "cell_type": "code",
   "execution_count": 31,
   "id": "c38c8e7c-168a-4d8e-a3ea-edd8d4fb9e59",
   "metadata": {
    "tags": []
   },
   "outputs": [],
   "source": [
    "# Create combined new data set for X variables\n",
    "# https://pandas.pydata.org/docs/reference/api/pandas.concat.html\n",
    "housing_xvars = pd.concat([housing_init_dummy, housing_init_num], axis=1)"
   ]
  },
  {
   "cell_type": "code",
   "execution_count": 32,
   "id": "751e1b24-a1ec-4264-95e1-5bc067ba08aa",
   "metadata": {
    "tags": []
   },
   "outputs": [
    {
     "data": {
      "text/html": [
       "<div>\n",
       "<style scoped>\n",
       "    .dataframe tbody tr th:only-of-type {\n",
       "        vertical-align: middle;\n",
       "    }\n",
       "\n",
       "    .dataframe tbody tr th {\n",
       "        vertical-align: top;\n",
       "    }\n",
       "\n",
       "    .dataframe thead th {\n",
       "        text-align: right;\n",
       "    }\n",
       "</style>\n",
       "<table border=\"1\" class=\"dataframe\">\n",
       "  <thead>\n",
       "    <tr style=\"text-align: right;\">\n",
       "      <th></th>\n",
       "      <th>MSSubClass</th>\n",
       "      <th>MSZoning</th>\n",
       "      <th>Neighborhood</th>\n",
       "      <th>OverallQual</th>\n",
       "      <th>OverallCond</th>\n",
       "      <th>HeatingQC</th>\n",
       "      <th>CentralAir</th>\n",
       "      <th>Condition1</th>\n",
       "      <th>Quarter</th>\n",
       "      <th>GFC</th>\n",
       "      <th>TotalBsmtSF</th>\n",
       "      <th>GrLivArea</th>\n",
       "      <th>MiscVal</th>\n",
       "      <th>PoolArea</th>\n",
       "      <th>Age</th>\n",
       "      <th>OutdoorSF</th>\n",
       "      <th>TotRmsAbvGrd</th>\n",
       "      <th>GarageCars</th>\n",
       "      <th>Fireplaces</th>\n",
       "      <th>TotalBaths</th>\n",
       "    </tr>\n",
       "  </thead>\n",
       "  <tbody>\n",
       "    <tr>\n",
       "      <th>0</th>\n",
       "      <td>60</td>\n",
       "      <td>RL</td>\n",
       "      <td>Sawyer</td>\n",
       "      <td>6</td>\n",
       "      <td>8</td>\n",
       "      <td>Ex</td>\n",
       "      <td>Y</td>\n",
       "      <td>RRAe</td>\n",
       "      <td>Q1</td>\n",
       "      <td>0</td>\n",
       "      <td>725.0</td>\n",
       "      <td>1479</td>\n",
       "      <td>0</td>\n",
       "      <td>0</td>\n",
       "      <td>6</td>\n",
       "      <td>44</td>\n",
       "      <td>6</td>\n",
       "      <td>2.0</td>\n",
       "      <td>0</td>\n",
       "      <td>2.5</td>\n",
       "    </tr>\n",
       "    <tr>\n",
       "      <th>1</th>\n",
       "      <td>60</td>\n",
       "      <td>RL</td>\n",
       "      <td>SawyerW</td>\n",
       "      <td>7</td>\n",
       "      <td>5</td>\n",
       "      <td>Ex</td>\n",
       "      <td>Y</td>\n",
       "      <td>Norm</td>\n",
       "      <td>Q2</td>\n",
       "      <td>1</td>\n",
       "      <td>913.0</td>\n",
       "      <td>2122</td>\n",
       "      <td>0</td>\n",
       "      <td>0</td>\n",
       "      <td>14</td>\n",
       "      <td>74</td>\n",
       "      <td>8</td>\n",
       "      <td>2.0</td>\n",
       "      <td>1</td>\n",
       "      <td>3.5</td>\n",
       "    </tr>\n",
       "    <tr>\n",
       "      <th>2</th>\n",
       "      <td>20</td>\n",
       "      <td>RL</td>\n",
       "      <td>NAmes</td>\n",
       "      <td>5</td>\n",
       "      <td>7</td>\n",
       "      <td>TA</td>\n",
       "      <td>Y</td>\n",
       "      <td>Norm</td>\n",
       "      <td>Q1</td>\n",
       "      <td>0</td>\n",
       "      <td>1057.0</td>\n",
       "      <td>1057</td>\n",
       "      <td>0</td>\n",
       "      <td>0</td>\n",
       "      <td>4</td>\n",
       "      <td>52</td>\n",
       "      <td>5</td>\n",
       "      <td>1.0</td>\n",
       "      <td>0</td>\n",
       "      <td>2.0</td>\n",
       "    </tr>\n",
       "    <tr>\n",
       "      <th>3</th>\n",
       "      <td>60</td>\n",
       "      <td>RL</td>\n",
       "      <td>Timber</td>\n",
       "      <td>5</td>\n",
       "      <td>5</td>\n",
       "      <td>Gd</td>\n",
       "      <td>Y</td>\n",
       "      <td>Norm</td>\n",
       "      <td>Q2</td>\n",
       "      <td>0</td>\n",
       "      <td>384.0</td>\n",
       "      <td>1444</td>\n",
       "      <td>0</td>\n",
       "      <td>0</td>\n",
       "      <td>4</td>\n",
       "      <td>100</td>\n",
       "      <td>7</td>\n",
       "      <td>2.0</td>\n",
       "      <td>0</td>\n",
       "      <td>2.5</td>\n",
       "    </tr>\n",
       "    <tr>\n",
       "      <th>4</th>\n",
       "      <td>50</td>\n",
       "      <td>RL</td>\n",
       "      <td>SawyerW</td>\n",
       "      <td>6</td>\n",
       "      <td>8</td>\n",
       "      <td>TA</td>\n",
       "      <td>Y</td>\n",
       "      <td>Norm</td>\n",
       "      <td>Q1</td>\n",
       "      <td>0</td>\n",
       "      <td>676.0</td>\n",
       "      <td>1445</td>\n",
       "      <td>0</td>\n",
       "      <td>0</td>\n",
       "      <td>18</td>\n",
       "      <td>59</td>\n",
       "      <td>6</td>\n",
       "      <td>2.0</td>\n",
       "      <td>0</td>\n",
       "      <td>2.0</td>\n",
       "    </tr>\n",
       "  </tbody>\n",
       "</table>\n",
       "</div>"
      ],
      "text/plain": [
       "   MSSubClass MSZoning Neighborhood  OverallQual  OverallCond HeatingQC  \\\n",
       "0          60       RL       Sawyer            6            8        Ex   \n",
       "1          60       RL      SawyerW            7            5        Ex   \n",
       "2          20       RL        NAmes            5            7        TA   \n",
       "3          60       RL       Timber            5            5        Gd   \n",
       "4          50       RL      SawyerW            6            8        TA   \n",
       "\n",
       "  CentralAir Condition1 Quarter GFC  TotalBsmtSF  GrLivArea  MiscVal  \\\n",
       "0          Y       RRAe      Q1   0        725.0       1479        0   \n",
       "1          Y       Norm      Q2   1        913.0       2122        0   \n",
       "2          Y       Norm      Q1   0       1057.0       1057        0   \n",
       "3          Y       Norm      Q2   0        384.0       1444        0   \n",
       "4          Y       Norm      Q1   0        676.0       1445        0   \n",
       "\n",
       "   PoolArea  Age  OutdoorSF  TotRmsAbvGrd  GarageCars  Fireplaces  TotalBaths  \n",
       "0         0    6         44             6         2.0           0         2.5  \n",
       "1         0   14         74             8         2.0           1         3.5  \n",
       "2         0    4         52             5         1.0           0         2.0  \n",
       "3         0    4        100             7         2.0           0         2.5  \n",
       "4         0   18         59             6         2.0           0         2.0  "
      ]
     },
     "execution_count": 32,
     "metadata": {},
     "output_type": "execute_result"
    }
   ],
   "source": [
    "housing_xvars.head()"
   ]
  },
  {
   "cell_type": "code",
   "execution_count": 33,
   "id": "99cec1ea-63b2-475b-930b-d6d315c1132f",
   "metadata": {
    "tags": []
   },
   "outputs": [
    {
     "name": "stdout",
     "output_type": "stream",
     "text": [
      "<class 'pandas.core.frame.DataFrame'>\n",
      "RangeIndex: 2051 entries, 0 to 2050\n",
      "Data columns (total 20 columns):\n",
      " #   Column        Non-Null Count  Dtype  \n",
      "---  ------        --------------  -----  \n",
      " 0   MSSubClass    2051 non-null   int64  \n",
      " 1   MSZoning      2051 non-null   object \n",
      " 2   Neighborhood  2051 non-null   object \n",
      " 3   OverallQual   2051 non-null   int64  \n",
      " 4   OverallCond   2051 non-null   int64  \n",
      " 5   HeatingQC     2051 non-null   object \n",
      " 6   CentralAir    2051 non-null   object \n",
      " 7   Condition1    2051 non-null   object \n",
      " 8   Quarter       2051 non-null   object \n",
      " 9   GFC           2051 non-null   object \n",
      " 10  TotalBsmtSF   2051 non-null   float64\n",
      " 11  GrLivArea     2051 non-null   int64  \n",
      " 12  MiscVal       2051 non-null   int64  \n",
      " 13  PoolArea      2051 non-null   int64  \n",
      " 14  Age           2051 non-null   int64  \n",
      " 15  OutdoorSF     2051 non-null   int64  \n",
      " 16  TotRmsAbvGrd  2051 non-null   int64  \n",
      " 17  GarageCars    2051 non-null   float64\n",
      " 18  Fireplaces    2051 non-null   int64  \n",
      " 19  TotalBaths    2051 non-null   float64\n",
      "dtypes: float64(3), int64(10), object(7)\n",
      "memory usage: 320.6+ KB\n"
     ]
    }
   ],
   "source": [
    "housing_xvars.info()"
   ]
  },
  {
   "cell_type": "markdown",
   "id": "3651247d-2d73-4122-8cf0-edc2c2269dc8",
   "metadata": {},
   "source": [
    "# Preproccesing "
   ]
  },
  {
   "cell_type": "code",
   "execution_count": 36,
   "id": "0a1b8dda-17d8-4983-9cd5-e5a03fa1266a",
   "metadata": {
    "tags": []
   },
   "outputs": [
    {
     "name": "stderr",
     "output_type": "stream",
     "text": [
      "C:\\Users\\13478\\anaconda3\\Lib\\site-packages\\sklearn\\preprocessing\\_encoders.py:972: FutureWarning: `sparse` was renamed to `sparse_output` in version 1.2 and will be removed in 1.4. `sparse_output` is ignored unless you leave `sparse` to its default value.\n",
      "  warnings.warn(\n"
     ]
    }
   ],
   "source": [
    "# Convert variables to categorical with OHE\n",
    "oh = OneHotEncoder(sparse = False, drop = 'first')\n",
    "housing_init_dummy_oh = oh.fit_transform(housing_init_dummy)\n",
    "# housing_xvars_oh = pd.concat([housing_init_dummy_oh, housing_init_num], axis=1)\n",
    "# housing_init_dummy = pd.get_dummies(housing_init_dummy, drop_first = True)\n",
    "# housing_init_dummy\n",
    "# pd.DataFrame(housing_init_dummy_oh)\n",
    "# housing_init_dummy_oh.shape\n"
   ]
  },
  {
   "cell_type": "code",
   "execution_count": 37,
   "id": "fff358fe-0cce-48b9-98cc-0d3061c62a19",
   "metadata": {
    "tags": []
   },
   "outputs": [
    {
     "data": {
      "text/plain": [
       "array([[0., 0., 0., ..., 0., 0., 0.],\n",
       "       [0., 0., 0., ..., 0., 0., 1.],\n",
       "       [0., 0., 0., ..., 0., 0., 0.],\n",
       "       ...,\n",
       "       [0., 0., 0., ..., 0., 0., 1.],\n",
       "       [0., 0., 0., ..., 0., 1., 1.],\n",
       "       [0., 0., 0., ..., 0., 0., 0.]])"
      ]
     },
     "execution_count": 37,
     "metadata": {},
     "output_type": "execute_result"
    }
   ],
   "source": [
    "housing_init_dummy_oh"
   ]
  },
  {
   "cell_type": "code",
   "execution_count": 38,
   "id": "fc04b3d7-872f-49f0-8692-b9a9b46ddc00",
   "metadata": {},
   "outputs": [
    {
     "data": {
      "text/plain": [
       "array(['MSSubClass_30', 'MSSubClass_40', 'MSSubClass_45', 'MSSubClass_50',\n",
       "       'MSSubClass_60', 'MSSubClass_70', 'MSSubClass_75', 'MSSubClass_80',\n",
       "       'MSSubClass_85', 'MSSubClass_90', 'MSSubClass_120',\n",
       "       'MSSubClass_150', 'MSSubClass_160', 'MSSubClass_180',\n",
       "       'MSSubClass_190', 'MSZoning_C (all)', 'MSZoning_FV',\n",
       "       'MSZoning_I (all)', 'MSZoning_RH', 'MSZoning_RL', 'MSZoning_RM',\n",
       "       'Neighborhood_Blueste', 'Neighborhood_BrDale',\n",
       "       'Neighborhood_BrkSide', 'Neighborhood_ClearCr',\n",
       "       'Neighborhood_CollgCr', 'Neighborhood_Crawfor',\n",
       "       'Neighborhood_Edwards', 'Neighborhood_Gilbert',\n",
       "       'Neighborhood_Greens', 'Neighborhood_GrnHill',\n",
       "       'Neighborhood_IDOTRR', 'Neighborhood_Landmrk',\n",
       "       'Neighborhood_MeadowV', 'Neighborhood_Mitchel',\n",
       "       'Neighborhood_NAmes', 'Neighborhood_NPkVill',\n",
       "       'Neighborhood_NWAmes', 'Neighborhood_NoRidge',\n",
       "       'Neighborhood_NridgHt', 'Neighborhood_OldTown',\n",
       "       'Neighborhood_SWISU', 'Neighborhood_Sawyer',\n",
       "       'Neighborhood_SawyerW', 'Neighborhood_Somerst',\n",
       "       'Neighborhood_StoneBr', 'Neighborhood_Timber',\n",
       "       'Neighborhood_Veenker', 'OverallQual_2', 'OverallQual_3',\n",
       "       'OverallQual_4', 'OverallQual_5', 'OverallQual_6', 'OverallQual_7',\n",
       "       'OverallQual_8', 'OverallQual_9', 'OverallQual_10',\n",
       "       'OverallCond_2', 'OverallCond_3', 'OverallCond_4', 'OverallCond_5',\n",
       "       'OverallCond_6', 'OverallCond_7', 'OverallCond_8', 'OverallCond_9',\n",
       "       'HeatingQC_Fa', 'HeatingQC_Gd', 'HeatingQC_Po', 'HeatingQC_TA',\n",
       "       'CentralAir_Y', 'Condition1_Feedr', 'Condition1_Norm',\n",
       "       'Condition1_PosA', 'Condition1_PosN', 'Condition1_RRAe',\n",
       "       'Condition1_RRAn', 'Condition1_RRNe', 'Condition1_RRNn',\n",
       "       'Quarter_Q2', 'Quarter_Q3', 'Quarter_Q4', 'GFC_1'], dtype=object)"
      ]
     },
     "execution_count": 38,
     "metadata": {},
     "output_type": "execute_result"
    }
   ],
   "source": [
    "oh.get_feature_names_out()"
   ]
  },
  {
   "cell_type": "code",
   "execution_count": 39,
   "id": "5664ba10-3211-46e3-ae88-c291de36089f",
   "metadata": {
    "tags": []
   },
   "outputs": [],
   "source": [
    "# pd.DataFrame(housing_init_dummy_oh, columns = oh.get_feature_names_out())"
   ]
  },
  {
   "cell_type": "code",
   "execution_count": 40,
   "id": "ffe8440b-aa6d-437d-b417-224410e59959",
   "metadata": {
    "tags": []
   },
   "outputs": [],
   "source": [
    "housing_xvars_oh = pd.concat([pd.DataFrame(housing_init_dummy_oh, columns = oh.get_feature_names_out()), housing_init_num], axis=1)"
   ]
  },
  {
   "cell_type": "code",
   "execution_count": 41,
   "id": "a4b3299a-2447-4d40-92e7-af036bdca7b4",
   "metadata": {
    "tags": []
   },
   "outputs": [
    {
     "data": {
      "text/html": [
       "<div>\n",
       "<style scoped>\n",
       "    .dataframe tbody tr th:only-of-type {\n",
       "        vertical-align: middle;\n",
       "    }\n",
       "\n",
       "    .dataframe tbody tr th {\n",
       "        vertical-align: top;\n",
       "    }\n",
       "\n",
       "    .dataframe thead th {\n",
       "        text-align: right;\n",
       "    }\n",
       "</style>\n",
       "<table border=\"1\" class=\"dataframe\">\n",
       "  <thead>\n",
       "    <tr style=\"text-align: right;\">\n",
       "      <th></th>\n",
       "      <th>MSSubClass_30</th>\n",
       "      <th>MSSubClass_40</th>\n",
       "      <th>MSSubClass_45</th>\n",
       "      <th>MSSubClass_50</th>\n",
       "      <th>MSSubClass_60</th>\n",
       "      <th>MSSubClass_70</th>\n",
       "      <th>MSSubClass_75</th>\n",
       "      <th>MSSubClass_80</th>\n",
       "      <th>MSSubClass_85</th>\n",
       "      <th>MSSubClass_90</th>\n",
       "      <th>...</th>\n",
       "      <th>TotalBsmtSF</th>\n",
       "      <th>GrLivArea</th>\n",
       "      <th>MiscVal</th>\n",
       "      <th>PoolArea</th>\n",
       "      <th>Age</th>\n",
       "      <th>OutdoorSF</th>\n",
       "      <th>TotRmsAbvGrd</th>\n",
       "      <th>GarageCars</th>\n",
       "      <th>Fireplaces</th>\n",
       "      <th>TotalBaths</th>\n",
       "    </tr>\n",
       "  </thead>\n",
       "  <tbody>\n",
       "    <tr>\n",
       "      <th>0</th>\n",
       "      <td>0.0</td>\n",
       "      <td>0.0</td>\n",
       "      <td>0.0</td>\n",
       "      <td>0.0</td>\n",
       "      <td>1.0</td>\n",
       "      <td>0.0</td>\n",
       "      <td>0.0</td>\n",
       "      <td>0.0</td>\n",
       "      <td>0.0</td>\n",
       "      <td>0.0</td>\n",
       "      <td>...</td>\n",
       "      <td>725.0</td>\n",
       "      <td>1479</td>\n",
       "      <td>0</td>\n",
       "      <td>0</td>\n",
       "      <td>6</td>\n",
       "      <td>44</td>\n",
       "      <td>6</td>\n",
       "      <td>2.0</td>\n",
       "      <td>0</td>\n",
       "      <td>2.5</td>\n",
       "    </tr>\n",
       "    <tr>\n",
       "      <th>1</th>\n",
       "      <td>0.0</td>\n",
       "      <td>0.0</td>\n",
       "      <td>0.0</td>\n",
       "      <td>0.0</td>\n",
       "      <td>1.0</td>\n",
       "      <td>0.0</td>\n",
       "      <td>0.0</td>\n",
       "      <td>0.0</td>\n",
       "      <td>0.0</td>\n",
       "      <td>0.0</td>\n",
       "      <td>...</td>\n",
       "      <td>913.0</td>\n",
       "      <td>2122</td>\n",
       "      <td>0</td>\n",
       "      <td>0</td>\n",
       "      <td>14</td>\n",
       "      <td>74</td>\n",
       "      <td>8</td>\n",
       "      <td>2.0</td>\n",
       "      <td>1</td>\n",
       "      <td>3.5</td>\n",
       "    </tr>\n",
       "    <tr>\n",
       "      <th>2</th>\n",
       "      <td>0.0</td>\n",
       "      <td>0.0</td>\n",
       "      <td>0.0</td>\n",
       "      <td>0.0</td>\n",
       "      <td>0.0</td>\n",
       "      <td>0.0</td>\n",
       "      <td>0.0</td>\n",
       "      <td>0.0</td>\n",
       "      <td>0.0</td>\n",
       "      <td>0.0</td>\n",
       "      <td>...</td>\n",
       "      <td>1057.0</td>\n",
       "      <td>1057</td>\n",
       "      <td>0</td>\n",
       "      <td>0</td>\n",
       "      <td>4</td>\n",
       "      <td>52</td>\n",
       "      <td>5</td>\n",
       "      <td>1.0</td>\n",
       "      <td>0</td>\n",
       "      <td>2.0</td>\n",
       "    </tr>\n",
       "    <tr>\n",
       "      <th>3</th>\n",
       "      <td>0.0</td>\n",
       "      <td>0.0</td>\n",
       "      <td>0.0</td>\n",
       "      <td>0.0</td>\n",
       "      <td>1.0</td>\n",
       "      <td>0.0</td>\n",
       "      <td>0.0</td>\n",
       "      <td>0.0</td>\n",
       "      <td>0.0</td>\n",
       "      <td>0.0</td>\n",
       "      <td>...</td>\n",
       "      <td>384.0</td>\n",
       "      <td>1444</td>\n",
       "      <td>0</td>\n",
       "      <td>0</td>\n",
       "      <td>4</td>\n",
       "      <td>100</td>\n",
       "      <td>7</td>\n",
       "      <td>2.0</td>\n",
       "      <td>0</td>\n",
       "      <td>2.5</td>\n",
       "    </tr>\n",
       "    <tr>\n",
       "      <th>4</th>\n",
       "      <td>0.0</td>\n",
       "      <td>0.0</td>\n",
       "      <td>0.0</td>\n",
       "      <td>1.0</td>\n",
       "      <td>0.0</td>\n",
       "      <td>0.0</td>\n",
       "      <td>0.0</td>\n",
       "      <td>0.0</td>\n",
       "      <td>0.0</td>\n",
       "      <td>0.0</td>\n",
       "      <td>...</td>\n",
       "      <td>676.0</td>\n",
       "      <td>1445</td>\n",
       "      <td>0</td>\n",
       "      <td>0</td>\n",
       "      <td>18</td>\n",
       "      <td>59</td>\n",
       "      <td>6</td>\n",
       "      <td>2.0</td>\n",
       "      <td>0</td>\n",
       "      <td>2.0</td>\n",
       "    </tr>\n",
       "    <tr>\n",
       "      <th>...</th>\n",
       "      <td>...</td>\n",
       "      <td>...</td>\n",
       "      <td>...</td>\n",
       "      <td>...</td>\n",
       "      <td>...</td>\n",
       "      <td>...</td>\n",
       "      <td>...</td>\n",
       "      <td>...</td>\n",
       "      <td>...</td>\n",
       "      <td>...</td>\n",
       "      <td>...</td>\n",
       "      <td>...</td>\n",
       "      <td>...</td>\n",
       "      <td>...</td>\n",
       "      <td>...</td>\n",
       "      <td>...</td>\n",
       "      <td>...</td>\n",
       "      <td>...</td>\n",
       "      <td>...</td>\n",
       "      <td>...</td>\n",
       "      <td>...</td>\n",
       "    </tr>\n",
       "    <tr>\n",
       "      <th>2046</th>\n",
       "      <td>0.0</td>\n",
       "      <td>0.0</td>\n",
       "      <td>0.0</td>\n",
       "      <td>0.0</td>\n",
       "      <td>0.0</td>\n",
       "      <td>0.0</td>\n",
       "      <td>0.0</td>\n",
       "      <td>0.0</td>\n",
       "      <td>0.0</td>\n",
       "      <td>0.0</td>\n",
       "      <td>...</td>\n",
       "      <td>1884.0</td>\n",
       "      <td>1728</td>\n",
       "      <td>0</td>\n",
       "      <td>0</td>\n",
       "      <td>4</td>\n",
       "      <td>276</td>\n",
       "      <td>7</td>\n",
       "      <td>2.0</td>\n",
       "      <td>1</td>\n",
       "      <td>3.0</td>\n",
       "    </tr>\n",
       "    <tr>\n",
       "      <th>2047</th>\n",
       "      <td>1.0</td>\n",
       "      <td>0.0</td>\n",
       "      <td>0.0</td>\n",
       "      <td>0.0</td>\n",
       "      <td>0.0</td>\n",
       "      <td>0.0</td>\n",
       "      <td>0.0</td>\n",
       "      <td>0.0</td>\n",
       "      <td>0.0</td>\n",
       "      <td>0.0</td>\n",
       "      <td>...</td>\n",
       "      <td>861.0</td>\n",
       "      <td>861</td>\n",
       "      <td>0</td>\n",
       "      <td>0</td>\n",
       "      <td>61</td>\n",
       "      <td>158</td>\n",
       "      <td>4</td>\n",
       "      <td>2.0</td>\n",
       "      <td>0</td>\n",
       "      <td>1.0</td>\n",
       "    </tr>\n",
       "    <tr>\n",
       "      <th>2048</th>\n",
       "      <td>0.0</td>\n",
       "      <td>0.0</td>\n",
       "      <td>0.0</td>\n",
       "      <td>1.0</td>\n",
       "      <td>0.0</td>\n",
       "      <td>0.0</td>\n",
       "      <td>0.0</td>\n",
       "      <td>0.0</td>\n",
       "      <td>0.0</td>\n",
       "      <td>0.0</td>\n",
       "      <td>...</td>\n",
       "      <td>896.0</td>\n",
       "      <td>1913</td>\n",
       "      <td>0</td>\n",
       "      <td>0</td>\n",
       "      <td>61</td>\n",
       "      <td>0</td>\n",
       "      <td>9</td>\n",
       "      <td>2.0</td>\n",
       "      <td>1</td>\n",
       "      <td>1.5</td>\n",
       "    </tr>\n",
       "    <tr>\n",
       "      <th>2049</th>\n",
       "      <td>0.0</td>\n",
       "      <td>0.0</td>\n",
       "      <td>0.0</td>\n",
       "      <td>0.0</td>\n",
       "      <td>0.0</td>\n",
       "      <td>0.0</td>\n",
       "      <td>0.0</td>\n",
       "      <td>0.0</td>\n",
       "      <td>0.0</td>\n",
       "      <td>0.0</td>\n",
       "      <td>...</td>\n",
       "      <td>1200.0</td>\n",
       "      <td>1200</td>\n",
       "      <td>0</td>\n",
       "      <td>0</td>\n",
       "      <td>55</td>\n",
       "      <td>329</td>\n",
       "      <td>6</td>\n",
       "      <td>1.0</td>\n",
       "      <td>2</td>\n",
       "      <td>2.0</td>\n",
       "    </tr>\n",
       "    <tr>\n",
       "      <th>2050</th>\n",
       "      <td>0.0</td>\n",
       "      <td>0.0</td>\n",
       "      <td>0.0</td>\n",
       "      <td>0.0</td>\n",
       "      <td>1.0</td>\n",
       "      <td>0.0</td>\n",
       "      <td>0.0</td>\n",
       "      <td>0.0</td>\n",
       "      <td>0.0</td>\n",
       "      <td>0.0</td>\n",
       "      <td>...</td>\n",
       "      <td>994.0</td>\n",
       "      <td>1804</td>\n",
       "      <td>0</td>\n",
       "      <td>0</td>\n",
       "      <td>12</td>\n",
       "      <td>200</td>\n",
       "      <td>7</td>\n",
       "      <td>2.0</td>\n",
       "      <td>1</td>\n",
       "      <td>2.5</td>\n",
       "    </tr>\n",
       "  </tbody>\n",
       "</table>\n",
       "<p>2051 rows × 92 columns</p>\n",
       "</div>"
      ],
      "text/plain": [
       "      MSSubClass_30  MSSubClass_40  MSSubClass_45  MSSubClass_50  \\\n",
       "0               0.0            0.0            0.0            0.0   \n",
       "1               0.0            0.0            0.0            0.0   \n",
       "2               0.0            0.0            0.0            0.0   \n",
       "3               0.0            0.0            0.0            0.0   \n",
       "4               0.0            0.0            0.0            1.0   \n",
       "...             ...            ...            ...            ...   \n",
       "2046            0.0            0.0            0.0            0.0   \n",
       "2047            1.0            0.0            0.0            0.0   \n",
       "2048            0.0            0.0            0.0            1.0   \n",
       "2049            0.0            0.0            0.0            0.0   \n",
       "2050            0.0            0.0            0.0            0.0   \n",
       "\n",
       "      MSSubClass_60  MSSubClass_70  MSSubClass_75  MSSubClass_80  \\\n",
       "0               1.0            0.0            0.0            0.0   \n",
       "1               1.0            0.0            0.0            0.0   \n",
       "2               0.0            0.0            0.0            0.0   \n",
       "3               1.0            0.0            0.0            0.0   \n",
       "4               0.0            0.0            0.0            0.0   \n",
       "...             ...            ...            ...            ...   \n",
       "2046            0.0            0.0            0.0            0.0   \n",
       "2047            0.0            0.0            0.0            0.0   \n",
       "2048            0.0            0.0            0.0            0.0   \n",
       "2049            0.0            0.0            0.0            0.0   \n",
       "2050            1.0            0.0            0.0            0.0   \n",
       "\n",
       "      MSSubClass_85  MSSubClass_90  ...  TotalBsmtSF  GrLivArea  MiscVal  \\\n",
       "0               0.0            0.0  ...        725.0       1479        0   \n",
       "1               0.0            0.0  ...        913.0       2122        0   \n",
       "2               0.0            0.0  ...       1057.0       1057        0   \n",
       "3               0.0            0.0  ...        384.0       1444        0   \n",
       "4               0.0            0.0  ...        676.0       1445        0   \n",
       "...             ...            ...  ...          ...        ...      ...   \n",
       "2046            0.0            0.0  ...       1884.0       1728        0   \n",
       "2047            0.0            0.0  ...        861.0        861        0   \n",
       "2048            0.0            0.0  ...        896.0       1913        0   \n",
       "2049            0.0            0.0  ...       1200.0       1200        0   \n",
       "2050            0.0            0.0  ...        994.0       1804        0   \n",
       "\n",
       "      PoolArea  Age  OutdoorSF  TotRmsAbvGrd  GarageCars  Fireplaces  \\\n",
       "0            0    6         44             6         2.0           0   \n",
       "1            0   14         74             8         2.0           1   \n",
       "2            0    4         52             5         1.0           0   \n",
       "3            0    4        100             7         2.0           0   \n",
       "4            0   18         59             6         2.0           0   \n",
       "...        ...  ...        ...           ...         ...         ...   \n",
       "2046         0    4        276             7         2.0           1   \n",
       "2047         0   61        158             4         2.0           0   \n",
       "2048         0   61          0             9         2.0           1   \n",
       "2049         0   55        329             6         1.0           2   \n",
       "2050         0   12        200             7         2.0           1   \n",
       "\n",
       "      TotalBaths  \n",
       "0            2.5  \n",
       "1            3.5  \n",
       "2            2.0  \n",
       "3            2.5  \n",
       "4            2.0  \n",
       "...          ...  \n",
       "2046         3.0  \n",
       "2047         1.0  \n",
       "2048         1.5  \n",
       "2049         2.0  \n",
       "2050         2.5  \n",
       "\n",
       "[2051 rows x 92 columns]"
      ]
     },
     "execution_count": 41,
     "metadata": {},
     "output_type": "execute_result"
    }
   ],
   "source": [
    "housing_xvars_oh"
   ]
  },
  {
   "cell_type": "code",
   "execution_count": 42,
   "id": "9bd917fe-6ead-4ff7-9751-0aadb60c6317",
   "metadata": {
    "tags": []
   },
   "outputs": [],
   "source": [
    "# Define X and y variables\n",
    "\n",
    "X = housing_xvars_oh\n",
    "y = housing_init['SalePrice']"
   ]
  },
  {
   "cell_type": "code",
   "execution_count": 43,
   "id": "f55aa871-b47c-416f-956e-e985c485f06b",
   "metadata": {
    "tags": []
   },
   "outputs": [
    {
     "name": "stdout",
     "output_type": "stream",
     "text": [
      "(1538, 92) (1538,)\n",
      "(513, 92) (513,)\n"
     ]
    }
   ],
   "source": [
    "# TTS\n",
    "X_train, X_test, y_train, y_test = train_test_split(X, y, random_state = 95)\n",
    "print(X_train.shape, y_train.shape)\n",
    "print(X_test.shape, y_test.shape)"
   ]
  },
  {
   "cell_type": "markdown",
   "id": "d79c37aa-83a4-43bb-b719-a302d6e62790",
   "metadata": {
    "tags": []
   },
   "source": [
    "# Model"
   ]
  },
  {
   "cell_type": "code",
   "execution_count": 44,
   "id": "90ff7925-15d7-4181-9f61-a8af9fd4d4a6",
   "metadata": {
    "tags": []
   },
   "outputs": [
    {
     "data": {
      "text/html": [
       "<style>#sk-container-id-1 {color: black;}#sk-container-id-1 pre{padding: 0;}#sk-container-id-1 div.sk-toggleable {background-color: white;}#sk-container-id-1 label.sk-toggleable__label {cursor: pointer;display: block;width: 100%;margin-bottom: 0;padding: 0.3em;box-sizing: border-box;text-align: center;}#sk-container-id-1 label.sk-toggleable__label-arrow:before {content: \"▸\";float: left;margin-right: 0.25em;color: #696969;}#sk-container-id-1 label.sk-toggleable__label-arrow:hover:before {color: black;}#sk-container-id-1 div.sk-estimator:hover label.sk-toggleable__label-arrow:before {color: black;}#sk-container-id-1 div.sk-toggleable__content {max-height: 0;max-width: 0;overflow: hidden;text-align: left;background-color: #f0f8ff;}#sk-container-id-1 div.sk-toggleable__content pre {margin: 0.2em;color: black;border-radius: 0.25em;background-color: #f0f8ff;}#sk-container-id-1 input.sk-toggleable__control:checked~div.sk-toggleable__content {max-height: 200px;max-width: 100%;overflow: auto;}#sk-container-id-1 input.sk-toggleable__control:checked~label.sk-toggleable__label-arrow:before {content: \"▾\";}#sk-container-id-1 div.sk-estimator input.sk-toggleable__control:checked~label.sk-toggleable__label {background-color: #d4ebff;}#sk-container-id-1 div.sk-label input.sk-toggleable__control:checked~label.sk-toggleable__label {background-color: #d4ebff;}#sk-container-id-1 input.sk-hidden--visually {border: 0;clip: rect(1px 1px 1px 1px);clip: rect(1px, 1px, 1px, 1px);height: 1px;margin: -1px;overflow: hidden;padding: 0;position: absolute;width: 1px;}#sk-container-id-1 div.sk-estimator {font-family: monospace;background-color: #f0f8ff;border: 1px dotted black;border-radius: 0.25em;box-sizing: border-box;margin-bottom: 0.5em;}#sk-container-id-1 div.sk-estimator:hover {background-color: #d4ebff;}#sk-container-id-1 div.sk-parallel-item::after {content: \"\";width: 100%;border-bottom: 1px solid gray;flex-grow: 1;}#sk-container-id-1 div.sk-label:hover label.sk-toggleable__label {background-color: #d4ebff;}#sk-container-id-1 div.sk-serial::before {content: \"\";position: absolute;border-left: 1px solid gray;box-sizing: border-box;top: 0;bottom: 0;left: 50%;z-index: 0;}#sk-container-id-1 div.sk-serial {display: flex;flex-direction: column;align-items: center;background-color: white;padding-right: 0.2em;padding-left: 0.2em;position: relative;}#sk-container-id-1 div.sk-item {position: relative;z-index: 1;}#sk-container-id-1 div.sk-parallel {display: flex;align-items: stretch;justify-content: center;background-color: white;position: relative;}#sk-container-id-1 div.sk-item::before, #sk-container-id-1 div.sk-parallel-item::before {content: \"\";position: absolute;border-left: 1px solid gray;box-sizing: border-box;top: 0;bottom: 0;left: 50%;z-index: -1;}#sk-container-id-1 div.sk-parallel-item {display: flex;flex-direction: column;z-index: 1;position: relative;background-color: white;}#sk-container-id-1 div.sk-parallel-item:first-child::after {align-self: flex-end;width: 50%;}#sk-container-id-1 div.sk-parallel-item:last-child::after {align-self: flex-start;width: 50%;}#sk-container-id-1 div.sk-parallel-item:only-child::after {width: 0;}#sk-container-id-1 div.sk-dashed-wrapped {border: 1px dashed gray;margin: 0 0.4em 0.5em 0.4em;box-sizing: border-box;padding-bottom: 0.4em;background-color: white;}#sk-container-id-1 div.sk-label label {font-family: monospace;font-weight: bold;display: inline-block;line-height: 1.2em;}#sk-container-id-1 div.sk-label-container {text-align: center;}#sk-container-id-1 div.sk-container {/* jupyter's `normalize.less` sets `[hidden] { display: none; }` but bootstrap.min.css set `[hidden] { display: none !important; }` so we also need the `!important` here to be able to override the default hidden behavior on the sphinx rendered scikit-learn.org. See: https://github.com/scikit-learn/scikit-learn/issues/21755 */display: inline-block !important;position: relative;}#sk-container-id-1 div.sk-text-repr-fallback {display: none;}</style><div id=\"sk-container-id-1\" class=\"sk-top-container\"><div class=\"sk-text-repr-fallback\"><pre>LinearRegression()</pre><b>In a Jupyter environment, please rerun this cell to show the HTML representation or trust the notebook. <br />On GitHub, the HTML representation is unable to render, please try loading this page with nbviewer.org.</b></div><div class=\"sk-container\" hidden><div class=\"sk-item\"><div class=\"sk-estimator sk-toggleable\"><input class=\"sk-toggleable__control sk-hidden--visually\" id=\"sk-estimator-id-1\" type=\"checkbox\" checked><label for=\"sk-estimator-id-1\" class=\"sk-toggleable__label sk-toggleable__label-arrow\">LinearRegression</label><div class=\"sk-toggleable__content\"><pre>LinearRegression()</pre></div></div></div></div></div>"
      ],
      "text/plain": [
       "LinearRegression()"
      ]
     },
     "execution_count": 44,
     "metadata": {},
     "output_type": "execute_result"
    }
   ],
   "source": [
    "lr = LinearRegression()\n",
    "lr.fit(X_train, y_train)"
   ]
  },
  {
   "cell_type": "code",
   "execution_count": 45,
   "id": "ee472590-d303-4511-90ce-2dd1b5fd5850",
   "metadata": {
    "tags": []
   },
   "outputs": [
    {
     "data": {
      "text/plain": [
       "0.8873364495160501"
      ]
     },
     "execution_count": 45,
     "metadata": {},
     "output_type": "execute_result"
    }
   ],
   "source": [
    "lr.score(X_train, y_train)"
   ]
  },
  {
   "cell_type": "code",
   "execution_count": 46,
   "id": "fa473814-2e45-41e2-ad80-a6812162a6be",
   "metadata": {
    "tags": []
   },
   "outputs": [
    {
     "data": {
      "text/plain": [
       "0.877606905706273"
      ]
     },
     "execution_count": 46,
     "metadata": {},
     "output_type": "execute_result"
    }
   ],
   "source": [
    "lr.score(X_test, y_test)"
   ]
  },
  {
   "cell_type": "code",
   "execution_count": 47,
   "id": "e9bc3063-3b4b-4916-8f61-9bd952c7652c",
   "metadata": {
    "tags": []
   },
   "outputs": [],
   "source": [
    "preds = lr.predict(X)"
   ]
  },
  {
   "cell_type": "code",
   "execution_count": 48,
   "id": "6ed3e067-7728-4d31-83c2-2821ccd1b21d",
   "metadata": {
    "tags": []
   },
   "outputs": [
    {
     "data": {
      "text/plain": [
       "(2051,)"
      ]
     },
     "execution_count": 48,
     "metadata": {},
     "output_type": "execute_result"
    }
   ],
   "source": [
    "preds.shape"
   ]
  },
  {
   "cell_type": "code",
   "execution_count": null,
   "id": "f6b410d4-cf28-47e3-940b-04a37b859583",
   "metadata": {
    "tags": []
   },
   "outputs": [],
   "source": []
  },
  {
   "cell_type": "markdown",
   "id": "63f71da2-7854-4a66-bfe0-450560e6c3bf",
   "metadata": {},
   "source": [
    "### Convert test data in same way as training data"
   ]
  },
  {
   "cell_type": "code",
   "execution_count": 49,
   "id": "b8a71c53-586b-4a68-9975-aaf64af42b7d",
   "metadata": {
    "tags": []
   },
   "outputs": [
    {
     "name": "stderr",
     "output_type": "stream",
     "text": [
      "C:\\Users\\13478\\anaconda3\\Lib\\site-packages\\sklearn\\preprocessing\\_encoders.py:972: FutureWarning: `sparse` was renamed to `sparse_output` in version 1.2 and will be removed in 1.4. `sparse_output` is ignored unless you leave `sparse` to its default value.\n",
      "  warnings.warn(\n"
     ]
    }
   ],
   "source": [
    "housing_test0 = pd.read_csv('datasets/test-Copy1.csv')\n",
    "housing_test0.columns = [n.replace(\" \", \"\") for n in housing_test0.columns]\n",
    "\n",
    "init_vars1 = get_var_name('datasets/initial_vars-Copy1.txt')\n",
    "housing_test1 = housing_test0[init_vars1]\n",
    "\n",
    "housing_test1 = housing_test1.fillna(0)\n",
    "\n",
    "housing_test1['Age'] = 2011 - housing_test1['YearRemod/Add']\n",
    "housing_test1.drop(columns =['YearRemod/Add'], inplace= True)\n",
    "\n",
    "housing_test1['TotalBaths'] = housing_test1['BsmtFullBath'] + 0.5*housing_test1['BsmtHalfBath'] + housing_test1['FullBath'] + 0.5*housing_test1['HalfBath']\n",
    "housing_test1.drop(columns =['BsmtFullBath', 'BsmtHalfBath', 'FullBath', 'HalfBath'], inplace= True)\n",
    "\n",
    "housing_test1['OutdoorSF'] = housing_test1['WoodDeckSF'] + housing_test1['OpenPorchSF'] + housing_test1['EnclosedPorch'] + housing_test1['3SsnPorch'] + housing_test1['ScreenPorch'] \n",
    "housing_test1.drop(columns =['WoodDeckSF', 'OpenPorchSF', 'EnclosedPorch', '3SsnPorch', 'ScreenPorch'], inplace= True)\n",
    "\n",
    "housing_test1['Quarter'] = np.nan\n",
    "q = []\n",
    "for month in housing_test1['MoSold']:\n",
    "    if month < 4:\n",
    "        q.append('Q1')\n",
    "    elif month < 7:\n",
    "        q.append('Q2')\n",
    "    elif month < 10:\n",
    "        q.append('Q3')\n",
    "    else:\n",
    "        q.append('Q4')\n",
    "housing_test1['Quarter'] = q\n",
    "housing_test1.drop(columns =['MoSold'], inplace=True)\n",
    "\n",
    "housing_test1['GFC'] = np.nan\n",
    "year = []\n",
    "for yr in housing_test1['YrSold']:\n",
    "    if yr > 2009:\n",
    "        year.append('0')\n",
    "    else:\n",
    "        year.append('1')\n",
    "housing_test1['GFC'] = year\n",
    "housing_test1.drop(columns =['YrSold'], inplace=True)\n",
    "\n",
    "# housing_test1_dum = housing_test1.drop(columns = ['TotalBsmtSF', 'GrLivArea', 'MiscVal', 'PoolArea', 'Age', 'OutdoorSF'])\n",
    "# housing_test1_dummy = pd.get_dummies(housing_test1_dum, drop_first = True)\n",
    "# housing_test1_num = housing_test1[['TotalBsmtSF', 'GrLivArea', 'MiscVal', 'PoolArea', 'Age', 'OutdoorSF']]\n",
    "# housing_test1_xvars = pd.concat([housing_test1_dummy, housing_test1_num], axis=1)\n",
    "\n",
    "housing_test1_dummy = housing_test1.drop(columns = ['TotalBsmtSF', 'GrLivArea', 'MiscVal', 'PoolArea', 'Age', 'OutdoorSF', 'TotRmsAbvGrd', 'GarageCars', 'Fireplaces', 'TotalBaths'])\n",
    "housing_test1_num = housing_test1[['TotalBsmtSF', 'GrLivArea', 'MiscVal', 'PoolArea', 'Age', 'OutdoorSF', 'TotRmsAbvGrd', 'GarageCars', 'Fireplaces', 'TotalBaths']]\n",
    "oh = OneHotEncoder(sparse = False, drop = 'first')\n",
    "housing_test1_dummy_oh = oh.fit_transform(housing_test1_dummy)\n",
    "housing_xvars_test1_oh = pd.concat([pd.DataFrame(housing_test1_dummy_oh, columns = oh.get_feature_names_out()), housing_test1_num], axis=1)\n"
   ]
  },
  {
   "cell_type": "markdown",
   "id": "79dac1d7-9b08-4340-8933-d4b1d442fe15",
   "metadata": {},
   "source": [
    "## Run model on testing data"
   ]
  },
  {
   "cell_type": "code",
   "execution_count": 50,
   "id": "544bcb73-cd34-4272-b7e3-598bcccef1f6",
   "metadata": {
    "tags": []
   },
   "outputs": [
    {
     "data": {
      "text/html": [
       "<div>\n",
       "<style scoped>\n",
       "    .dataframe tbody tr th:only-of-type {\n",
       "        vertical-align: middle;\n",
       "    }\n",
       "\n",
       "    .dataframe tbody tr th {\n",
       "        vertical-align: top;\n",
       "    }\n",
       "\n",
       "    .dataframe thead th {\n",
       "        text-align: right;\n",
       "    }\n",
       "</style>\n",
       "<table border=\"1\" class=\"dataframe\">\n",
       "  <thead>\n",
       "    <tr style=\"text-align: right;\">\n",
       "      <th></th>\n",
       "      <th>MSSubClass_30</th>\n",
       "      <th>MSSubClass_40</th>\n",
       "      <th>MSSubClass_45</th>\n",
       "      <th>MSSubClass_50</th>\n",
       "      <th>MSSubClass_60</th>\n",
       "      <th>MSSubClass_70</th>\n",
       "      <th>MSSubClass_75</th>\n",
       "      <th>MSSubClass_80</th>\n",
       "      <th>MSSubClass_85</th>\n",
       "      <th>MSSubClass_90</th>\n",
       "      <th>...</th>\n",
       "      <th>TotalBsmtSF</th>\n",
       "      <th>GrLivArea</th>\n",
       "      <th>MiscVal</th>\n",
       "      <th>PoolArea</th>\n",
       "      <th>Age</th>\n",
       "      <th>OutdoorSF</th>\n",
       "      <th>TotRmsAbvGrd</th>\n",
       "      <th>GarageCars</th>\n",
       "      <th>Fireplaces</th>\n",
       "      <th>TotalBaths</th>\n",
       "    </tr>\n",
       "  </thead>\n",
       "  <tbody>\n",
       "    <tr>\n",
       "      <th>0</th>\n",
       "      <td>0.0</td>\n",
       "      <td>0.0</td>\n",
       "      <td>0.0</td>\n",
       "      <td>0.0</td>\n",
       "      <td>0.0</td>\n",
       "      <td>0.0</td>\n",
       "      <td>0.0</td>\n",
       "      <td>0.0</td>\n",
       "      <td>0.0</td>\n",
       "      <td>0.0</td>\n",
       "      <td>...</td>\n",
       "      <td>1020</td>\n",
       "      <td>1928</td>\n",
       "      <td>0</td>\n",
       "      <td>0</td>\n",
       "      <td>61</td>\n",
       "      <td>172</td>\n",
       "      <td>9</td>\n",
       "      <td>1</td>\n",
       "      <td>0</td>\n",
       "      <td>2.0</td>\n",
       "    </tr>\n",
       "    <tr>\n",
       "      <th>1</th>\n",
       "      <td>0.0</td>\n",
       "      <td>0.0</td>\n",
       "      <td>0.0</td>\n",
       "      <td>0.0</td>\n",
       "      <td>0.0</td>\n",
       "      <td>0.0</td>\n",
       "      <td>0.0</td>\n",
       "      <td>0.0</td>\n",
       "      <td>0.0</td>\n",
       "      <td>1.0</td>\n",
       "      <td>...</td>\n",
       "      <td>1967</td>\n",
       "      <td>1967</td>\n",
       "      <td>0</td>\n",
       "      <td>0</td>\n",
       "      <td>34</td>\n",
       "      <td>170</td>\n",
       "      <td>10</td>\n",
       "      <td>2</td>\n",
       "      <td>0</td>\n",
       "      <td>2.0</td>\n",
       "    </tr>\n",
       "    <tr>\n",
       "      <th>2</th>\n",
       "      <td>0.0</td>\n",
       "      <td>0.0</td>\n",
       "      <td>0.0</td>\n",
       "      <td>0.0</td>\n",
       "      <td>1.0</td>\n",
       "      <td>0.0</td>\n",
       "      <td>0.0</td>\n",
       "      <td>0.0</td>\n",
       "      <td>0.0</td>\n",
       "      <td>0.0</td>\n",
       "      <td>...</td>\n",
       "      <td>654</td>\n",
       "      <td>1496</td>\n",
       "      <td>0</td>\n",
       "      <td>0</td>\n",
       "      <td>5</td>\n",
       "      <td>124</td>\n",
       "      <td>7</td>\n",
       "      <td>2</td>\n",
       "      <td>1</td>\n",
       "      <td>3.5</td>\n",
       "    </tr>\n",
       "    <tr>\n",
       "      <th>3</th>\n",
       "      <td>1.0</td>\n",
       "      <td>0.0</td>\n",
       "      <td>0.0</td>\n",
       "      <td>0.0</td>\n",
       "      <td>0.0</td>\n",
       "      <td>0.0</td>\n",
       "      <td>0.0</td>\n",
       "      <td>0.0</td>\n",
       "      <td>0.0</td>\n",
       "      <td>0.0</td>\n",
       "      <td>...</td>\n",
       "      <td>968</td>\n",
       "      <td>968</td>\n",
       "      <td>0</td>\n",
       "      <td>0</td>\n",
       "      <td>5</td>\n",
       "      <td>184</td>\n",
       "      <td>5</td>\n",
       "      <td>2</td>\n",
       "      <td>0</td>\n",
       "      <td>1.0</td>\n",
       "    </tr>\n",
       "    <tr>\n",
       "      <th>4</th>\n",
       "      <td>0.0</td>\n",
       "      <td>0.0</td>\n",
       "      <td>0.0</td>\n",
       "      <td>0.0</td>\n",
       "      <td>0.0</td>\n",
       "      <td>0.0</td>\n",
       "      <td>0.0</td>\n",
       "      <td>0.0</td>\n",
       "      <td>0.0</td>\n",
       "      <td>0.0</td>\n",
       "      <td>...</td>\n",
       "      <td>1394</td>\n",
       "      <td>1394</td>\n",
       "      <td>0</td>\n",
       "      <td>0</td>\n",
       "      <td>48</td>\n",
       "      <td>261</td>\n",
       "      <td>6</td>\n",
       "      <td>2</td>\n",
       "      <td>2</td>\n",
       "      <td>2.5</td>\n",
       "    </tr>\n",
       "    <tr>\n",
       "      <th>...</th>\n",
       "      <td>...</td>\n",
       "      <td>...</td>\n",
       "      <td>...</td>\n",
       "      <td>...</td>\n",
       "      <td>...</td>\n",
       "      <td>...</td>\n",
       "      <td>...</td>\n",
       "      <td>...</td>\n",
       "      <td>...</td>\n",
       "      <td>...</td>\n",
       "      <td>...</td>\n",
       "      <td>...</td>\n",
       "      <td>...</td>\n",
       "      <td>...</td>\n",
       "      <td>...</td>\n",
       "      <td>...</td>\n",
       "      <td>...</td>\n",
       "      <td>...</td>\n",
       "      <td>...</td>\n",
       "      <td>...</td>\n",
       "      <td>...</td>\n",
       "    </tr>\n",
       "    <tr>\n",
       "      <th>873</th>\n",
       "      <td>0.0</td>\n",
       "      <td>0.0</td>\n",
       "      <td>0.0</td>\n",
       "      <td>0.0</td>\n",
       "      <td>1.0</td>\n",
       "      <td>0.0</td>\n",
       "      <td>0.0</td>\n",
       "      <td>0.0</td>\n",
       "      <td>0.0</td>\n",
       "      <td>0.0</td>\n",
       "      <td>...</td>\n",
       "      <td>1084</td>\n",
       "      <td>1877</td>\n",
       "      <td>0</td>\n",
       "      <td>0</td>\n",
       "      <td>37</td>\n",
       "      <td>96</td>\n",
       "      <td>8</td>\n",
       "      <td>2</td>\n",
       "      <td>1</td>\n",
       "      <td>3.5</td>\n",
       "    </tr>\n",
       "    <tr>\n",
       "      <th>874</th>\n",
       "      <td>0.0</td>\n",
       "      <td>0.0</td>\n",
       "      <td>0.0</td>\n",
       "      <td>0.0</td>\n",
       "      <td>1.0</td>\n",
       "      <td>0.0</td>\n",
       "      <td>0.0</td>\n",
       "      <td>0.0</td>\n",
       "      <td>0.0</td>\n",
       "      <td>0.0</td>\n",
       "      <td>...</td>\n",
       "      <td>1104</td>\n",
       "      <td>1988</td>\n",
       "      <td>0</td>\n",
       "      <td>0</td>\n",
       "      <td>12</td>\n",
       "      <td>230</td>\n",
       "      <td>9</td>\n",
       "      <td>2</td>\n",
       "      <td>1</td>\n",
       "      <td>2.5</td>\n",
       "    </tr>\n",
       "    <tr>\n",
       "      <th>875</th>\n",
       "      <td>0.0</td>\n",
       "      <td>0.0</td>\n",
       "      <td>0.0</td>\n",
       "      <td>0.0</td>\n",
       "      <td>0.0</td>\n",
       "      <td>0.0</td>\n",
       "      <td>0.0</td>\n",
       "      <td>0.0</td>\n",
       "      <td>0.0</td>\n",
       "      <td>0.0</td>\n",
       "      <td>...</td>\n",
       "      <td>952</td>\n",
       "      <td>1211</td>\n",
       "      <td>0</td>\n",
       "      <td>0</td>\n",
       "      <td>43</td>\n",
       "      <td>63</td>\n",
       "      <td>5</td>\n",
       "      <td>1</td>\n",
       "      <td>1</td>\n",
       "      <td>1.0</td>\n",
       "    </tr>\n",
       "    <tr>\n",
       "      <th>876</th>\n",
       "      <td>0.0</td>\n",
       "      <td>0.0</td>\n",
       "      <td>0.0</td>\n",
       "      <td>0.0</td>\n",
       "      <td>0.0</td>\n",
       "      <td>0.0</td>\n",
       "      <td>0.0</td>\n",
       "      <td>0.0</td>\n",
       "      <td>0.0</td>\n",
       "      <td>0.0</td>\n",
       "      <td>...</td>\n",
       "      <td>864</td>\n",
       "      <td>864</td>\n",
       "      <td>0</td>\n",
       "      <td>0</td>\n",
       "      <td>40</td>\n",
       "      <td>0</td>\n",
       "      <td>5</td>\n",
       "      <td>2</td>\n",
       "      <td>0</td>\n",
       "      <td>1.0</td>\n",
       "    </tr>\n",
       "    <tr>\n",
       "      <th>877</th>\n",
       "      <td>0.0</td>\n",
       "      <td>0.0</td>\n",
       "      <td>0.0</td>\n",
       "      <td>0.0</td>\n",
       "      <td>0.0</td>\n",
       "      <td>0.0</td>\n",
       "      <td>0.0</td>\n",
       "      <td>0.0</td>\n",
       "      <td>0.0</td>\n",
       "      <td>0.0</td>\n",
       "      <td>...</td>\n",
       "      <td>923</td>\n",
       "      <td>925</td>\n",
       "      <td>0</td>\n",
       "      <td>0</td>\n",
       "      <td>56</td>\n",
       "      <td>81</td>\n",
       "      <td>5</td>\n",
       "      <td>1</td>\n",
       "      <td>2</td>\n",
       "      <td>2.0</td>\n",
       "    </tr>\n",
       "  </tbody>\n",
       "</table>\n",
       "<p>878 rows × 86 columns</p>\n",
       "</div>"
      ],
      "text/plain": [
       "     MSSubClass_30  MSSubClass_40  MSSubClass_45  MSSubClass_50  \\\n",
       "0              0.0            0.0            0.0            0.0   \n",
       "1              0.0            0.0            0.0            0.0   \n",
       "2              0.0            0.0            0.0            0.0   \n",
       "3              1.0            0.0            0.0            0.0   \n",
       "4              0.0            0.0            0.0            0.0   \n",
       "..             ...            ...            ...            ...   \n",
       "873            0.0            0.0            0.0            0.0   \n",
       "874            0.0            0.0            0.0            0.0   \n",
       "875            0.0            0.0            0.0            0.0   \n",
       "876            0.0            0.0            0.0            0.0   \n",
       "877            0.0            0.0            0.0            0.0   \n",
       "\n",
       "     MSSubClass_60  MSSubClass_70  MSSubClass_75  MSSubClass_80  \\\n",
       "0              0.0            0.0            0.0            0.0   \n",
       "1              0.0            0.0            0.0            0.0   \n",
       "2              1.0            0.0            0.0            0.0   \n",
       "3              0.0            0.0            0.0            0.0   \n",
       "4              0.0            0.0            0.0            0.0   \n",
       "..             ...            ...            ...            ...   \n",
       "873            1.0            0.0            0.0            0.0   \n",
       "874            1.0            0.0            0.0            0.0   \n",
       "875            0.0            0.0            0.0            0.0   \n",
       "876            0.0            0.0            0.0            0.0   \n",
       "877            0.0            0.0            0.0            0.0   \n",
       "\n",
       "     MSSubClass_85  MSSubClass_90  ...  TotalBsmtSF  GrLivArea  MiscVal  \\\n",
       "0              0.0            0.0  ...         1020       1928        0   \n",
       "1              0.0            1.0  ...         1967       1967        0   \n",
       "2              0.0            0.0  ...          654       1496        0   \n",
       "3              0.0            0.0  ...          968        968        0   \n",
       "4              0.0            0.0  ...         1394       1394        0   \n",
       "..             ...            ...  ...          ...        ...      ...   \n",
       "873            0.0            0.0  ...         1084       1877        0   \n",
       "874            0.0            0.0  ...         1104       1988        0   \n",
       "875            0.0            0.0  ...          952       1211        0   \n",
       "876            0.0            0.0  ...          864        864        0   \n",
       "877            0.0            0.0  ...          923        925        0   \n",
       "\n",
       "     PoolArea  Age  OutdoorSF  TotRmsAbvGrd  GarageCars  Fireplaces  \\\n",
       "0           0   61        172             9           1           0   \n",
       "1           0   34        170            10           2           0   \n",
       "2           0    5        124             7           2           1   \n",
       "3           0    5        184             5           2           0   \n",
       "4           0   48        261             6           2           2   \n",
       "..        ...  ...        ...           ...         ...         ...   \n",
       "873         0   37         96             8           2           1   \n",
       "874         0   12        230             9           2           1   \n",
       "875         0   43         63             5           1           1   \n",
       "876         0   40          0             5           2           0   \n",
       "877         0   56         81             5           1           2   \n",
       "\n",
       "     TotalBaths  \n",
       "0           2.0  \n",
       "1           2.0  \n",
       "2           3.5  \n",
       "3           1.0  \n",
       "4           2.5  \n",
       "..          ...  \n",
       "873         3.5  \n",
       "874         2.5  \n",
       "875         1.0  \n",
       "876         1.0  \n",
       "877         2.0  \n",
       "\n",
       "[878 rows x 86 columns]"
      ]
     },
     "execution_count": 50,
     "metadata": {},
     "output_type": "execute_result"
    }
   ],
   "source": [
    "housing_xvars_test1_oh"
   ]
  },
  {
   "cell_type": "code",
   "execution_count": 57,
   "id": "5bf798b7-9667-496e-92a2-3281d8d95418",
   "metadata": {
    "tags": []
   },
   "outputs": [
    {
     "data": {
      "text/plain": [
       "Index([], dtype='object')"
      ]
     },
     "execution_count": 57,
     "metadata": {},
     "output_type": "execute_result"
    }
   ],
   "source": [
    "miss_cols = housing_xvars_oh.columns.difference(housing_xvars_test1_oh.columns)\n",
    "miss_cols"
   ]
  },
  {
   "cell_type": "code",
   "execution_count": 53,
   "id": "d27d7d0b-7590-4793-af65-140c289f684f",
   "metadata": {
    "tags": []
   },
   "outputs": [],
   "source": [
    "# Add missing columns to test data\n",
    "housing_xvars_test1_oh[miss_cols] = 0"
   ]
  },
  {
   "cell_type": "code",
   "execution_count": 59,
   "id": "7338e0d5-adb8-4d8d-b85b-15a43061e13c",
   "metadata": {
    "tags": []
   },
   "outputs": [
    {
     "data": {
      "text/plain": [
       "Index(['MSSubClass_30', 'MSSubClass_40', 'MSSubClass_45', 'MSSubClass_50',\n",
       "       'MSSubClass_60', 'MSSubClass_70', 'MSSubClass_75', 'MSSubClass_80',\n",
       "       'MSSubClass_85', 'MSSubClass_90', 'MSSubClass_120', 'MSSubClass_150',\n",
       "       'MSSubClass_160', 'MSSubClass_180', 'MSSubClass_190',\n",
       "       'MSZoning_C (all)', 'MSZoning_FV', 'MSZoning_I (all)', 'MSZoning_RH',\n",
       "       'MSZoning_RL', 'MSZoning_RM', 'Neighborhood_Blueste',\n",
       "       'Neighborhood_BrDale', 'Neighborhood_BrkSide', 'Neighborhood_ClearCr',\n",
       "       'Neighborhood_CollgCr', 'Neighborhood_Crawfor', 'Neighborhood_Edwards',\n",
       "       'Neighborhood_Gilbert', 'Neighborhood_Greens', 'Neighborhood_GrnHill',\n",
       "       'Neighborhood_IDOTRR', 'Neighborhood_Landmrk', 'Neighborhood_MeadowV',\n",
       "       'Neighborhood_Mitchel', 'Neighborhood_NAmes', 'Neighborhood_NPkVill',\n",
       "       'Neighborhood_NWAmes', 'Neighborhood_NoRidge', 'Neighborhood_NridgHt',\n",
       "       'Neighborhood_OldTown', 'Neighborhood_SWISU', 'Neighborhood_Sawyer',\n",
       "       'Neighborhood_SawyerW', 'Neighborhood_Somerst', 'Neighborhood_StoneBr',\n",
       "       'Neighborhood_Timber', 'Neighborhood_Veenker', 'OverallQual_2',\n",
       "       'OverallQual_3', 'OverallQual_4', 'OverallQual_5', 'OverallQual_6',\n",
       "       'OverallQual_7', 'OverallQual_8', 'OverallQual_9', 'OverallQual_10',\n",
       "       'OverallCond_2', 'OverallCond_3', 'OverallCond_4', 'OverallCond_5',\n",
       "       'OverallCond_6', 'OverallCond_7', 'OverallCond_8', 'OverallCond_9',\n",
       "       'HeatingQC_Fa', 'HeatingQC_Gd', 'HeatingQC_Po', 'HeatingQC_TA',\n",
       "       'CentralAir_Y', 'Condition1_Feedr', 'Condition1_Norm',\n",
       "       'Condition1_PosA', 'Condition1_PosN', 'Condition1_RRAe',\n",
       "       'Condition1_RRAn', 'Condition1_RRNe', 'Condition1_RRNn', 'Quarter_Q2',\n",
       "       'Quarter_Q3', 'Quarter_Q4', 'GFC_1', 'TotalBsmtSF', 'GrLivArea',\n",
       "       'MiscVal', 'PoolArea', 'Age', 'OutdoorSF', 'TotRmsAbvGrd', 'GarageCars',\n",
       "       'Fireplaces', 'TotalBaths'],\n",
       "      dtype='object')"
      ]
     },
     "execution_count": 59,
     "metadata": {},
     "output_type": "execute_result"
    }
   ],
   "source": [
    "housing_xvars_oh.columns"
   ]
  },
  {
   "cell_type": "code",
   "execution_count": 60,
   "id": "c59407df-1a05-48c9-8d86-d3e5338bf2bf",
   "metadata": {
    "tags": []
   },
   "outputs": [],
   "source": [
    "# Sort columns in test 1 so same order as training data\n",
    "housing_xvars_test1_oh_sorted = pd.DataFrame(housing_xvars_test1_oh, columns = housing_xvars_oh.columns)"
   ]
  },
  {
   "cell_type": "code",
   "execution_count": 61,
   "id": "5cce66c5-c384-46ac-b26b-e16ceba9f65e",
   "metadata": {
    "tags": []
   },
   "outputs": [],
   "source": [
    "test_preds = lr.predict(housing_xvars_test1_oh_sorted)"
   ]
  },
  {
   "cell_type": "code",
   "execution_count": 62,
   "id": "8cd73d5f-5005-41ba-9e04-ae75c0110473",
   "metadata": {
    "tags": []
   },
   "outputs": [],
   "source": [
    "# Fit test data with model\n",
    "housing_test0['SalePrice'] = test_preds"
   ]
  },
  {
   "cell_type": "code",
   "execution_count": 63,
   "id": "7c2f8271-987c-4cf9-8da4-d3f09bb5a1c2",
   "metadata": {
    "tags": []
   },
   "outputs": [
    {
     "data": {
      "text/html": [
       "<div>\n",
       "<style scoped>\n",
       "    .dataframe tbody tr th:only-of-type {\n",
       "        vertical-align: middle;\n",
       "    }\n",
       "\n",
       "    .dataframe tbody tr th {\n",
       "        vertical-align: top;\n",
       "    }\n",
       "\n",
       "    .dataframe thead th {\n",
       "        text-align: right;\n",
       "    }\n",
       "</style>\n",
       "<table border=\"1\" class=\"dataframe\">\n",
       "  <thead>\n",
       "    <tr style=\"text-align: right;\">\n",
       "      <th></th>\n",
       "      <th>Id</th>\n",
       "      <th>PID</th>\n",
       "      <th>MSSubClass</th>\n",
       "      <th>MSZoning</th>\n",
       "      <th>LotFrontage</th>\n",
       "      <th>LotArea</th>\n",
       "      <th>Street</th>\n",
       "      <th>Alley</th>\n",
       "      <th>LotShape</th>\n",
       "      <th>LandContour</th>\n",
       "      <th>...</th>\n",
       "      <th>ScreenPorch</th>\n",
       "      <th>PoolArea</th>\n",
       "      <th>PoolQC</th>\n",
       "      <th>Fence</th>\n",
       "      <th>MiscFeature</th>\n",
       "      <th>MiscVal</th>\n",
       "      <th>MoSold</th>\n",
       "      <th>YrSold</th>\n",
       "      <th>SaleType</th>\n",
       "      <th>SalePrice</th>\n",
       "    </tr>\n",
       "  </thead>\n",
       "  <tbody>\n",
       "    <tr>\n",
       "      <th>0</th>\n",
       "      <td>2658</td>\n",
       "      <td>902301120</td>\n",
       "      <td>190</td>\n",
       "      <td>RM</td>\n",
       "      <td>69.0</td>\n",
       "      <td>9142</td>\n",
       "      <td>Pave</td>\n",
       "      <td>Grvl</td>\n",
       "      <td>Reg</td>\n",
       "      <td>Lvl</td>\n",
       "      <td>...</td>\n",
       "      <td>0</td>\n",
       "      <td>0</td>\n",
       "      <td>NaN</td>\n",
       "      <td>NaN</td>\n",
       "      <td>NaN</td>\n",
       "      <td>0</td>\n",
       "      <td>4</td>\n",
       "      <td>2006</td>\n",
       "      <td>WD</td>\n",
       "      <td>143044.553992</td>\n",
       "    </tr>\n",
       "    <tr>\n",
       "      <th>1</th>\n",
       "      <td>2718</td>\n",
       "      <td>905108090</td>\n",
       "      <td>90</td>\n",
       "      <td>RL</td>\n",
       "      <td>NaN</td>\n",
       "      <td>9662</td>\n",
       "      <td>Pave</td>\n",
       "      <td>NaN</td>\n",
       "      <td>IR1</td>\n",
       "      <td>Lvl</td>\n",
       "      <td>...</td>\n",
       "      <td>0</td>\n",
       "      <td>0</td>\n",
       "      <td>NaN</td>\n",
       "      <td>NaN</td>\n",
       "      <td>NaN</td>\n",
       "      <td>0</td>\n",
       "      <td>8</td>\n",
       "      <td>2006</td>\n",
       "      <td>WD</td>\n",
       "      <td>154124.848059</td>\n",
       "    </tr>\n",
       "    <tr>\n",
       "      <th>2</th>\n",
       "      <td>2414</td>\n",
       "      <td>528218130</td>\n",
       "      <td>60</td>\n",
       "      <td>RL</td>\n",
       "      <td>58.0</td>\n",
       "      <td>17104</td>\n",
       "      <td>Pave</td>\n",
       "      <td>NaN</td>\n",
       "      <td>IR1</td>\n",
       "      <td>Lvl</td>\n",
       "      <td>...</td>\n",
       "      <td>0</td>\n",
       "      <td>0</td>\n",
       "      <td>NaN</td>\n",
       "      <td>NaN</td>\n",
       "      <td>NaN</td>\n",
       "      <td>0</td>\n",
       "      <td>9</td>\n",
       "      <td>2006</td>\n",
       "      <td>New</td>\n",
       "      <td>199934.818452</td>\n",
       "    </tr>\n",
       "    <tr>\n",
       "      <th>3</th>\n",
       "      <td>1989</td>\n",
       "      <td>902207150</td>\n",
       "      <td>30</td>\n",
       "      <td>RM</td>\n",
       "      <td>60.0</td>\n",
       "      <td>8520</td>\n",
       "      <td>Pave</td>\n",
       "      <td>NaN</td>\n",
       "      <td>Reg</td>\n",
       "      <td>Lvl</td>\n",
       "      <td>...</td>\n",
       "      <td>0</td>\n",
       "      <td>0</td>\n",
       "      <td>NaN</td>\n",
       "      <td>NaN</td>\n",
       "      <td>NaN</td>\n",
       "      <td>0</td>\n",
       "      <td>7</td>\n",
       "      <td>2007</td>\n",
       "      <td>WD</td>\n",
       "      <td>108535.998597</td>\n",
       "    </tr>\n",
       "    <tr>\n",
       "      <th>4</th>\n",
       "      <td>625</td>\n",
       "      <td>535105100</td>\n",
       "      <td>20</td>\n",
       "      <td>RL</td>\n",
       "      <td>NaN</td>\n",
       "      <td>9500</td>\n",
       "      <td>Pave</td>\n",
       "      <td>NaN</td>\n",
       "      <td>IR1</td>\n",
       "      <td>Lvl</td>\n",
       "      <td>...</td>\n",
       "      <td>185</td>\n",
       "      <td>0</td>\n",
       "      <td>NaN</td>\n",
       "      <td>NaN</td>\n",
       "      <td>NaN</td>\n",
       "      <td>0</td>\n",
       "      <td>7</td>\n",
       "      <td>2009</td>\n",
       "      <td>WD</td>\n",
       "      <td>191933.730322</td>\n",
       "    </tr>\n",
       "    <tr>\n",
       "      <th>...</th>\n",
       "      <td>...</td>\n",
       "      <td>...</td>\n",
       "      <td>...</td>\n",
       "      <td>...</td>\n",
       "      <td>...</td>\n",
       "      <td>...</td>\n",
       "      <td>...</td>\n",
       "      <td>...</td>\n",
       "      <td>...</td>\n",
       "      <td>...</td>\n",
       "      <td>...</td>\n",
       "      <td>...</td>\n",
       "      <td>...</td>\n",
       "      <td>...</td>\n",
       "      <td>...</td>\n",
       "      <td>...</td>\n",
       "      <td>...</td>\n",
       "      <td>...</td>\n",
       "      <td>...</td>\n",
       "      <td>...</td>\n",
       "      <td>...</td>\n",
       "    </tr>\n",
       "    <tr>\n",
       "      <th>873</th>\n",
       "      <td>1662</td>\n",
       "      <td>527377110</td>\n",
       "      <td>60</td>\n",
       "      <td>RL</td>\n",
       "      <td>80.0</td>\n",
       "      <td>8000</td>\n",
       "      <td>Pave</td>\n",
       "      <td>NaN</td>\n",
       "      <td>Reg</td>\n",
       "      <td>Lvl</td>\n",
       "      <td>...</td>\n",
       "      <td>0</td>\n",
       "      <td>0</td>\n",
       "      <td>NaN</td>\n",
       "      <td>NaN</td>\n",
       "      <td>NaN</td>\n",
       "      <td>0</td>\n",
       "      <td>11</td>\n",
       "      <td>2007</td>\n",
       "      <td>WD</td>\n",
       "      <td>199232.232524</td>\n",
       "    </tr>\n",
       "    <tr>\n",
       "      <th>874</th>\n",
       "      <td>1234</td>\n",
       "      <td>535126140</td>\n",
       "      <td>60</td>\n",
       "      <td>RL</td>\n",
       "      <td>90.0</td>\n",
       "      <td>14670</td>\n",
       "      <td>Pave</td>\n",
       "      <td>NaN</td>\n",
       "      <td>Reg</td>\n",
       "      <td>Lvl</td>\n",
       "      <td>...</td>\n",
       "      <td>0</td>\n",
       "      <td>0</td>\n",
       "      <td>NaN</td>\n",
       "      <td>MnPrv</td>\n",
       "      <td>NaN</td>\n",
       "      <td>0</td>\n",
       "      <td>8</td>\n",
       "      <td>2008</td>\n",
       "      <td>WD</td>\n",
       "      <td>205330.296117</td>\n",
       "    </tr>\n",
       "    <tr>\n",
       "      <th>875</th>\n",
       "      <td>1373</td>\n",
       "      <td>904100040</td>\n",
       "      <td>20</td>\n",
       "      <td>RL</td>\n",
       "      <td>55.0</td>\n",
       "      <td>8250</td>\n",
       "      <td>Pave</td>\n",
       "      <td>NaN</td>\n",
       "      <td>Reg</td>\n",
       "      <td>Lvl</td>\n",
       "      <td>...</td>\n",
       "      <td>0</td>\n",
       "      <td>0</td>\n",
       "      <td>NaN</td>\n",
       "      <td>NaN</td>\n",
       "      <td>NaN</td>\n",
       "      <td>0</td>\n",
       "      <td>8</td>\n",
       "      <td>2008</td>\n",
       "      <td>WD</td>\n",
       "      <td>123752.564308</td>\n",
       "    </tr>\n",
       "    <tr>\n",
       "      <th>876</th>\n",
       "      <td>1672</td>\n",
       "      <td>527425140</td>\n",
       "      <td>20</td>\n",
       "      <td>RL</td>\n",
       "      <td>60.0</td>\n",
       "      <td>9000</td>\n",
       "      <td>Pave</td>\n",
       "      <td>NaN</td>\n",
       "      <td>Reg</td>\n",
       "      <td>Lvl</td>\n",
       "      <td>...</td>\n",
       "      <td>0</td>\n",
       "      <td>0</td>\n",
       "      <td>NaN</td>\n",
       "      <td>GdWo</td>\n",
       "      <td>NaN</td>\n",
       "      <td>0</td>\n",
       "      <td>5</td>\n",
       "      <td>2007</td>\n",
       "      <td>WD</td>\n",
       "      <td>111647.338647</td>\n",
       "    </tr>\n",
       "    <tr>\n",
       "      <th>877</th>\n",
       "      <td>1939</td>\n",
       "      <td>535327160</td>\n",
       "      <td>20</td>\n",
       "      <td>RL</td>\n",
       "      <td>70.0</td>\n",
       "      <td>8400</td>\n",
       "      <td>Pave</td>\n",
       "      <td>NaN</td>\n",
       "      <td>Reg</td>\n",
       "      <td>Lvl</td>\n",
       "      <td>...</td>\n",
       "      <td>0</td>\n",
       "      <td>0</td>\n",
       "      <td>NaN</td>\n",
       "      <td>GdWo</td>\n",
       "      <td>NaN</td>\n",
       "      <td>0</td>\n",
       "      <td>3</td>\n",
       "      <td>2007</td>\n",
       "      <td>WD</td>\n",
       "      <td>135284.064909</td>\n",
       "    </tr>\n",
       "  </tbody>\n",
       "</table>\n",
       "<p>878 rows × 81 columns</p>\n",
       "</div>"
      ],
      "text/plain": [
       "       Id        PID  MSSubClass MSZoning  LotFrontage  LotArea Street Alley  \\\n",
       "0    2658  902301120         190       RM         69.0     9142   Pave  Grvl   \n",
       "1    2718  905108090          90       RL          NaN     9662   Pave   NaN   \n",
       "2    2414  528218130          60       RL         58.0    17104   Pave   NaN   \n",
       "3    1989  902207150          30       RM         60.0     8520   Pave   NaN   \n",
       "4     625  535105100          20       RL          NaN     9500   Pave   NaN   \n",
       "..    ...        ...         ...      ...          ...      ...    ...   ...   \n",
       "873  1662  527377110          60       RL         80.0     8000   Pave   NaN   \n",
       "874  1234  535126140          60       RL         90.0    14670   Pave   NaN   \n",
       "875  1373  904100040          20       RL         55.0     8250   Pave   NaN   \n",
       "876  1672  527425140          20       RL         60.0     9000   Pave   NaN   \n",
       "877  1939  535327160          20       RL         70.0     8400   Pave   NaN   \n",
       "\n",
       "    LotShape LandContour  ... ScreenPorch PoolArea PoolQC  Fence MiscFeature  \\\n",
       "0        Reg         Lvl  ...           0        0    NaN    NaN         NaN   \n",
       "1        IR1         Lvl  ...           0        0    NaN    NaN         NaN   \n",
       "2        IR1         Lvl  ...           0        0    NaN    NaN         NaN   \n",
       "3        Reg         Lvl  ...           0        0    NaN    NaN         NaN   \n",
       "4        IR1         Lvl  ...         185        0    NaN    NaN         NaN   \n",
       "..       ...         ...  ...         ...      ...    ...    ...         ...   \n",
       "873      Reg         Lvl  ...           0        0    NaN    NaN         NaN   \n",
       "874      Reg         Lvl  ...           0        0    NaN  MnPrv         NaN   \n",
       "875      Reg         Lvl  ...           0        0    NaN    NaN         NaN   \n",
       "876      Reg         Lvl  ...           0        0    NaN   GdWo         NaN   \n",
       "877      Reg         Lvl  ...           0        0    NaN   GdWo         NaN   \n",
       "\n",
       "    MiscVal MoSold YrSold  SaleType      SalePrice  \n",
       "0         0      4   2006       WD   143044.553992  \n",
       "1         0      8   2006       WD   154124.848059  \n",
       "2         0      9   2006       New  199934.818452  \n",
       "3         0      7   2007       WD   108535.998597  \n",
       "4         0      7   2009       WD   191933.730322  \n",
       "..      ...    ...    ...       ...            ...  \n",
       "873       0     11   2007       WD   199232.232524  \n",
       "874       0      8   2008       WD   205330.296117  \n",
       "875       0      8   2008       WD   123752.564308  \n",
       "876       0      5   2007       WD   111647.338647  \n",
       "877       0      3   2007       WD   135284.064909  \n",
       "\n",
       "[878 rows x 81 columns]"
      ]
     },
     "execution_count": 63,
     "metadata": {},
     "output_type": "execute_result"
    }
   ],
   "source": [
    "housing_test0"
   ]
  },
  {
   "cell_type": "code",
   "execution_count": 64,
   "id": "40050488-944e-47a8-b77d-a104331f53d1",
   "metadata": {
    "tags": []
   },
   "outputs": [],
   "source": [
    "submission1 = housing_test0[['Id', 'SalePrice']]"
   ]
  },
  {
   "cell_type": "code",
   "execution_count": 66,
   "id": "92e23c85-5bac-4747-976a-0fdeae8db536",
   "metadata": {
    "tags": []
   },
   "outputs": [],
   "source": [
    "submission1.set_index('Id', inplace = True)"
   ]
  },
  {
   "cell_type": "code",
   "execution_count": 67,
   "id": "6ee4afd4-93f6-4f45-a57e-f39e00c144b7",
   "metadata": {
    "tags": []
   },
   "outputs": [],
   "source": [
    "submission1.to_csv('submission1.csv')"
   ]
  },
  {
   "cell_type": "code",
   "execution_count": 68,
   "id": "703f2b4c-53c1-4a7a-b735-751d44ca14b1",
   "metadata": {
    "tags": []
   },
   "outputs": [
    {
     "data": {
      "text/html": [
       "<div>\n",
       "<style scoped>\n",
       "    .dataframe tbody tr th:only-of-type {\n",
       "        vertical-align: middle;\n",
       "    }\n",
       "\n",
       "    .dataframe tbody tr th {\n",
       "        vertical-align: top;\n",
       "    }\n",
       "\n",
       "    .dataframe thead th {\n",
       "        text-align: right;\n",
       "    }\n",
       "</style>\n",
       "<table border=\"1\" class=\"dataframe\">\n",
       "  <thead>\n",
       "    <tr style=\"text-align: right;\">\n",
       "      <th></th>\n",
       "      <th>SalePrice</th>\n",
       "    </tr>\n",
       "    <tr>\n",
       "      <th>Id</th>\n",
       "      <th></th>\n",
       "    </tr>\n",
       "  </thead>\n",
       "  <tbody>\n",
       "    <tr>\n",
       "      <th>2658</th>\n",
       "      <td>143044.553992</td>\n",
       "    </tr>\n",
       "    <tr>\n",
       "      <th>2718</th>\n",
       "      <td>154124.848059</td>\n",
       "    </tr>\n",
       "    <tr>\n",
       "      <th>2414</th>\n",
       "      <td>199934.818452</td>\n",
       "    </tr>\n",
       "    <tr>\n",
       "      <th>1989</th>\n",
       "      <td>108535.998597</td>\n",
       "    </tr>\n",
       "    <tr>\n",
       "      <th>625</th>\n",
       "      <td>191933.730322</td>\n",
       "    </tr>\n",
       "    <tr>\n",
       "      <th>...</th>\n",
       "      <td>...</td>\n",
       "    </tr>\n",
       "    <tr>\n",
       "      <th>1662</th>\n",
       "      <td>199232.232524</td>\n",
       "    </tr>\n",
       "    <tr>\n",
       "      <th>1234</th>\n",
       "      <td>205330.296117</td>\n",
       "    </tr>\n",
       "    <tr>\n",
       "      <th>1373</th>\n",
       "      <td>123752.564308</td>\n",
       "    </tr>\n",
       "    <tr>\n",
       "      <th>1672</th>\n",
       "      <td>111647.338647</td>\n",
       "    </tr>\n",
       "    <tr>\n",
       "      <th>1939</th>\n",
       "      <td>135284.064909</td>\n",
       "    </tr>\n",
       "  </tbody>\n",
       "</table>\n",
       "<p>878 rows × 1 columns</p>\n",
       "</div>"
      ],
      "text/plain": [
       "          SalePrice\n",
       "Id                 \n",
       "2658  143044.553992\n",
       "2718  154124.848059\n",
       "2414  199934.818452\n",
       "1989  108535.998597\n",
       "625   191933.730322\n",
       "...             ...\n",
       "1662  199232.232524\n",
       "1234  205330.296117\n",
       "1373  123752.564308\n",
       "1672  111647.338647\n",
       "1939  135284.064909\n",
       "\n",
       "[878 rows x 1 columns]"
      ]
     },
     "execution_count": 68,
     "metadata": {},
     "output_type": "execute_result"
    }
   ],
   "source": [
    "submission1"
   ]
  }
 ],
 "metadata": {
  "kernelspec": {
   "display_name": "Python 3 (ipykernel)",
   "language": "python",
   "name": "python3"
  },
  "language_info": {
   "codemirror_mode": {
    "name": "ipython",
    "version": 3
   },
   "file_extension": ".py",
   "mimetype": "text/x-python",
   "name": "python",
   "nbconvert_exporter": "python",
   "pygments_lexer": "ipython3",
   "version": "3.11.4"
  }
 },
 "nbformat": 4,
 "nbformat_minor": 5
}
