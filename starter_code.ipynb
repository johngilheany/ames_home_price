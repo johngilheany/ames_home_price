{
 "cells": [
  {
   "cell_type": "markdown",
   "id": "cf8596c9-c719-4df2-b2c5-7ea7964eda59",
   "metadata": {},
   "source": [
    "# 1. EDA and Cleaning"
   ]
  },
  {
   "cell_type": "code",
   "execution_count": 423,
   "id": "6c416cec-4e4b-44cf-a15e-e12b7949e8c9",
   "metadata": {
    "tags": []
   },
   "outputs": [],
   "source": [
    "# Imports\n",
    "import pandas as pd\n",
    "import numpy as np\n",
    "import matplotlib.pyplot as plt\n",
    "import seaborn as sns\n",
    "from sklearn.linear_model import LinearRegression\n",
    "from sklearn import metrics\n",
    "from sklearn.preprocessing import StandardScaler, PolynomialFeatures, OneHotEncoder\n",
    "from sklearn.compose import ColumnTransformer\n",
    "from sklearn.model_selection import train_test_split, cross_val_score\n",
    "\n"
   ]
  },
  {
   "cell_type": "code",
   "execution_count": 368,
   "id": "6646ac16-fce1-48bc-865f-5ab95732749e",
   "metadata": {
    "tags": []
   },
   "outputs": [],
   "source": [
    "# Read in Data\n",
    "housing = pd.read_csv('datasets/train.csv')\n",
    "housing_test = pd.read_csv('datasets/test.csv')"
   ]
  },
  {
   "cell_type": "code",
   "execution_count": 369,
   "id": "d2a364a4-4401-4b02-ba2a-3be15b9860f1",
   "metadata": {
    "tags": []
   },
   "outputs": [],
   "source": [
    "# Lot of NA values. However some actually mean 0, so need to fix this. \n",
    "# i.e. GarageQual NA means No Garage\n",
    "# housing.isna().mean().sort_values(ascending=False).head(20)"
   ]
  },
  {
   "cell_type": "code",
   "execution_count": 370,
   "id": "bb127146-f8fe-47c8-bc9f-063f83db2077",
   "metadata": {
    "tags": []
   },
   "outputs": [],
   "source": [
    "# housing.loc[housing['Overall Cond'] == 2, ['Functional']]"
   ]
  },
  {
   "cell_type": "markdown",
   "id": "e41f5847-ceb4-4a53-86ce-b63ca73caeda",
   "metadata": {},
   "source": [
    "### Read through data dictionary, decide on which variables to use"
   ]
  },
  {
   "cell_type": "code",
   "execution_count": 371,
   "id": "a39ccf0b-f7f2-40b3-ac3b-fedcfe2389ed",
   "metadata": {
    "tags": []
   },
   "outputs": [
    {
     "data": {
      "text/plain": [
       "Index(['1stFlrSF', '2ndFlrSF', '3SsnPorch', 'Alley', 'BedroomAbvGr',\n",
       "       'BldgType', 'BsmtCond', 'BsmtExposure', 'BsmtFinSF1', 'BsmtFinSF2',\n",
       "       'BsmtFinType1', 'BsmtFinType2', 'BsmtFullBath', 'BsmtHalfBath',\n",
       "       'BsmtQual', 'BsmtUnfSF', 'CentralAir', 'Condition1', 'Condition2',\n",
       "       'Electrical', 'EnclosedPorch', 'ExterCond', 'ExterQual', 'Exterior1st',\n",
       "       'Exterior2nd', 'Fence', 'FireplaceQu', 'Fireplaces', 'Foundation',\n",
       "       'FullBath', 'Functional', 'GarageArea', 'GarageCars', 'GarageCond',\n",
       "       'GarageFinish', 'GarageQual', 'GarageType', 'GarageYrBlt', 'GrLivArea',\n",
       "       'HalfBath', 'Heating', 'HeatingQC', 'HouseStyle', 'Id', 'KitchenAbvGr',\n",
       "       'KitchenQual', 'LandContour', 'LandSlope', 'LotArea', 'LotConfig',\n",
       "       'LotFrontage', 'LotShape', 'LowQualFinSF', 'MSSubClass', 'MSZoning',\n",
       "       'MasVnrArea', 'MasVnrType', 'MiscFeature', 'MiscVal', 'MoSold',\n",
       "       'Neighborhood', 'OpenPorchSF', 'OverallCond', 'OverallQual', 'PID',\n",
       "       'PavedDrive', 'PoolArea', 'PoolQC', 'RoofMatl', 'RoofStyle',\n",
       "       'SalePrice', 'SaleType', 'ScreenPorch', 'Street', 'TotRmsAbvGrd',\n",
       "       'TotalBsmtSF', 'Utilities', 'WoodDeckSF', 'YearBuilt', 'YearRemod/Add',\n",
       "       'YrSold'],\n",
       "      dtype='object')"
      ]
     },
     "execution_count": 371,
     "metadata": {},
     "output_type": "execute_result"
    }
   ],
   "source": [
    "# Remove spaces in col names b/c data dictionary col names do not include spaces\n",
    "housing.columns = [n.replace(\" \", \"\") for n in housing.columns]\n",
    "# housing.head()\n",
    "housing.columns.sort_values()"
   ]
  },
  {
   "cell_type": "code",
   "execution_count": 372,
   "id": "f3a1cd6d-9fc7-40fc-a7b3-cff708181172",
   "metadata": {
    "tags": []
   },
   "outputs": [
    {
     "data": {
      "text/html": [
       "<div>\n",
       "<style scoped>\n",
       "    .dataframe tbody tr th:only-of-type {\n",
       "        vertical-align: middle;\n",
       "    }\n",
       "\n",
       "    .dataframe tbody tr th {\n",
       "        vertical-align: top;\n",
       "    }\n",
       "\n",
       "    .dataframe thead th {\n",
       "        text-align: right;\n",
       "    }\n",
       "</style>\n",
       "<table border=\"1\" class=\"dataframe\">\n",
       "  <thead>\n",
       "    <tr style=\"text-align: right;\">\n",
       "      <th></th>\n",
       "      <th>MSSubClass</th>\n",
       "      <th>MSZoning</th>\n",
       "      <th>Neighborhood</th>\n",
       "      <th>OverallQual</th>\n",
       "      <th>OverallCond</th>\n",
       "      <th>YearRemod/Add</th>\n",
       "      <th>TotalBsmtSF</th>\n",
       "      <th>HeatingQC</th>\n",
       "      <th>CentralAir</th>\n",
       "      <th>GrLivArea</th>\n",
       "      <th>...</th>\n",
       "      <th>EnclosedPorch</th>\n",
       "      <th>3SsnPorch</th>\n",
       "      <th>ScreenPorch</th>\n",
       "      <th>MiscVal</th>\n",
       "      <th>MoSold</th>\n",
       "      <th>YrSold</th>\n",
       "      <th>Condition1</th>\n",
       "      <th>Fireplaces</th>\n",
       "      <th>PoolArea</th>\n",
       "      <th>SalePrice</th>\n",
       "    </tr>\n",
       "  </thead>\n",
       "  <tbody>\n",
       "    <tr>\n",
       "      <th>0</th>\n",
       "      <td>60</td>\n",
       "      <td>RL</td>\n",
       "      <td>Sawyer</td>\n",
       "      <td>6</td>\n",
       "      <td>8</td>\n",
       "      <td>2005</td>\n",
       "      <td>725.0</td>\n",
       "      <td>Ex</td>\n",
       "      <td>Y</td>\n",
       "      <td>1479</td>\n",
       "      <td>...</td>\n",
       "      <td>0</td>\n",
       "      <td>0</td>\n",
       "      <td>0</td>\n",
       "      <td>0</td>\n",
       "      <td>3</td>\n",
       "      <td>2010</td>\n",
       "      <td>RRAe</td>\n",
       "      <td>0</td>\n",
       "      <td>0</td>\n",
       "      <td>130500</td>\n",
       "    </tr>\n",
       "    <tr>\n",
       "      <th>1</th>\n",
       "      <td>60</td>\n",
       "      <td>RL</td>\n",
       "      <td>SawyerW</td>\n",
       "      <td>7</td>\n",
       "      <td>5</td>\n",
       "      <td>1997</td>\n",
       "      <td>913.0</td>\n",
       "      <td>Ex</td>\n",
       "      <td>Y</td>\n",
       "      <td>2122</td>\n",
       "      <td>...</td>\n",
       "      <td>0</td>\n",
       "      <td>0</td>\n",
       "      <td>0</td>\n",
       "      <td>0</td>\n",
       "      <td>4</td>\n",
       "      <td>2009</td>\n",
       "      <td>Norm</td>\n",
       "      <td>1</td>\n",
       "      <td>0</td>\n",
       "      <td>220000</td>\n",
       "    </tr>\n",
       "    <tr>\n",
       "      <th>2</th>\n",
       "      <td>20</td>\n",
       "      <td>RL</td>\n",
       "      <td>NAmes</td>\n",
       "      <td>5</td>\n",
       "      <td>7</td>\n",
       "      <td>2007</td>\n",
       "      <td>1057.0</td>\n",
       "      <td>TA</td>\n",
       "      <td>Y</td>\n",
       "      <td>1057</td>\n",
       "      <td>...</td>\n",
       "      <td>0</td>\n",
       "      <td>0</td>\n",
       "      <td>0</td>\n",
       "      <td>0</td>\n",
       "      <td>1</td>\n",
       "      <td>2010</td>\n",
       "      <td>Norm</td>\n",
       "      <td>0</td>\n",
       "      <td>0</td>\n",
       "      <td>109000</td>\n",
       "    </tr>\n",
       "    <tr>\n",
       "      <th>3</th>\n",
       "      <td>60</td>\n",
       "      <td>RL</td>\n",
       "      <td>Timber</td>\n",
       "      <td>5</td>\n",
       "      <td>5</td>\n",
       "      <td>2007</td>\n",
       "      <td>384.0</td>\n",
       "      <td>Gd</td>\n",
       "      <td>Y</td>\n",
       "      <td>1444</td>\n",
       "      <td>...</td>\n",
       "      <td>0</td>\n",
       "      <td>0</td>\n",
       "      <td>0</td>\n",
       "      <td>0</td>\n",
       "      <td>4</td>\n",
       "      <td>2010</td>\n",
       "      <td>Norm</td>\n",
       "      <td>0</td>\n",
       "      <td>0</td>\n",
       "      <td>174000</td>\n",
       "    </tr>\n",
       "    <tr>\n",
       "      <th>4</th>\n",
       "      <td>50</td>\n",
       "      <td>RL</td>\n",
       "      <td>SawyerW</td>\n",
       "      <td>6</td>\n",
       "      <td>8</td>\n",
       "      <td>1993</td>\n",
       "      <td>676.0</td>\n",
       "      <td>TA</td>\n",
       "      <td>Y</td>\n",
       "      <td>1445</td>\n",
       "      <td>...</td>\n",
       "      <td>0</td>\n",
       "      <td>0</td>\n",
       "      <td>0</td>\n",
       "      <td>0</td>\n",
       "      <td>3</td>\n",
       "      <td>2010</td>\n",
       "      <td>Norm</td>\n",
       "      <td>0</td>\n",
       "      <td>0</td>\n",
       "      <td>138500</td>\n",
       "    </tr>\n",
       "  </tbody>\n",
       "</table>\n",
       "<p>5 rows × 28 columns</p>\n",
       "</div>"
      ],
      "text/plain": [
       "   MSSubClass MSZoning Neighborhood  OverallQual  OverallCond  YearRemod/Add  \\\n",
       "0          60       RL       Sawyer            6            8           2005   \n",
       "1          60       RL      SawyerW            7            5           1997   \n",
       "2          20       RL        NAmes            5            7           2007   \n",
       "3          60       RL       Timber            5            5           2007   \n",
       "4          50       RL      SawyerW            6            8           1993   \n",
       "\n",
       "   TotalBsmtSF HeatingQC CentralAir  GrLivArea  ...  EnclosedPorch  3SsnPorch  \\\n",
       "0        725.0        Ex          Y       1479  ...              0          0   \n",
       "1        913.0        Ex          Y       2122  ...              0          0   \n",
       "2       1057.0        TA          Y       1057  ...              0          0   \n",
       "3        384.0        Gd          Y       1444  ...              0          0   \n",
       "4        676.0        TA          Y       1445  ...              0          0   \n",
       "\n",
       "   ScreenPorch  MiscVal  MoSold  YrSold  Condition1  Fireplaces  PoolArea  \\\n",
       "0            0        0       3    2010        RRAe           0         0   \n",
       "1            0        0       4    2009        Norm           1         0   \n",
       "2            0        0       1    2010        Norm           0         0   \n",
       "3            0        0       4    2010        Norm           0         0   \n",
       "4            0        0       3    2010        Norm           0         0   \n",
       "\n",
       "   SalePrice  \n",
       "0     130500  \n",
       "1     220000  \n",
       "2     109000  \n",
       "3     174000  \n",
       "4     138500  \n",
       "\n",
       "[5 rows x 28 columns]"
      ]
     },
     "execution_count": 372,
     "metadata": {},
     "output_type": "execute_result"
    }
   ],
   "source": [
    "# Save var names in txt file\n",
    "# Create function to get variable names into list from txt file\n",
    "# https://stackoverflow.com/questions/23372086/how-would-i-read-only-the-first-word-of-each-line-of-a-text-file\n",
    "\n",
    "def get_var_name(txt_file):\n",
    "    vars = []\n",
    "    with open(txt_file, 'r') as f:\n",
    "        for line in f:\n",
    "            vars.append(line.split(None, 1)[0][:-1])\n",
    "    return vars\n",
    "\n",
    "init_vars = get_var_name('datasets/initial_vars.txt')\n",
    "housing_init = housing[init_vars]\n",
    "housing_init.head()"
   ]
  },
  {
   "cell_type": "markdown",
   "id": "d7ac944b-f4ea-432c-a8de-2ebe21fcc0b3",
   "metadata": {},
   "source": [
    "### Null values"
   ]
  },
  {
   "cell_type": "code",
   "execution_count": 373,
   "id": "489a1100-682f-483f-88ac-82bb2ab474a7",
   "metadata": {},
   "outputs": [
    {
     "data": {
      "text/plain": [
       "<bound method Series.sort_values of MSSubClass       0.000000\n",
       "MSZoning         0.000000\n",
       "Neighborhood     0.000000\n",
       "OverallQual      0.000000\n",
       "OverallCond      0.000000\n",
       "YearRemod/Add    0.000000\n",
       "TotalBsmtSF      0.000488\n",
       "HeatingQC        0.000000\n",
       "CentralAir       0.000000\n",
       "GrLivArea        0.000000\n",
       "BsmtFullBath     0.000975\n",
       "BsmtHalfBath     0.000975\n",
       "FullBath         0.000000\n",
       "HalfBath         0.000000\n",
       "TotRmsAbvGrd     0.000000\n",
       "GarageCars       0.000488\n",
       "WoodDeckSF       0.000000\n",
       "OpenPorchSF      0.000000\n",
       "EnclosedPorch    0.000000\n",
       "3SsnPorch        0.000000\n",
       "ScreenPorch      0.000000\n",
       "MiscVal          0.000000\n",
       "MoSold           0.000000\n",
       "YrSold           0.000000\n",
       "Condition1       0.000000\n",
       "Fireplaces       0.000000\n",
       "PoolArea         0.000000\n",
       "SalePrice        0.000000\n",
       "dtype: float64>"
      ]
     },
     "execution_count": 373,
     "metadata": {},
     "output_type": "execute_result"
    }
   ],
   "source": [
    "# Check for NA values. \n",
    "housing_init.isna().mean().sort_values\n",
    "# X_init_vars.loc[X_init_vars['MasVnrArea'].isna(), ]"
   ]
  },
  {
   "cell_type": "markdown",
   "id": "6af2e610-def9-439b-8176-2ff99ea3595d",
   "metadata": {
    "tags": []
   },
   "source": [
    "Replace NAs with 0. They are not missing values, but 0 (i.e. basement bathroom is 0 not NA if there is no basement)"
   ]
  },
  {
   "cell_type": "code",
   "execution_count": 374,
   "id": "09010558-cdc7-458c-bc07-38ca508fcb56",
   "metadata": {
    "tags": []
   },
   "outputs": [],
   "source": [
    "# https://www.geeksforgeeks.org/replace-nan-values-with-zeros-in-pandas-dataframe/\n",
    "housing_init = housing_init.fillna(0)"
   ]
  },
  {
   "cell_type": "markdown",
   "id": "99f377e9-c81f-43d8-b639-ecc92ae8dba1",
   "metadata": {},
   "source": [
    "### Variable Transformations"
   ]
  },
  {
   "cell_type": "markdown",
   "id": "ceaef67e-fcfe-4b0f-bef0-9386a337dada",
   "metadata": {
    "tags": []
   },
   "source": [
    "Add 'age' of home to be time since build or latest remodel. Assume data is from 2011"
   ]
  },
  {
   "cell_type": "code",
   "execution_count": 375,
   "id": "c267f586-4858-46c3-a477-f5065a56dd55",
   "metadata": {
    "tags": []
   },
   "outputs": [
    {
     "data": {
      "text/plain": [
       "YearRemod/Add\n",
       "1950    262\n",
       "1951     10\n",
       "1952      9\n",
       "1953     18\n",
       "1954     17\n",
       "       ... \n",
       "2006    139\n",
       "2007    123\n",
       "2008     55\n",
       "2009     23\n",
       "2010      8\n",
       "Name: YearRemod/Add, Length: 61, dtype: int64"
      ]
     },
     "execution_count": 375,
     "metadata": {},
     "output_type": "execute_result"
    }
   ],
   "source": [
    "housing_init['YearRemod/Add'].groupby(housing_init['YearRemod/Add']).count()"
   ]
  },
  {
   "cell_type": "code",
   "execution_count": 376,
   "id": "aed77c40-730f-4586-a05a-5e12810d6b43",
   "metadata": {
    "tags": []
   },
   "outputs": [],
   "source": [
    "housing_init['Age'] = 2011 - housing_init['YearRemod/Add']"
   ]
  },
  {
   "cell_type": "code",
   "execution_count": 377,
   "id": "910729cc-64f8-49d1-b68f-1348bd1b8dae",
   "metadata": {
    "tags": []
   },
   "outputs": [],
   "source": [
    "housing_init.drop(columns =['YearRemod/Add'], inplace= True)"
   ]
  },
  {
   "cell_type": "code",
   "execution_count": 378,
   "id": "1f38339f-5e55-4ffd-93d2-ddf13b1c1dd9",
   "metadata": {
    "tags": []
   },
   "outputs": [
    {
     "data": {
      "text/plain": [
       "count    2051.000000\n",
       "mean       26.809849\n",
       "std        21.036250\n",
       "min         1.000000\n",
       "25%         7.000000\n",
       "50%        18.000000\n",
       "75%        46.500000\n",
       "max        61.000000\n",
       "Name: Age, dtype: float64"
      ]
     },
     "execution_count": 378,
     "metadata": {},
     "output_type": "execute_result"
    }
   ],
   "source": [
    "# Ages range from 1-61 years, which makes sense \n",
    "housing_init['Age'].describe()"
   ]
  },
  {
   "cell_type": "markdown",
   "id": "0271d44f-8aac-4f40-ae61-8e4eea4ca805",
   "metadata": {
    "tags": []
   },
   "source": [
    "Add 'TotalBaths' as new variable, adding up basement full bathrooms, basement half bathrooms, full bathrooms above grade, and half bathrooms above grade. "
   ]
  },
  {
   "cell_type": "code",
   "execution_count": 379,
   "id": "8413d8e2-ea25-40e6-9e23-a6f023a2318c",
   "metadata": {
    "tags": []
   },
   "outputs": [],
   "source": [
    "housing_init['TotalBaths'] = housing_init['BsmtFullBath'] + 0.5*housing_init['BsmtHalfBath'] + housing_init['FullBath'] + 0.5*housing_init['HalfBath']"
   ]
  },
  {
   "cell_type": "code",
   "execution_count": 380,
   "id": "e0acae37-0b97-43dd-8ea0-c3e7f40e274c",
   "metadata": {
    "tags": []
   },
   "outputs": [
    {
     "data": {
      "text/plain": [
       "count    2051.000000\n",
       "mean        2.221599\n",
       "std         0.807294\n",
       "min         1.000000\n",
       "25%         2.000000\n",
       "50%         2.000000\n",
       "75%         3.000000\n",
       "max         7.000000\n",
       "Name: TotalBaths, dtype: float64"
      ]
     },
     "execution_count": 380,
     "metadata": {},
     "output_type": "execute_result"
    }
   ],
   "source": [
    "housing_init['TotalBaths'].describe()"
   ]
  },
  {
   "cell_type": "code",
   "execution_count": 381,
   "id": "e15c69ba-79d3-4ae7-b83f-10244f4d4137",
   "metadata": {
    "tags": []
   },
   "outputs": [],
   "source": [
    "housing_init.drop(columns =['BsmtFullBath', 'BsmtHalfBath', 'FullBath', 'HalfBath'], inplace= True)"
   ]
  },
  {
   "cell_type": "markdown",
   "id": "35eba827-39dd-4f82-8443-3407cac4aa05",
   "metadata": {
    "tags": []
   },
   "source": [
    "Add 'OutdoorSF' as outdoor square feet, which represents the sum of wood deck, open porch, enclosed porch, 3 screen porch and screen porch square feet. "
   ]
  },
  {
   "cell_type": "code",
   "execution_count": 382,
   "id": "c7d5bd1b-876c-4538-ae70-566fd72857d2",
   "metadata": {
    "tags": []
   },
   "outputs": [],
   "source": [
    "housing_init['OutdoorSF'] = housing_init['WoodDeckSF'] + housing_init['OpenPorchSF'] + housing_init['EnclosedPorch'] + housing_init['3SsnPorch'] + housing_init['ScreenPorch'] "
   ]
  },
  {
   "cell_type": "code",
   "execution_count": 383,
   "id": "0f1645c0-cc16-42af-8961-7c8c7b2653e9",
   "metadata": {
    "tags": []
   },
   "outputs": [
    {
     "data": {
      "text/plain": [
       "count    2051.000000\n",
       "mean      183.065334\n",
       "std       160.116258\n",
       "min         0.000000\n",
       "25%        49.000000\n",
       "50%       164.000000\n",
       "75%       268.000000\n",
       "max      1424.000000\n",
       "Name: OutdoorSF, dtype: float64"
      ]
     },
     "execution_count": 383,
     "metadata": {},
     "output_type": "execute_result"
    }
   ],
   "source": [
    "housing_init['OutdoorSF'].describe()"
   ]
  },
  {
   "cell_type": "code",
   "execution_count": 384,
   "id": "74deb26c-5fd5-422c-93a6-21e3d5fc7dd1",
   "metadata": {
    "tags": []
   },
   "outputs": [],
   "source": [
    "housing_init.drop(columns =['WoodDeckSF', 'OpenPorchSF', 'EnclosedPorch', '3SsnPorch', 'ScreenPorch'], inplace= True)"
   ]
  },
  {
   "cell_type": "markdown",
   "id": "0ae8591d-b532-4fd8-9f6b-7b8bcd594c50",
   "metadata": {},
   "source": [
    "**Deal with MiscVal ($Value of miscellaneous feature). I want to add it to the model instead of having it as a variable**"
   ]
  },
  {
   "cell_type": "markdown",
   "id": "1651d816-56c5-4d4d-bfe5-762f7a59f4b2",
   "metadata": {},
   "source": [
    "Convert month sold into calendar year quarter (Q1 for Jan-Mar, etc.)"
   ]
  },
  {
   "cell_type": "code",
   "execution_count": 385,
   "id": "a131a47e-192b-46fb-9bd7-2d43cd7bb9e0",
   "metadata": {
    "tags": []
   },
   "outputs": [
    {
     "data": {
      "text/plain": [
       "count    2051.000000\n",
       "mean        6.219893\n",
       "std         2.744736\n",
       "min         1.000000\n",
       "25%         4.000000\n",
       "50%         6.000000\n",
       "75%         8.000000\n",
       "max        12.000000\n",
       "Name: MoSold, dtype: float64"
      ]
     },
     "execution_count": 385,
     "metadata": {},
     "output_type": "execute_result"
    }
   ],
   "source": [
    "# https://www.nar.realtor/blogs/economists-outlook/seasonality-in-the-housing-market\n",
    "housing_init['MoSold'].describe()"
   ]
  },
  {
   "cell_type": "code",
   "execution_count": 386,
   "id": "0fb863a8-fa31-43f1-bcb0-d4fbc5af1eaf",
   "metadata": {
    "tags": []
   },
   "outputs": [],
   "source": [
    "housing_init['Quarter'] = np.nan\n",
    "q = []\n",
    "for month in housing_init['MoSold']:\n",
    "    if month < 4:\n",
    "        q.append('Q1')\n",
    "    elif month < 7:\n",
    "        q.append('Q2')\n",
    "    elif month < 10:\n",
    "        q.append('Q3')\n",
    "    else:\n",
    "        q.append('Q4')\n",
    "\n",
    "housing_init['Quarter'] = q"
   ]
  },
  {
   "cell_type": "code",
   "execution_count": 387,
   "id": "bd0f7b8e-9de1-4130-a3ca-d9389e8a8a3a",
   "metadata": {
    "tags": []
   },
   "outputs": [
    {
     "data": {
      "text/plain": [
       "Quarter\n",
       "Q1    351\n",
       "Q2    817\n",
       "Q3    579\n",
       "Q4    304\n",
       "Name: Quarter, dtype: int64"
      ]
     },
     "execution_count": 387,
     "metadata": {},
     "output_type": "execute_result"
    }
   ],
   "source": [
    "housing_init['Quarter'].groupby(housing_init['Quarter']).count()"
   ]
  },
  {
   "cell_type": "code",
   "execution_count": 396,
   "id": "1a67343b-7b63-45d0-bbf2-81fad06daaf4",
   "metadata": {
    "tags": []
   },
   "outputs": [],
   "source": [
    "housing_init.drop(columns =['MoSold'], inplace=True)"
   ]
  },
  {
   "cell_type": "markdown",
   "id": "be416fef-2a0f-483b-9b71-b84e75fb0cc2",
   "metadata": {
    "tags": []
   },
   "source": [
    "Convert year to binary variable 'GFC', before and after 2008 (Great Financial Crisis) which negatively impacted real estate prices. "
   ]
  },
  {
   "cell_type": "code",
   "execution_count": 388,
   "id": "f0bdbbf8-e1e8-4158-a4a6-36b6f99939e6",
   "metadata": {
    "tags": []
   },
   "outputs": [
    {
     "data": {
      "text/plain": [
       "YrSold\n",
       "2006    179471.609589\n",
       "2007    185524.514056\n",
       "2008    181750.372414\n",
       "2009    182455.244395\n",
       "2010    174180.059829\n",
       "Name: SalePrice, dtype: float64"
      ]
     },
     "execution_count": 388,
     "metadata": {},
     "output_type": "execute_result"
    }
   ],
   "source": [
    "housing_init['SalePrice'].groupby(housing_init['YrSold']).mean()"
   ]
  },
  {
   "cell_type": "code",
   "execution_count": 389,
   "id": "626ed67a-c944-4712-aeac-de1136642a43",
   "metadata": {
    "tags": []
   },
   "outputs": [],
   "source": [
    "housing_init['GFC'] = np.nan\n",
    "year = []\n",
    "for yr in housing_init['YrSold']:\n",
    "    if yr > 2009:\n",
    "        year.append('0')\n",
    "    else:\n",
    "        year.append('1')\n",
    "\n",
    "housing_init['GFC'] = year"
   ]
  },
  {
   "cell_type": "code",
   "execution_count": 390,
   "id": "6701f7dc-571b-41f0-bc2f-ffedd7f9c14f",
   "metadata": {
    "tags": []
   },
   "outputs": [
    {
     "data": {
      "text/plain": [
       "GFC\n",
       "0     234\n",
       "1    1817\n",
       "Name: GFC, dtype: int64"
      ]
     },
     "execution_count": 390,
     "metadata": {},
     "output_type": "execute_result"
    }
   ],
   "source": [
    "housing_init['GFC'].groupby(housing_init['GFC']).count()"
   ]
  },
  {
   "cell_type": "code",
   "execution_count": 397,
   "id": "c365cf23-bdb1-43ac-a9e7-747d9baa0f85",
   "metadata": {
    "tags": []
   },
   "outputs": [],
   "source": [
    "housing_init.drop(columns =['YrSold'], inplace=True)"
   ]
  },
  {
   "cell_type": "markdown",
   "id": "a4cfd9aa-4170-4df2-970a-6039402a2ea8",
   "metadata": {},
   "source": [
    "### Variable Types"
   ]
  },
  {
   "cell_type": "code",
   "execution_count": 398,
   "id": "1be9a8f8-2ff8-42c4-a0c8-39c026c9f083",
   "metadata": {
    "tags": []
   },
   "outputs": [
    {
     "name": "stdout",
     "output_type": "stream",
     "text": [
      "<class 'pandas.core.frame.DataFrame'>\n",
      "RangeIndex: 2051 entries, 0 to 2050\n",
      "Data columns (total 21 columns):\n",
      " #   Column        Non-Null Count  Dtype  \n",
      "---  ------        --------------  -----  \n",
      " 0   MSSubClass    2051 non-null   int64  \n",
      " 1   MSZoning      2051 non-null   object \n",
      " 2   Neighborhood  2051 non-null   object \n",
      " 3   OverallQual   2051 non-null   int64  \n",
      " 4   OverallCond   2051 non-null   int64  \n",
      " 5   TotalBsmtSF   2051 non-null   float64\n",
      " 6   HeatingQC     2051 non-null   object \n",
      " 7   CentralAir    2051 non-null   object \n",
      " 8   GrLivArea     2051 non-null   int64  \n",
      " 9   TotRmsAbvGrd  2051 non-null   int64  \n",
      " 10  GarageCars    2051 non-null   float64\n",
      " 11  MiscVal       2051 non-null   int64  \n",
      " 12  Condition1    2051 non-null   object \n",
      " 13  Fireplaces    2051 non-null   int64  \n",
      " 14  PoolArea      2051 non-null   int64  \n",
      " 15  SalePrice     2051 non-null   int64  \n",
      " 16  Age           2051 non-null   int64  \n",
      " 17  TotalBaths    2051 non-null   float64\n",
      " 18  OutdoorSF     2051 non-null   int64  \n",
      " 19  Quarter       2051 non-null   object \n",
      " 20  GFC           2051 non-null   object \n",
      "dtypes: float64(3), int64(11), object(7)\n",
      "memory usage: 336.6+ KB\n"
     ]
    }
   ],
   "source": [
    "housing_init.info()"
   ]
  },
  {
   "cell_type": "code",
   "execution_count": 404,
   "id": "8a660db0-d080-4a03-82b8-bca01413561b",
   "metadata": {
    "tags": []
   },
   "outputs": [],
   "source": [
    "# Convert variables to categorical \n",
    "housing_init_dummy = housing_init.drop(columns = ['TotalBsmtSF', 'GrLivArea', 'MiscVal', \n",
    "                                       'PoolArea', 'SalePrice', 'Age', 'OutdoorSF'])"
   ]
  },
  {
   "cell_type": "code",
   "execution_count": 416,
   "id": "f1e0c127-3397-4a24-a75f-0c768068f9aa",
   "metadata": {
    "tags": []
   },
   "outputs": [
    {
     "data": {
      "text/html": [
       "<div>\n",
       "<style scoped>\n",
       "    .dataframe tbody tr th:only-of-type {\n",
       "        vertical-align: middle;\n",
       "    }\n",
       "\n",
       "    .dataframe tbody tr th {\n",
       "        vertical-align: top;\n",
       "    }\n",
       "\n",
       "    .dataframe thead th {\n",
       "        text-align: right;\n",
       "    }\n",
       "</style>\n",
       "<table border=\"1\" class=\"dataframe\">\n",
       "  <thead>\n",
       "    <tr style=\"text-align: right;\">\n",
       "      <th></th>\n",
       "      <th>MSSubClass</th>\n",
       "      <th>OverallQual</th>\n",
       "      <th>OverallCond</th>\n",
       "      <th>TotRmsAbvGrd</th>\n",
       "      <th>GarageCars</th>\n",
       "      <th>Fireplaces</th>\n",
       "      <th>TotalBaths</th>\n",
       "      <th>MSZoning_C (all)</th>\n",
       "      <th>MSZoning_FV</th>\n",
       "      <th>MSZoning_I (all)</th>\n",
       "      <th>...</th>\n",
       "      <th>Condition1_PosA</th>\n",
       "      <th>Condition1_PosN</th>\n",
       "      <th>Condition1_RRAe</th>\n",
       "      <th>Condition1_RRAn</th>\n",
       "      <th>Condition1_RRNe</th>\n",
       "      <th>Condition1_RRNn</th>\n",
       "      <th>Quarter_Q2</th>\n",
       "      <th>Quarter_Q3</th>\n",
       "      <th>Quarter_Q4</th>\n",
       "      <th>GFC_1</th>\n",
       "    </tr>\n",
       "  </thead>\n",
       "  <tbody>\n",
       "    <tr>\n",
       "      <th>0</th>\n",
       "      <td>60</td>\n",
       "      <td>6</td>\n",
       "      <td>8</td>\n",
       "      <td>6</td>\n",
       "      <td>2.0</td>\n",
       "      <td>0</td>\n",
       "      <td>2.5</td>\n",
       "      <td>0</td>\n",
       "      <td>0</td>\n",
       "      <td>0</td>\n",
       "      <td>...</td>\n",
       "      <td>0</td>\n",
       "      <td>0</td>\n",
       "      <td>1</td>\n",
       "      <td>0</td>\n",
       "      <td>0</td>\n",
       "      <td>0</td>\n",
       "      <td>0</td>\n",
       "      <td>0</td>\n",
       "      <td>0</td>\n",
       "      <td>0</td>\n",
       "    </tr>\n",
       "    <tr>\n",
       "      <th>1</th>\n",
       "      <td>60</td>\n",
       "      <td>7</td>\n",
       "      <td>5</td>\n",
       "      <td>8</td>\n",
       "      <td>2.0</td>\n",
       "      <td>1</td>\n",
       "      <td>3.5</td>\n",
       "      <td>0</td>\n",
       "      <td>0</td>\n",
       "      <td>0</td>\n",
       "      <td>...</td>\n",
       "      <td>0</td>\n",
       "      <td>0</td>\n",
       "      <td>0</td>\n",
       "      <td>0</td>\n",
       "      <td>0</td>\n",
       "      <td>0</td>\n",
       "      <td>1</td>\n",
       "      <td>0</td>\n",
       "      <td>0</td>\n",
       "      <td>1</td>\n",
       "    </tr>\n",
       "    <tr>\n",
       "      <th>2</th>\n",
       "      <td>20</td>\n",
       "      <td>5</td>\n",
       "      <td>7</td>\n",
       "      <td>5</td>\n",
       "      <td>1.0</td>\n",
       "      <td>0</td>\n",
       "      <td>2.0</td>\n",
       "      <td>0</td>\n",
       "      <td>0</td>\n",
       "      <td>0</td>\n",
       "      <td>...</td>\n",
       "      <td>0</td>\n",
       "      <td>0</td>\n",
       "      <td>0</td>\n",
       "      <td>0</td>\n",
       "      <td>0</td>\n",
       "      <td>0</td>\n",
       "      <td>0</td>\n",
       "      <td>0</td>\n",
       "      <td>0</td>\n",
       "      <td>0</td>\n",
       "    </tr>\n",
       "    <tr>\n",
       "      <th>3</th>\n",
       "      <td>60</td>\n",
       "      <td>5</td>\n",
       "      <td>5</td>\n",
       "      <td>7</td>\n",
       "      <td>2.0</td>\n",
       "      <td>0</td>\n",
       "      <td>2.5</td>\n",
       "      <td>0</td>\n",
       "      <td>0</td>\n",
       "      <td>0</td>\n",
       "      <td>...</td>\n",
       "      <td>0</td>\n",
       "      <td>0</td>\n",
       "      <td>0</td>\n",
       "      <td>0</td>\n",
       "      <td>0</td>\n",
       "      <td>0</td>\n",
       "      <td>1</td>\n",
       "      <td>0</td>\n",
       "      <td>0</td>\n",
       "      <td>0</td>\n",
       "    </tr>\n",
       "    <tr>\n",
       "      <th>4</th>\n",
       "      <td>50</td>\n",
       "      <td>6</td>\n",
       "      <td>8</td>\n",
       "      <td>6</td>\n",
       "      <td>2.0</td>\n",
       "      <td>0</td>\n",
       "      <td>2.0</td>\n",
       "      <td>0</td>\n",
       "      <td>0</td>\n",
       "      <td>0</td>\n",
       "      <td>...</td>\n",
       "      <td>0</td>\n",
       "      <td>0</td>\n",
       "      <td>0</td>\n",
       "      <td>0</td>\n",
       "      <td>0</td>\n",
       "      <td>0</td>\n",
       "      <td>0</td>\n",
       "      <td>0</td>\n",
       "      <td>0</td>\n",
       "      <td>0</td>\n",
       "    </tr>\n",
       "    <tr>\n",
       "      <th>...</th>\n",
       "      <td>...</td>\n",
       "      <td>...</td>\n",
       "      <td>...</td>\n",
       "      <td>...</td>\n",
       "      <td>...</td>\n",
       "      <td>...</td>\n",
       "      <td>...</td>\n",
       "      <td>...</td>\n",
       "      <td>...</td>\n",
       "      <td>...</td>\n",
       "      <td>...</td>\n",
       "      <td>...</td>\n",
       "      <td>...</td>\n",
       "      <td>...</td>\n",
       "      <td>...</td>\n",
       "      <td>...</td>\n",
       "      <td>...</td>\n",
       "      <td>...</td>\n",
       "      <td>...</td>\n",
       "      <td>...</td>\n",
       "      <td>...</td>\n",
       "    </tr>\n",
       "    <tr>\n",
       "      <th>2046</th>\n",
       "      <td>20</td>\n",
       "      <td>8</td>\n",
       "      <td>5</td>\n",
       "      <td>7</td>\n",
       "      <td>2.0</td>\n",
       "      <td>1</td>\n",
       "      <td>3.0</td>\n",
       "      <td>0</td>\n",
       "      <td>0</td>\n",
       "      <td>0</td>\n",
       "      <td>...</td>\n",
       "      <td>0</td>\n",
       "      <td>0</td>\n",
       "      <td>0</td>\n",
       "      <td>0</td>\n",
       "      <td>0</td>\n",
       "      <td>0</td>\n",
       "      <td>0</td>\n",
       "      <td>0</td>\n",
       "      <td>0</td>\n",
       "      <td>1</td>\n",
       "    </tr>\n",
       "    <tr>\n",
       "      <th>2047</th>\n",
       "      <td>30</td>\n",
       "      <td>4</td>\n",
       "      <td>5</td>\n",
       "      <td>4</td>\n",
       "      <td>2.0</td>\n",
       "      <td>0</td>\n",
       "      <td>1.0</td>\n",
       "      <td>0</td>\n",
       "      <td>0</td>\n",
       "      <td>0</td>\n",
       "      <td>...</td>\n",
       "      <td>0</td>\n",
       "      <td>0</td>\n",
       "      <td>0</td>\n",
       "      <td>0</td>\n",
       "      <td>0</td>\n",
       "      <td>0</td>\n",
       "      <td>0</td>\n",
       "      <td>0</td>\n",
       "      <td>0</td>\n",
       "      <td>1</td>\n",
       "    </tr>\n",
       "    <tr>\n",
       "      <th>2048</th>\n",
       "      <td>50</td>\n",
       "      <td>6</td>\n",
       "      <td>6</td>\n",
       "      <td>9</td>\n",
       "      <td>2.0</td>\n",
       "      <td>1</td>\n",
       "      <td>1.5</td>\n",
       "      <td>0</td>\n",
       "      <td>0</td>\n",
       "      <td>0</td>\n",
       "      <td>...</td>\n",
       "      <td>0</td>\n",
       "      <td>0</td>\n",
       "      <td>0</td>\n",
       "      <td>0</td>\n",
       "      <td>0</td>\n",
       "      <td>0</td>\n",
       "      <td>0</td>\n",
       "      <td>0</td>\n",
       "      <td>0</td>\n",
       "      <td>1</td>\n",
       "    </tr>\n",
       "    <tr>\n",
       "      <th>2049</th>\n",
       "      <td>20</td>\n",
       "      <td>4</td>\n",
       "      <td>5</td>\n",
       "      <td>6</td>\n",
       "      <td>1.0</td>\n",
       "      <td>2</td>\n",
       "      <td>2.0</td>\n",
       "      <td>0</td>\n",
       "      <td>0</td>\n",
       "      <td>0</td>\n",
       "      <td>...</td>\n",
       "      <td>0</td>\n",
       "      <td>0</td>\n",
       "      <td>0</td>\n",
       "      <td>0</td>\n",
       "      <td>0</td>\n",
       "      <td>0</td>\n",
       "      <td>0</td>\n",
       "      <td>0</td>\n",
       "      <td>1</td>\n",
       "      <td>1</td>\n",
       "    </tr>\n",
       "    <tr>\n",
       "      <th>2050</th>\n",
       "      <td>60</td>\n",
       "      <td>7</td>\n",
       "      <td>5</td>\n",
       "      <td>7</td>\n",
       "      <td>2.0</td>\n",
       "      <td>1</td>\n",
       "      <td>2.5</td>\n",
       "      <td>0</td>\n",
       "      <td>0</td>\n",
       "      <td>0</td>\n",
       "      <td>...</td>\n",
       "      <td>0</td>\n",
       "      <td>0</td>\n",
       "      <td>0</td>\n",
       "      <td>0</td>\n",
       "      <td>0</td>\n",
       "      <td>0</td>\n",
       "      <td>1</td>\n",
       "      <td>0</td>\n",
       "      <td>0</td>\n",
       "      <td>0</td>\n",
       "    </tr>\n",
       "  </tbody>\n",
       "</table>\n",
       "<p>2051 rows × 57 columns</p>\n",
       "</div>"
      ],
      "text/plain": [
       "      MSSubClass  OverallQual  OverallCond  TotRmsAbvGrd  GarageCars  \\\n",
       "0             60            6            8             6         2.0   \n",
       "1             60            7            5             8         2.0   \n",
       "2             20            5            7             5         1.0   \n",
       "3             60            5            5             7         2.0   \n",
       "4             50            6            8             6         2.0   \n",
       "...          ...          ...          ...           ...         ...   \n",
       "2046          20            8            5             7         2.0   \n",
       "2047          30            4            5             4         2.0   \n",
       "2048          50            6            6             9         2.0   \n",
       "2049          20            4            5             6         1.0   \n",
       "2050          60            7            5             7         2.0   \n",
       "\n",
       "      Fireplaces  TotalBaths  MSZoning_C (all)  MSZoning_FV  MSZoning_I (all)  \\\n",
       "0              0         2.5                 0            0                 0   \n",
       "1              1         3.5                 0            0                 0   \n",
       "2              0         2.0                 0            0                 0   \n",
       "3              0         2.5                 0            0                 0   \n",
       "4              0         2.0                 0            0                 0   \n",
       "...          ...         ...               ...          ...               ...   \n",
       "2046           1         3.0                 0            0                 0   \n",
       "2047           0         1.0                 0            0                 0   \n",
       "2048           1         1.5                 0            0                 0   \n",
       "2049           2         2.0                 0            0                 0   \n",
       "2050           1         2.5                 0            0                 0   \n",
       "\n",
       "      ...  Condition1_PosA  Condition1_PosN  Condition1_RRAe  Condition1_RRAn  \\\n",
       "0     ...                0                0                1                0   \n",
       "1     ...                0                0                0                0   \n",
       "2     ...                0                0                0                0   \n",
       "3     ...                0                0                0                0   \n",
       "4     ...                0                0                0                0   \n",
       "...   ...              ...              ...              ...              ...   \n",
       "2046  ...                0                0                0                0   \n",
       "2047  ...                0                0                0                0   \n",
       "2048  ...                0                0                0                0   \n",
       "2049  ...                0                0                0                0   \n",
       "2050  ...                0                0                0                0   \n",
       "\n",
       "      Condition1_RRNe  Condition1_RRNn  Quarter_Q2  Quarter_Q3  Quarter_Q4  \\\n",
       "0                   0                0           0           0           0   \n",
       "1                   0                0           1           0           0   \n",
       "2                   0                0           0           0           0   \n",
       "3                   0                0           1           0           0   \n",
       "4                   0                0           0           0           0   \n",
       "...               ...              ...         ...         ...         ...   \n",
       "2046                0                0           0           0           0   \n",
       "2047                0                0           0           0           0   \n",
       "2048                0                0           0           0           0   \n",
       "2049                0                0           0           0           1   \n",
       "2050                0                0           1           0           0   \n",
       "\n",
       "      GFC_1  \n",
       "0         0  \n",
       "1         1  \n",
       "2         0  \n",
       "3         0  \n",
       "4         0  \n",
       "...     ...  \n",
       "2046      1  \n",
       "2047      1  \n",
       "2048      1  \n",
       "2049      1  \n",
       "2050      0  \n",
       "\n",
       "[2051 rows x 57 columns]"
      ]
     },
     "execution_count": 416,
     "metadata": {},
     "output_type": "execute_result"
    }
   ],
   "source": [
    "housing_init_dummy = pd.get_dummies(housing_init_dummy, drop_first = True)\n",
    "housing_init_dummy"
   ]
  },
  {
   "cell_type": "code",
   "execution_count": 417,
   "id": "f329a3dc-9240-463c-94e0-2c24803e2bdd",
   "metadata": {
    "tags": []
   },
   "outputs": [
    {
     "data": {
      "text/html": [
       "<div>\n",
       "<style scoped>\n",
       "    .dataframe tbody tr th:only-of-type {\n",
       "        vertical-align: middle;\n",
       "    }\n",
       "\n",
       "    .dataframe tbody tr th {\n",
       "        vertical-align: top;\n",
       "    }\n",
       "\n",
       "    .dataframe thead th {\n",
       "        text-align: right;\n",
       "    }\n",
       "</style>\n",
       "<table border=\"1\" class=\"dataframe\">\n",
       "  <thead>\n",
       "    <tr style=\"text-align: right;\">\n",
       "      <th></th>\n",
       "      <th>TotalBsmtSF</th>\n",
       "      <th>GrLivArea</th>\n",
       "      <th>MiscVal</th>\n",
       "      <th>PoolArea</th>\n",
       "      <th>Age</th>\n",
       "      <th>OutdoorSF</th>\n",
       "    </tr>\n",
       "  </thead>\n",
       "  <tbody>\n",
       "    <tr>\n",
       "      <th>0</th>\n",
       "      <td>725.0</td>\n",
       "      <td>1479</td>\n",
       "      <td>0</td>\n",
       "      <td>0</td>\n",
       "      <td>6</td>\n",
       "      <td>44</td>\n",
       "    </tr>\n",
       "    <tr>\n",
       "      <th>1</th>\n",
       "      <td>913.0</td>\n",
       "      <td>2122</td>\n",
       "      <td>0</td>\n",
       "      <td>0</td>\n",
       "      <td>14</td>\n",
       "      <td>74</td>\n",
       "    </tr>\n",
       "    <tr>\n",
       "      <th>2</th>\n",
       "      <td>1057.0</td>\n",
       "      <td>1057</td>\n",
       "      <td>0</td>\n",
       "      <td>0</td>\n",
       "      <td>4</td>\n",
       "      <td>52</td>\n",
       "    </tr>\n",
       "    <tr>\n",
       "      <th>3</th>\n",
       "      <td>384.0</td>\n",
       "      <td>1444</td>\n",
       "      <td>0</td>\n",
       "      <td>0</td>\n",
       "      <td>4</td>\n",
       "      <td>100</td>\n",
       "    </tr>\n",
       "    <tr>\n",
       "      <th>4</th>\n",
       "      <td>676.0</td>\n",
       "      <td>1445</td>\n",
       "      <td>0</td>\n",
       "      <td>0</td>\n",
       "      <td>18</td>\n",
       "      <td>59</td>\n",
       "    </tr>\n",
       "    <tr>\n",
       "      <th>...</th>\n",
       "      <td>...</td>\n",
       "      <td>...</td>\n",
       "      <td>...</td>\n",
       "      <td>...</td>\n",
       "      <td>...</td>\n",
       "      <td>...</td>\n",
       "    </tr>\n",
       "    <tr>\n",
       "      <th>2046</th>\n",
       "      <td>1884.0</td>\n",
       "      <td>1728</td>\n",
       "      <td>0</td>\n",
       "      <td>0</td>\n",
       "      <td>4</td>\n",
       "      <td>276</td>\n",
       "    </tr>\n",
       "    <tr>\n",
       "      <th>2047</th>\n",
       "      <td>861.0</td>\n",
       "      <td>861</td>\n",
       "      <td>0</td>\n",
       "      <td>0</td>\n",
       "      <td>61</td>\n",
       "      <td>158</td>\n",
       "    </tr>\n",
       "    <tr>\n",
       "      <th>2048</th>\n",
       "      <td>896.0</td>\n",
       "      <td>1913</td>\n",
       "      <td>0</td>\n",
       "      <td>0</td>\n",
       "      <td>61</td>\n",
       "      <td>0</td>\n",
       "    </tr>\n",
       "    <tr>\n",
       "      <th>2049</th>\n",
       "      <td>1200.0</td>\n",
       "      <td>1200</td>\n",
       "      <td>0</td>\n",
       "      <td>0</td>\n",
       "      <td>55</td>\n",
       "      <td>329</td>\n",
       "    </tr>\n",
       "    <tr>\n",
       "      <th>2050</th>\n",
       "      <td>994.0</td>\n",
       "      <td>1804</td>\n",
       "      <td>0</td>\n",
       "      <td>0</td>\n",
       "      <td>12</td>\n",
       "      <td>200</td>\n",
       "    </tr>\n",
       "  </tbody>\n",
       "</table>\n",
       "<p>2051 rows × 6 columns</p>\n",
       "</div>"
      ],
      "text/plain": [
       "      TotalBsmtSF  GrLivArea  MiscVal  PoolArea  Age  OutdoorSF\n",
       "0           725.0       1479        0         0    6         44\n",
       "1           913.0       2122        0         0   14         74\n",
       "2          1057.0       1057        0         0    4         52\n",
       "3           384.0       1444        0         0    4        100\n",
       "4           676.0       1445        0         0   18         59\n",
       "...           ...        ...      ...       ...  ...        ...\n",
       "2046       1884.0       1728        0         0    4        276\n",
       "2047        861.0        861        0         0   61        158\n",
       "2048        896.0       1913        0         0   61          0\n",
       "2049       1200.0       1200        0         0   55        329\n",
       "2050        994.0       1804        0         0   12        200\n",
       "\n",
       "[2051 rows x 6 columns]"
      ]
     },
     "execution_count": 417,
     "metadata": {},
     "output_type": "execute_result"
    }
   ],
   "source": [
    "# Numeric variables\n",
    "housing_init_num = housing_init[['TotalBsmtSF', 'GrLivArea', 'MiscVal', 'PoolArea', 'Age', 'OutdoorSF']]\n",
    "housing_init_num"
   ]
  },
  {
   "cell_type": "code",
   "execution_count": 418,
   "id": "c38c8e7c-168a-4d8e-a3ea-edd8d4fb9e59",
   "metadata": {
    "tags": []
   },
   "outputs": [],
   "source": [
    "# Create combined new data set for X variables\n",
    "# https://pandas.pydata.org/docs/reference/api/pandas.concat.html\n",
    "housing_xvars = pd.concat([housing_init_dummy, housing_init_num], axis=1)"
   ]
  },
  {
   "cell_type": "code",
   "execution_count": 420,
   "id": "751e1b24-a1ec-4264-95e1-5bc067ba08aa",
   "metadata": {
    "tags": []
   },
   "outputs": [
    {
     "data": {
      "text/html": [
       "<div>\n",
       "<style scoped>\n",
       "    .dataframe tbody tr th:only-of-type {\n",
       "        vertical-align: middle;\n",
       "    }\n",
       "\n",
       "    .dataframe tbody tr th {\n",
       "        vertical-align: top;\n",
       "    }\n",
       "\n",
       "    .dataframe thead th {\n",
       "        text-align: right;\n",
       "    }\n",
       "</style>\n",
       "<table border=\"1\" class=\"dataframe\">\n",
       "  <thead>\n",
       "    <tr style=\"text-align: right;\">\n",
       "      <th></th>\n",
       "      <th>MSSubClass</th>\n",
       "      <th>OverallQual</th>\n",
       "      <th>OverallCond</th>\n",
       "      <th>TotRmsAbvGrd</th>\n",
       "      <th>GarageCars</th>\n",
       "      <th>Fireplaces</th>\n",
       "      <th>TotalBaths</th>\n",
       "      <th>MSZoning_C (all)</th>\n",
       "      <th>MSZoning_FV</th>\n",
       "      <th>MSZoning_I (all)</th>\n",
       "      <th>...</th>\n",
       "      <th>Quarter_Q2</th>\n",
       "      <th>Quarter_Q3</th>\n",
       "      <th>Quarter_Q4</th>\n",
       "      <th>GFC_1</th>\n",
       "      <th>TotalBsmtSF</th>\n",
       "      <th>GrLivArea</th>\n",
       "      <th>MiscVal</th>\n",
       "      <th>PoolArea</th>\n",
       "      <th>Age</th>\n",
       "      <th>OutdoorSF</th>\n",
       "    </tr>\n",
       "  </thead>\n",
       "  <tbody>\n",
       "    <tr>\n",
       "      <th>0</th>\n",
       "      <td>60</td>\n",
       "      <td>6</td>\n",
       "      <td>8</td>\n",
       "      <td>6</td>\n",
       "      <td>2.0</td>\n",
       "      <td>0</td>\n",
       "      <td>2.5</td>\n",
       "      <td>0</td>\n",
       "      <td>0</td>\n",
       "      <td>0</td>\n",
       "      <td>...</td>\n",
       "      <td>0</td>\n",
       "      <td>0</td>\n",
       "      <td>0</td>\n",
       "      <td>0</td>\n",
       "      <td>725.0</td>\n",
       "      <td>1479</td>\n",
       "      <td>0</td>\n",
       "      <td>0</td>\n",
       "      <td>6</td>\n",
       "      <td>44</td>\n",
       "    </tr>\n",
       "    <tr>\n",
       "      <th>1</th>\n",
       "      <td>60</td>\n",
       "      <td>7</td>\n",
       "      <td>5</td>\n",
       "      <td>8</td>\n",
       "      <td>2.0</td>\n",
       "      <td>1</td>\n",
       "      <td>3.5</td>\n",
       "      <td>0</td>\n",
       "      <td>0</td>\n",
       "      <td>0</td>\n",
       "      <td>...</td>\n",
       "      <td>1</td>\n",
       "      <td>0</td>\n",
       "      <td>0</td>\n",
       "      <td>1</td>\n",
       "      <td>913.0</td>\n",
       "      <td>2122</td>\n",
       "      <td>0</td>\n",
       "      <td>0</td>\n",
       "      <td>14</td>\n",
       "      <td>74</td>\n",
       "    </tr>\n",
       "    <tr>\n",
       "      <th>2</th>\n",
       "      <td>20</td>\n",
       "      <td>5</td>\n",
       "      <td>7</td>\n",
       "      <td>5</td>\n",
       "      <td>1.0</td>\n",
       "      <td>0</td>\n",
       "      <td>2.0</td>\n",
       "      <td>0</td>\n",
       "      <td>0</td>\n",
       "      <td>0</td>\n",
       "      <td>...</td>\n",
       "      <td>0</td>\n",
       "      <td>0</td>\n",
       "      <td>0</td>\n",
       "      <td>0</td>\n",
       "      <td>1057.0</td>\n",
       "      <td>1057</td>\n",
       "      <td>0</td>\n",
       "      <td>0</td>\n",
       "      <td>4</td>\n",
       "      <td>52</td>\n",
       "    </tr>\n",
       "    <tr>\n",
       "      <th>3</th>\n",
       "      <td>60</td>\n",
       "      <td>5</td>\n",
       "      <td>5</td>\n",
       "      <td>7</td>\n",
       "      <td>2.0</td>\n",
       "      <td>0</td>\n",
       "      <td>2.5</td>\n",
       "      <td>0</td>\n",
       "      <td>0</td>\n",
       "      <td>0</td>\n",
       "      <td>...</td>\n",
       "      <td>1</td>\n",
       "      <td>0</td>\n",
       "      <td>0</td>\n",
       "      <td>0</td>\n",
       "      <td>384.0</td>\n",
       "      <td>1444</td>\n",
       "      <td>0</td>\n",
       "      <td>0</td>\n",
       "      <td>4</td>\n",
       "      <td>100</td>\n",
       "    </tr>\n",
       "    <tr>\n",
       "      <th>4</th>\n",
       "      <td>50</td>\n",
       "      <td>6</td>\n",
       "      <td>8</td>\n",
       "      <td>6</td>\n",
       "      <td>2.0</td>\n",
       "      <td>0</td>\n",
       "      <td>2.0</td>\n",
       "      <td>0</td>\n",
       "      <td>0</td>\n",
       "      <td>0</td>\n",
       "      <td>...</td>\n",
       "      <td>0</td>\n",
       "      <td>0</td>\n",
       "      <td>0</td>\n",
       "      <td>0</td>\n",
       "      <td>676.0</td>\n",
       "      <td>1445</td>\n",
       "      <td>0</td>\n",
       "      <td>0</td>\n",
       "      <td>18</td>\n",
       "      <td>59</td>\n",
       "    </tr>\n",
       "  </tbody>\n",
       "</table>\n",
       "<p>5 rows × 63 columns</p>\n",
       "</div>"
      ],
      "text/plain": [
       "   MSSubClass  OverallQual  OverallCond  TotRmsAbvGrd  GarageCars  Fireplaces  \\\n",
       "0          60            6            8             6         2.0           0   \n",
       "1          60            7            5             8         2.0           1   \n",
       "2          20            5            7             5         1.0           0   \n",
       "3          60            5            5             7         2.0           0   \n",
       "4          50            6            8             6         2.0           0   \n",
       "\n",
       "   TotalBaths  MSZoning_C (all)  MSZoning_FV  MSZoning_I (all)  ...  \\\n",
       "0         2.5                 0            0                 0  ...   \n",
       "1         3.5                 0            0                 0  ...   \n",
       "2         2.0                 0            0                 0  ...   \n",
       "3         2.5                 0            0                 0  ...   \n",
       "4         2.0                 0            0                 0  ...   \n",
       "\n",
       "   Quarter_Q2  Quarter_Q3  Quarter_Q4  GFC_1  TotalBsmtSF  GrLivArea  MiscVal  \\\n",
       "0           0           0           0      0        725.0       1479        0   \n",
       "1           1           0           0      1        913.0       2122        0   \n",
       "2           0           0           0      0       1057.0       1057        0   \n",
       "3           1           0           0      0        384.0       1444        0   \n",
       "4           0           0           0      0        676.0       1445        0   \n",
       "\n",
       "   PoolArea  Age  OutdoorSF  \n",
       "0         0    6         44  \n",
       "1         0   14         74  \n",
       "2         0    4         52  \n",
       "3         0    4        100  \n",
       "4         0   18         59  \n",
       "\n",
       "[5 rows x 63 columns]"
      ]
     },
     "execution_count": 420,
     "metadata": {},
     "output_type": "execute_result"
    }
   ],
   "source": [
    "housing_xvars.head()"
   ]
  },
  {
   "cell_type": "code",
   "execution_count": 421,
   "id": "99cec1ea-63b2-475b-930b-d6d315c1132f",
   "metadata": {
    "tags": []
   },
   "outputs": [
    {
     "name": "stdout",
     "output_type": "stream",
     "text": [
      "<class 'pandas.core.frame.DataFrame'>\n",
      "RangeIndex: 2051 entries, 0 to 2050\n",
      "Data columns (total 63 columns):\n",
      " #   Column                Non-Null Count  Dtype  \n",
      "---  ------                --------------  -----  \n",
      " 0   MSSubClass            2051 non-null   int64  \n",
      " 1   OverallQual           2051 non-null   int64  \n",
      " 2   OverallCond           2051 non-null   int64  \n",
      " 3   TotRmsAbvGrd          2051 non-null   int64  \n",
      " 4   GarageCars            2051 non-null   float64\n",
      " 5   Fireplaces            2051 non-null   int64  \n",
      " 6   TotalBaths            2051 non-null   float64\n",
      " 7   MSZoning_C (all)      2051 non-null   uint8  \n",
      " 8   MSZoning_FV           2051 non-null   uint8  \n",
      " 9   MSZoning_I (all)      2051 non-null   uint8  \n",
      " 10  MSZoning_RH           2051 non-null   uint8  \n",
      " 11  MSZoning_RL           2051 non-null   uint8  \n",
      " 12  MSZoning_RM           2051 non-null   uint8  \n",
      " 13  Neighborhood_Blueste  2051 non-null   uint8  \n",
      " 14  Neighborhood_BrDale   2051 non-null   uint8  \n",
      " 15  Neighborhood_BrkSide  2051 non-null   uint8  \n",
      " 16  Neighborhood_ClearCr  2051 non-null   uint8  \n",
      " 17  Neighborhood_CollgCr  2051 non-null   uint8  \n",
      " 18  Neighborhood_Crawfor  2051 non-null   uint8  \n",
      " 19  Neighborhood_Edwards  2051 non-null   uint8  \n",
      " 20  Neighborhood_Gilbert  2051 non-null   uint8  \n",
      " 21  Neighborhood_Greens   2051 non-null   uint8  \n",
      " 22  Neighborhood_GrnHill  2051 non-null   uint8  \n",
      " 23  Neighborhood_IDOTRR   2051 non-null   uint8  \n",
      " 24  Neighborhood_Landmrk  2051 non-null   uint8  \n",
      " 25  Neighborhood_MeadowV  2051 non-null   uint8  \n",
      " 26  Neighborhood_Mitchel  2051 non-null   uint8  \n",
      " 27  Neighborhood_NAmes    2051 non-null   uint8  \n",
      " 28  Neighborhood_NPkVill  2051 non-null   uint8  \n",
      " 29  Neighborhood_NWAmes   2051 non-null   uint8  \n",
      " 30  Neighborhood_NoRidge  2051 non-null   uint8  \n",
      " 31  Neighborhood_NridgHt  2051 non-null   uint8  \n",
      " 32  Neighborhood_OldTown  2051 non-null   uint8  \n",
      " 33  Neighborhood_SWISU    2051 non-null   uint8  \n",
      " 34  Neighborhood_Sawyer   2051 non-null   uint8  \n",
      " 35  Neighborhood_SawyerW  2051 non-null   uint8  \n",
      " 36  Neighborhood_Somerst  2051 non-null   uint8  \n",
      " 37  Neighborhood_StoneBr  2051 non-null   uint8  \n",
      " 38  Neighborhood_Timber   2051 non-null   uint8  \n",
      " 39  Neighborhood_Veenker  2051 non-null   uint8  \n",
      " 40  HeatingQC_Fa          2051 non-null   uint8  \n",
      " 41  HeatingQC_Gd          2051 non-null   uint8  \n",
      " 42  HeatingQC_Po          2051 non-null   uint8  \n",
      " 43  HeatingQC_TA          2051 non-null   uint8  \n",
      " 44  CentralAir_Y          2051 non-null   uint8  \n",
      " 45  Condition1_Feedr      2051 non-null   uint8  \n",
      " 46  Condition1_Norm       2051 non-null   uint8  \n",
      " 47  Condition1_PosA       2051 non-null   uint8  \n",
      " 48  Condition1_PosN       2051 non-null   uint8  \n",
      " 49  Condition1_RRAe       2051 non-null   uint8  \n",
      " 50  Condition1_RRAn       2051 non-null   uint8  \n",
      " 51  Condition1_RRNe       2051 non-null   uint8  \n",
      " 52  Condition1_RRNn       2051 non-null   uint8  \n",
      " 53  Quarter_Q2            2051 non-null   uint8  \n",
      " 54  Quarter_Q3            2051 non-null   uint8  \n",
      " 55  Quarter_Q4            2051 non-null   uint8  \n",
      " 56  GFC_1                 2051 non-null   uint8  \n",
      " 57  TotalBsmtSF           2051 non-null   float64\n",
      " 58  GrLivArea             2051 non-null   int64  \n",
      " 59  MiscVal               2051 non-null   int64  \n",
      " 60  PoolArea              2051 non-null   int64  \n",
      " 61  Age                   2051 non-null   int64  \n",
      " 62  OutdoorSF             2051 non-null   int64  \n",
      "dtypes: float64(3), int64(10), uint8(50)\n",
      "memory usage: 308.6 KB\n"
     ]
    }
   ],
   "source": [
    "housing_xvars.info()"
   ]
  },
  {
   "cell_type": "markdown",
   "id": "3651247d-2d73-4122-8cf0-edc2c2269dc8",
   "metadata": {},
   "source": [
    "# Preproccesing "
   ]
  },
  {
   "cell_type": "code",
   "execution_count": 422,
   "id": "25f7da14-f581-49d0-acda-4b470520317f",
   "metadata": {
    "tags": []
   },
   "outputs": [],
   "source": [
    "# Define X and y variables\n",
    "\n",
    "X = housing_xvars\n",
    "y = housing_init['SalePrice']"
   ]
  },
  {
   "cell_type": "code",
   "execution_count": 424,
   "id": "9145743a-eb87-4598-a66e-c41a244483b2",
   "metadata": {
    "tags": []
   },
   "outputs": [],
   "source": [
    "# TTS\n",
    "X_train, X_test, y_train, y_test = train_test_split(X, y, random_state = 95)"
   ]
  },
  {
   "cell_type": "code",
   "execution_count": 426,
   "id": "8d9b9e00-e80d-4d71-b13e-9c46e738e001",
   "metadata": {
    "tags": []
   },
   "outputs": [
    {
     "data": {
      "text/plain": [
       "((1538, 63), (1538,))"
      ]
     },
     "execution_count": 426,
     "metadata": {},
     "output_type": "execute_result"
    }
   ],
   "source": [
    "X_train.shape, y_train.shape"
   ]
  },
  {
   "cell_type": "code",
   "execution_count": 427,
   "id": "0c38a999-7b0b-4ceb-8b28-2a08bb09fdb7",
   "metadata": {
    "tags": []
   },
   "outputs": [
    {
     "data": {
      "text/plain": [
       "((513, 63), (513,))"
      ]
     },
     "execution_count": 427,
     "metadata": {},
     "output_type": "execute_result"
    }
   ],
   "source": [
    "X_test.shape, y_test.shape"
   ]
  },
  {
   "cell_type": "code",
   "execution_count": null,
   "id": "0a1b8dda-17d8-4983-9cd5-e5a03fa1266a",
   "metadata": {},
   "outputs": [],
   "source": []
  },
  {
   "cell_type": "code",
   "execution_count": null,
   "id": "fc04b3d7-872f-49f0-8692-b9a9b46ddc00",
   "metadata": {},
   "outputs": [],
   "source": []
  },
  {
   "cell_type": "markdown",
   "id": "d79c37aa-83a4-43bb-b719-a302d6e62790",
   "metadata": {
    "tags": []
   },
   "source": [
    "# Model"
   ]
  },
  {
   "cell_type": "code",
   "execution_count": 429,
   "id": "90ff7925-15d7-4181-9f61-a8af9fd4d4a6",
   "metadata": {
    "tags": []
   },
   "outputs": [
    {
     "data": {
      "text/html": [
       "<style>#sk-container-id-1 {color: black;}#sk-container-id-1 pre{padding: 0;}#sk-container-id-1 div.sk-toggleable {background-color: white;}#sk-container-id-1 label.sk-toggleable__label {cursor: pointer;display: block;width: 100%;margin-bottom: 0;padding: 0.3em;box-sizing: border-box;text-align: center;}#sk-container-id-1 label.sk-toggleable__label-arrow:before {content: \"▸\";float: left;margin-right: 0.25em;color: #696969;}#sk-container-id-1 label.sk-toggleable__label-arrow:hover:before {color: black;}#sk-container-id-1 div.sk-estimator:hover label.sk-toggleable__label-arrow:before {color: black;}#sk-container-id-1 div.sk-toggleable__content {max-height: 0;max-width: 0;overflow: hidden;text-align: left;background-color: #f0f8ff;}#sk-container-id-1 div.sk-toggleable__content pre {margin: 0.2em;color: black;border-radius: 0.25em;background-color: #f0f8ff;}#sk-container-id-1 input.sk-toggleable__control:checked~div.sk-toggleable__content {max-height: 200px;max-width: 100%;overflow: auto;}#sk-container-id-1 input.sk-toggleable__control:checked~label.sk-toggleable__label-arrow:before {content: \"▾\";}#sk-container-id-1 div.sk-estimator input.sk-toggleable__control:checked~label.sk-toggleable__label {background-color: #d4ebff;}#sk-container-id-1 div.sk-label input.sk-toggleable__control:checked~label.sk-toggleable__label {background-color: #d4ebff;}#sk-container-id-1 input.sk-hidden--visually {border: 0;clip: rect(1px 1px 1px 1px);clip: rect(1px, 1px, 1px, 1px);height: 1px;margin: -1px;overflow: hidden;padding: 0;position: absolute;width: 1px;}#sk-container-id-1 div.sk-estimator {font-family: monospace;background-color: #f0f8ff;border: 1px dotted black;border-radius: 0.25em;box-sizing: border-box;margin-bottom: 0.5em;}#sk-container-id-1 div.sk-estimator:hover {background-color: #d4ebff;}#sk-container-id-1 div.sk-parallel-item::after {content: \"\";width: 100%;border-bottom: 1px solid gray;flex-grow: 1;}#sk-container-id-1 div.sk-label:hover label.sk-toggleable__label {background-color: #d4ebff;}#sk-container-id-1 div.sk-serial::before {content: \"\";position: absolute;border-left: 1px solid gray;box-sizing: border-box;top: 0;bottom: 0;left: 50%;z-index: 0;}#sk-container-id-1 div.sk-serial {display: flex;flex-direction: column;align-items: center;background-color: white;padding-right: 0.2em;padding-left: 0.2em;position: relative;}#sk-container-id-1 div.sk-item {position: relative;z-index: 1;}#sk-container-id-1 div.sk-parallel {display: flex;align-items: stretch;justify-content: center;background-color: white;position: relative;}#sk-container-id-1 div.sk-item::before, #sk-container-id-1 div.sk-parallel-item::before {content: \"\";position: absolute;border-left: 1px solid gray;box-sizing: border-box;top: 0;bottom: 0;left: 50%;z-index: -1;}#sk-container-id-1 div.sk-parallel-item {display: flex;flex-direction: column;z-index: 1;position: relative;background-color: white;}#sk-container-id-1 div.sk-parallel-item:first-child::after {align-self: flex-end;width: 50%;}#sk-container-id-1 div.sk-parallel-item:last-child::after {align-self: flex-start;width: 50%;}#sk-container-id-1 div.sk-parallel-item:only-child::after {width: 0;}#sk-container-id-1 div.sk-dashed-wrapped {border: 1px dashed gray;margin: 0 0.4em 0.5em 0.4em;box-sizing: border-box;padding-bottom: 0.4em;background-color: white;}#sk-container-id-1 div.sk-label label {font-family: monospace;font-weight: bold;display: inline-block;line-height: 1.2em;}#sk-container-id-1 div.sk-label-container {text-align: center;}#sk-container-id-1 div.sk-container {/* jupyter's `normalize.less` sets `[hidden] { display: none; }` but bootstrap.min.css set `[hidden] { display: none !important; }` so we also need the `!important` here to be able to override the default hidden behavior on the sphinx rendered scikit-learn.org. See: https://github.com/scikit-learn/scikit-learn/issues/21755 */display: inline-block !important;position: relative;}#sk-container-id-1 div.sk-text-repr-fallback {display: none;}</style><div id=\"sk-container-id-1\" class=\"sk-top-container\"><div class=\"sk-text-repr-fallback\"><pre>LinearRegression()</pre><b>In a Jupyter environment, please rerun this cell to show the HTML representation or trust the notebook. <br />On GitHub, the HTML representation is unable to render, please try loading this page with nbviewer.org.</b></div><div class=\"sk-container\" hidden><div class=\"sk-item\"><div class=\"sk-estimator sk-toggleable\"><input class=\"sk-toggleable__control sk-hidden--visually\" id=\"sk-estimator-id-1\" type=\"checkbox\" checked><label for=\"sk-estimator-id-1\" class=\"sk-toggleable__label sk-toggleable__label-arrow\">LinearRegression</label><div class=\"sk-toggleable__content\"><pre>LinearRegression()</pre></div></div></div></div></div>"
      ],
      "text/plain": [
       "LinearRegression()"
      ]
     },
     "execution_count": 429,
     "metadata": {},
     "output_type": "execute_result"
    }
   ],
   "source": [
    "lr = LinearRegression()\n",
    "lr.fit(X_train, y_train)"
   ]
  },
  {
   "cell_type": "code",
   "execution_count": 430,
   "id": "ee472590-d303-4511-90ce-2dd1b5fd5850",
   "metadata": {
    "tags": []
   },
   "outputs": [
    {
     "data": {
      "text/plain": [
       "0.8573784789154019"
      ]
     },
     "execution_count": 430,
     "metadata": {},
     "output_type": "execute_result"
    }
   ],
   "source": [
    "lr.score(X_train, y_train)"
   ]
  },
  {
   "cell_type": "code",
   "execution_count": 431,
   "id": "fa473814-2e45-41e2-ad80-a6812162a6be",
   "metadata": {
    "tags": []
   },
   "outputs": [
    {
     "data": {
      "text/plain": [
       "0.8487134820446429"
      ]
     },
     "execution_count": 431,
     "metadata": {},
     "output_type": "execute_result"
    }
   ],
   "source": [
    "lr.score(X_test, y_test)"
   ]
  },
  {
   "cell_type": "code",
   "execution_count": 433,
   "id": "e9bc3063-3b4b-4916-8f61-9bd952c7652c",
   "metadata": {
    "tags": []
   },
   "outputs": [],
   "source": [
    "preds = lr.predict(X)"
   ]
  },
  {
   "cell_type": "code",
   "execution_count": 434,
   "id": "6ed3e067-7728-4d31-83c2-2821ccd1b21d",
   "metadata": {
    "tags": []
   },
   "outputs": [
    {
     "data": {
      "text/plain": [
       "(2051,)"
      ]
     },
     "execution_count": 434,
     "metadata": {},
     "output_type": "execute_result"
    }
   ],
   "source": [
    "preds.shape"
   ]
  },
  {
   "cell_type": "code",
   "execution_count": null,
   "id": "f6b410d4-cf28-47e3-940b-04a37b859583",
   "metadata": {
    "tags": []
   },
   "outputs": [],
   "source": []
  },
  {
   "cell_type": "markdown",
   "id": "63f71da2-7854-4a66-bfe0-450560e6c3bf",
   "metadata": {},
   "source": [
    "### Convert test data in same way as training data"
   ]
  },
  {
   "cell_type": "code",
   "execution_count": 462,
   "id": "b8a71c53-586b-4a68-9975-aaf64af42b7d",
   "metadata": {
    "tags": []
   },
   "outputs": [],
   "source": [
    "housing_test0 = pd.read_csv('datasets/test-Copy1.csv')\n",
    "housing_test0.columns = [n.replace(\" \", \"\") for n in housing_test0.columns]\n",
    "\n",
    "init_vars1 = get_var_name('datasets/initial_vars-Copy1.txt')\n",
    "housing_test1 = housing_test0[init_vars1]\n",
    "\n",
    "housing_test1 = housing_test1.fillna(0)\n",
    "\n",
    "housing_test1['Age'] = 2011 - housing_test1['YearRemod/Add']\n",
    "housing_test1.drop(columns =['YearRemod/Add'], inplace= True)\n",
    "\n",
    "housing_test1['TotalBaths'] = housing_test1['BsmtFullBath'] + 0.5*housing_test1['BsmtHalfBath'] + housing_test1['FullBath'] + 0.5*housing_test1['HalfBath']\n",
    "housing_test1.drop(columns =['BsmtFullBath', 'BsmtHalfBath', 'FullBath', 'HalfBath'], inplace= True)\n",
    "\n",
    "housing_test1['OutdoorSF'] = housing_test1['WoodDeckSF'] + housing_test1['OpenPorchSF'] + housing_test1['EnclosedPorch'] + housing_test1['3SsnPorch'] + housing_test1['ScreenPorch'] \n",
    "housing_test1.drop(columns =['WoodDeckSF', 'OpenPorchSF', 'EnclosedPorch', '3SsnPorch', 'ScreenPorch'], inplace= True)\n",
    "\n",
    "housing_test1['Quarter'] = np.nan\n",
    "q = []\n",
    "for month in housing_test1['MoSold']:\n",
    "    if month < 4:\n",
    "        q.append('Q1')\n",
    "    elif month < 7:\n",
    "        q.append('Q2')\n",
    "    elif month < 10:\n",
    "        q.append('Q3')\n",
    "    else:\n",
    "        q.append('Q4')\n",
    "housing_test1['Quarter'] = q\n",
    "housing_test1.drop(columns =['MoSold'], inplace=True)\n",
    "\n",
    "housing_test1['GFC'] = np.nan\n",
    "year = []\n",
    "for yr in housing_test1['YrSold']:\n",
    "    if yr > 2009:\n",
    "        year.append('0')\n",
    "    else:\n",
    "        year.append('1')\n",
    "housing_test1['GFC'] = year\n",
    "housing_test1.drop(columns =['YrSold'], inplace=True)\n",
    "\n",
    "housing_test1_dum = housing_test1.drop(columns = ['TotalBsmtSF', 'GrLivArea', 'MiscVal', 'PoolArea', 'Age', 'OutdoorSF'])\n",
    "housing_test1_dummy = pd.get_dummies(housing_test1_dum, drop_first = True)\n",
    "housing_test1_num = housing_test1[['TotalBsmtSF', 'GrLivArea', 'MiscVal', 'PoolArea', 'Age', 'OutdoorSF']]\n",
    "housing_test1_xvars = pd.concat([housing_test1_dummy, housing_test1_num], axis=1)"
   ]
  },
  {
   "cell_type": "markdown",
   "id": "79dac1d7-9b08-4340-8933-d4b1d442fe15",
   "metadata": {},
   "source": [
    "## Run model on testing data"
   ]
  },
  {
   "cell_type": "code",
   "execution_count": 463,
   "id": "544bcb73-cd34-4272-b7e3-598bcccef1f6",
   "metadata": {
    "tags": []
   },
   "outputs": [
    {
     "data": {
      "text/html": [
       "<div>\n",
       "<style scoped>\n",
       "    .dataframe tbody tr th:only-of-type {\n",
       "        vertical-align: middle;\n",
       "    }\n",
       "\n",
       "    .dataframe tbody tr th {\n",
       "        vertical-align: top;\n",
       "    }\n",
       "\n",
       "    .dataframe thead th {\n",
       "        text-align: right;\n",
       "    }\n",
       "</style>\n",
       "<table border=\"1\" class=\"dataframe\">\n",
       "  <thead>\n",
       "    <tr style=\"text-align: right;\">\n",
       "      <th></th>\n",
       "      <th>MSSubClass</th>\n",
       "      <th>OverallQual</th>\n",
       "      <th>OverallCond</th>\n",
       "      <th>TotRmsAbvGrd</th>\n",
       "      <th>GarageCars</th>\n",
       "      <th>Fireplaces</th>\n",
       "      <th>TotalBaths</th>\n",
       "      <th>MSZoning_FV</th>\n",
       "      <th>MSZoning_I (all)</th>\n",
       "      <th>MSZoning_RH</th>\n",
       "      <th>...</th>\n",
       "      <th>Quarter_Q2</th>\n",
       "      <th>Quarter_Q3</th>\n",
       "      <th>Quarter_Q4</th>\n",
       "      <th>GFC_1</th>\n",
       "      <th>TotalBsmtSF</th>\n",
       "      <th>GrLivArea</th>\n",
       "      <th>MiscVal</th>\n",
       "      <th>PoolArea</th>\n",
       "      <th>Age</th>\n",
       "      <th>OutdoorSF</th>\n",
       "    </tr>\n",
       "  </thead>\n",
       "  <tbody>\n",
       "    <tr>\n",
       "      <th>0</th>\n",
       "      <td>190</td>\n",
       "      <td>6</td>\n",
       "      <td>8</td>\n",
       "      <td>9</td>\n",
       "      <td>1</td>\n",
       "      <td>0</td>\n",
       "      <td>2.0</td>\n",
       "      <td>0</td>\n",
       "      <td>0</td>\n",
       "      <td>0</td>\n",
       "      <td>...</td>\n",
       "      <td>1</td>\n",
       "      <td>0</td>\n",
       "      <td>0</td>\n",
       "      <td>1</td>\n",
       "      <td>1020</td>\n",
       "      <td>1928</td>\n",
       "      <td>0</td>\n",
       "      <td>0</td>\n",
       "      <td>61</td>\n",
       "      <td>172</td>\n",
       "    </tr>\n",
       "    <tr>\n",
       "      <th>1</th>\n",
       "      <td>90</td>\n",
       "      <td>5</td>\n",
       "      <td>4</td>\n",
       "      <td>10</td>\n",
       "      <td>2</td>\n",
       "      <td>0</td>\n",
       "      <td>2.0</td>\n",
       "      <td>0</td>\n",
       "      <td>0</td>\n",
       "      <td>0</td>\n",
       "      <td>...</td>\n",
       "      <td>0</td>\n",
       "      <td>1</td>\n",
       "      <td>0</td>\n",
       "      <td>1</td>\n",
       "      <td>1967</td>\n",
       "      <td>1967</td>\n",
       "      <td>0</td>\n",
       "      <td>0</td>\n",
       "      <td>34</td>\n",
       "      <td>170</td>\n",
       "    </tr>\n",
       "    <tr>\n",
       "      <th>2</th>\n",
       "      <td>60</td>\n",
       "      <td>7</td>\n",
       "      <td>5</td>\n",
       "      <td>7</td>\n",
       "      <td>2</td>\n",
       "      <td>1</td>\n",
       "      <td>3.5</td>\n",
       "      <td>0</td>\n",
       "      <td>0</td>\n",
       "      <td>0</td>\n",
       "      <td>...</td>\n",
       "      <td>0</td>\n",
       "      <td>1</td>\n",
       "      <td>0</td>\n",
       "      <td>1</td>\n",
       "      <td>654</td>\n",
       "      <td>1496</td>\n",
       "      <td>0</td>\n",
       "      <td>0</td>\n",
       "      <td>5</td>\n",
       "      <td>124</td>\n",
       "    </tr>\n",
       "    <tr>\n",
       "      <th>3</th>\n",
       "      <td>30</td>\n",
       "      <td>5</td>\n",
       "      <td>6</td>\n",
       "      <td>5</td>\n",
       "      <td>2</td>\n",
       "      <td>0</td>\n",
       "      <td>1.0</td>\n",
       "      <td>0</td>\n",
       "      <td>0</td>\n",
       "      <td>0</td>\n",
       "      <td>...</td>\n",
       "      <td>0</td>\n",
       "      <td>1</td>\n",
       "      <td>0</td>\n",
       "      <td>1</td>\n",
       "      <td>968</td>\n",
       "      <td>968</td>\n",
       "      <td>0</td>\n",
       "      <td>0</td>\n",
       "      <td>5</td>\n",
       "      <td>184</td>\n",
       "    </tr>\n",
       "    <tr>\n",
       "      <th>4</th>\n",
       "      <td>20</td>\n",
       "      <td>6</td>\n",
       "      <td>5</td>\n",
       "      <td>6</td>\n",
       "      <td>2</td>\n",
       "      <td>2</td>\n",
       "      <td>2.5</td>\n",
       "      <td>0</td>\n",
       "      <td>0</td>\n",
       "      <td>0</td>\n",
       "      <td>...</td>\n",
       "      <td>0</td>\n",
       "      <td>1</td>\n",
       "      <td>0</td>\n",
       "      <td>1</td>\n",
       "      <td>1394</td>\n",
       "      <td>1394</td>\n",
       "      <td>0</td>\n",
       "      <td>0</td>\n",
       "      <td>48</td>\n",
       "      <td>261</td>\n",
       "    </tr>\n",
       "    <tr>\n",
       "      <th>...</th>\n",
       "      <td>...</td>\n",
       "      <td>...</td>\n",
       "      <td>...</td>\n",
       "      <td>...</td>\n",
       "      <td>...</td>\n",
       "      <td>...</td>\n",
       "      <td>...</td>\n",
       "      <td>...</td>\n",
       "      <td>...</td>\n",
       "      <td>...</td>\n",
       "      <td>...</td>\n",
       "      <td>...</td>\n",
       "      <td>...</td>\n",
       "      <td>...</td>\n",
       "      <td>...</td>\n",
       "      <td>...</td>\n",
       "      <td>...</td>\n",
       "      <td>...</td>\n",
       "      <td>...</td>\n",
       "      <td>...</td>\n",
       "      <td>...</td>\n",
       "    </tr>\n",
       "    <tr>\n",
       "      <th>873</th>\n",
       "      <td>60</td>\n",
       "      <td>6</td>\n",
       "      <td>6</td>\n",
       "      <td>8</td>\n",
       "      <td>2</td>\n",
       "      <td>1</td>\n",
       "      <td>3.5</td>\n",
       "      <td>0</td>\n",
       "      <td>0</td>\n",
       "      <td>0</td>\n",
       "      <td>...</td>\n",
       "      <td>0</td>\n",
       "      <td>0</td>\n",
       "      <td>1</td>\n",
       "      <td>1</td>\n",
       "      <td>1084</td>\n",
       "      <td>1877</td>\n",
       "      <td>0</td>\n",
       "      <td>0</td>\n",
       "      <td>37</td>\n",
       "      <td>96</td>\n",
       "    </tr>\n",
       "    <tr>\n",
       "      <th>874</th>\n",
       "      <td>60</td>\n",
       "      <td>6</td>\n",
       "      <td>7</td>\n",
       "      <td>9</td>\n",
       "      <td>2</td>\n",
       "      <td>1</td>\n",
       "      <td>2.5</td>\n",
       "      <td>0</td>\n",
       "      <td>0</td>\n",
       "      <td>0</td>\n",
       "      <td>...</td>\n",
       "      <td>0</td>\n",
       "      <td>1</td>\n",
       "      <td>0</td>\n",
       "      <td>1</td>\n",
       "      <td>1104</td>\n",
       "      <td>1988</td>\n",
       "      <td>0</td>\n",
       "      <td>0</td>\n",
       "      <td>12</td>\n",
       "      <td>230</td>\n",
       "    </tr>\n",
       "    <tr>\n",
       "      <th>875</th>\n",
       "      <td>20</td>\n",
       "      <td>5</td>\n",
       "      <td>5</td>\n",
       "      <td>5</td>\n",
       "      <td>1</td>\n",
       "      <td>1</td>\n",
       "      <td>1.0</td>\n",
       "      <td>0</td>\n",
       "      <td>0</td>\n",
       "      <td>0</td>\n",
       "      <td>...</td>\n",
       "      <td>0</td>\n",
       "      <td>1</td>\n",
       "      <td>0</td>\n",
       "      <td>1</td>\n",
       "      <td>952</td>\n",
       "      <td>1211</td>\n",
       "      <td>0</td>\n",
       "      <td>0</td>\n",
       "      <td>43</td>\n",
       "      <td>63</td>\n",
       "    </tr>\n",
       "    <tr>\n",
       "      <th>876</th>\n",
       "      <td>20</td>\n",
       "      <td>4</td>\n",
       "      <td>6</td>\n",
       "      <td>5</td>\n",
       "      <td>2</td>\n",
       "      <td>0</td>\n",
       "      <td>1.0</td>\n",
       "      <td>0</td>\n",
       "      <td>0</td>\n",
       "      <td>0</td>\n",
       "      <td>...</td>\n",
       "      <td>1</td>\n",
       "      <td>0</td>\n",
       "      <td>0</td>\n",
       "      <td>1</td>\n",
       "      <td>864</td>\n",
       "      <td>864</td>\n",
       "      <td>0</td>\n",
       "      <td>0</td>\n",
       "      <td>40</td>\n",
       "      <td>0</td>\n",
       "    </tr>\n",
       "    <tr>\n",
       "      <th>877</th>\n",
       "      <td>20</td>\n",
       "      <td>5</td>\n",
       "      <td>5</td>\n",
       "      <td>5</td>\n",
       "      <td>1</td>\n",
       "      <td>2</td>\n",
       "      <td>2.0</td>\n",
       "      <td>0</td>\n",
       "      <td>0</td>\n",
       "      <td>0</td>\n",
       "      <td>...</td>\n",
       "      <td>0</td>\n",
       "      <td>0</td>\n",
       "      <td>0</td>\n",
       "      <td>1</td>\n",
       "      <td>923</td>\n",
       "      <td>925</td>\n",
       "      <td>0</td>\n",
       "      <td>0</td>\n",
       "      <td>56</td>\n",
       "      <td>81</td>\n",
       "    </tr>\n",
       "  </tbody>\n",
       "</table>\n",
       "<p>878 rows × 59 columns</p>\n",
       "</div>"
      ],
      "text/plain": [
       "     MSSubClass  OverallQual  OverallCond  TotRmsAbvGrd  GarageCars  \\\n",
       "0           190            6            8             9           1   \n",
       "1            90            5            4            10           2   \n",
       "2            60            7            5             7           2   \n",
       "3            30            5            6             5           2   \n",
       "4            20            6            5             6           2   \n",
       "..          ...          ...          ...           ...         ...   \n",
       "873          60            6            6             8           2   \n",
       "874          60            6            7             9           2   \n",
       "875          20            5            5             5           1   \n",
       "876          20            4            6             5           2   \n",
       "877          20            5            5             5           1   \n",
       "\n",
       "     Fireplaces  TotalBaths  MSZoning_FV  MSZoning_I (all)  MSZoning_RH  ...  \\\n",
       "0             0         2.0            0                 0            0  ...   \n",
       "1             0         2.0            0                 0            0  ...   \n",
       "2             1         3.5            0                 0            0  ...   \n",
       "3             0         1.0            0                 0            0  ...   \n",
       "4             2         2.5            0                 0            0  ...   \n",
       "..          ...         ...          ...               ...          ...  ...   \n",
       "873           1         3.5            0                 0            0  ...   \n",
       "874           1         2.5            0                 0            0  ...   \n",
       "875           1         1.0            0                 0            0  ...   \n",
       "876           0         1.0            0                 0            0  ...   \n",
       "877           2         2.0            0                 0            0  ...   \n",
       "\n",
       "     Quarter_Q2  Quarter_Q3  Quarter_Q4  GFC_1  TotalBsmtSF  GrLivArea  \\\n",
       "0             1           0           0      1         1020       1928   \n",
       "1             0           1           0      1         1967       1967   \n",
       "2             0           1           0      1          654       1496   \n",
       "3             0           1           0      1          968        968   \n",
       "4             0           1           0      1         1394       1394   \n",
       "..          ...         ...         ...    ...          ...        ...   \n",
       "873           0           0           1      1         1084       1877   \n",
       "874           0           1           0      1         1104       1988   \n",
       "875           0           1           0      1          952       1211   \n",
       "876           1           0           0      1          864        864   \n",
       "877           0           0           0      1          923        925   \n",
       "\n",
       "     MiscVal  PoolArea  Age  OutdoorSF  \n",
       "0          0         0   61        172  \n",
       "1          0         0   34        170  \n",
       "2          0         0    5        124  \n",
       "3          0         0    5        184  \n",
       "4          0         0   48        261  \n",
       "..       ...       ...  ...        ...  \n",
       "873        0         0   37         96  \n",
       "874        0         0   12        230  \n",
       "875        0         0   43         63  \n",
       "876        0         0   40          0  \n",
       "877        0         0   56         81  \n",
       "\n",
       "[878 rows x 59 columns]"
      ]
     },
     "execution_count": 463,
     "metadata": {},
     "output_type": "execute_result"
    }
   ],
   "source": [
    "housing_test1_xvars"
   ]
  },
  {
   "cell_type": "code",
   "execution_count": 468,
   "id": "5bf798b7-9667-496e-92a2-3281d8d95418",
   "metadata": {
    "tags": []
   },
   "outputs": [
    {
     "data": {
      "text/plain": [
       "Index(['MSSubClass', 'OverallQual', 'OverallCond', 'TotRmsAbvGrd',\n",
       "       'GarageCars', 'Fireplaces', 'TotalBaths', 'MSZoning_FV',\n",
       "       'MSZoning_I (all)', 'MSZoning_RH', 'MSZoning_RL', 'MSZoning_RM',\n",
       "       'Neighborhood_Blueste', 'Neighborhood_BrDale', 'Neighborhood_BrkSide',\n",
       "       'Neighborhood_ClearCr', 'Neighborhood_CollgCr', 'Neighborhood_Crawfor',\n",
       "       'Neighborhood_Edwards', 'Neighborhood_Gilbert', 'Neighborhood_Greens',\n",
       "       'Neighborhood_IDOTRR', 'Neighborhood_MeadowV', 'Neighborhood_Mitchel',\n",
       "       'Neighborhood_NAmes', 'Neighborhood_NPkVill', 'Neighborhood_NWAmes',\n",
       "       'Neighborhood_NoRidge', 'Neighborhood_NridgHt', 'Neighborhood_OldTown',\n",
       "       'Neighborhood_SWISU', 'Neighborhood_Sawyer', 'Neighborhood_SawyerW',\n",
       "       'Neighborhood_Somerst', 'Neighborhood_StoneBr', 'Neighborhood_Timber',\n",
       "       'Neighborhood_Veenker', 'HeatingQC_Fa', 'HeatingQC_Gd', 'HeatingQC_TA',\n",
       "       'CentralAir_Y', 'Condition1_Feedr', 'Condition1_Norm',\n",
       "       'Condition1_PosA', 'Condition1_PosN', 'Condition1_RRAe',\n",
       "       'Condition1_RRAn', 'Condition1_RRNe', 'Condition1_RRNn', 'Quarter_Q2',\n",
       "       'Quarter_Q3', 'Quarter_Q4', 'GFC_1', 'TotalBsmtSF', 'GrLivArea',\n",
       "       'MiscVal', 'PoolArea', 'Age', 'OutdoorSF'],\n",
       "      dtype='object')"
      ]
     },
     "execution_count": 468,
     "metadata": {},
     "output_type": "execute_result"
    }
   ],
   "source": [
    "housing_test1_xvars.columns "
   ]
  },
  {
   "cell_type": "code",
   "execution_count": 469,
   "id": "7338e0d5-adb8-4d8d-b85b-15a43061e13c",
   "metadata": {
    "tags": []
   },
   "outputs": [
    {
     "data": {
      "text/plain": [
       "Index(['MSSubClass', 'OverallQual', 'OverallCond', 'TotRmsAbvGrd',\n",
       "       'GarageCars', 'Fireplaces', 'TotalBaths', 'MSZoning_C (all)',\n",
       "       'MSZoning_FV', 'MSZoning_I (all)', 'MSZoning_RH', 'MSZoning_RL',\n",
       "       'MSZoning_RM', 'Neighborhood_Blueste', 'Neighborhood_BrDale',\n",
       "       'Neighborhood_BrkSide', 'Neighborhood_ClearCr', 'Neighborhood_CollgCr',\n",
       "       'Neighborhood_Crawfor', 'Neighborhood_Edwards', 'Neighborhood_Gilbert',\n",
       "       'Neighborhood_Greens', 'Neighborhood_GrnHill', 'Neighborhood_IDOTRR',\n",
       "       'Neighborhood_Landmrk', 'Neighborhood_MeadowV', 'Neighborhood_Mitchel',\n",
       "       'Neighborhood_NAmes', 'Neighborhood_NPkVill', 'Neighborhood_NWAmes',\n",
       "       'Neighborhood_NoRidge', 'Neighborhood_NridgHt', 'Neighborhood_OldTown',\n",
       "       'Neighborhood_SWISU', 'Neighborhood_Sawyer', 'Neighborhood_SawyerW',\n",
       "       'Neighborhood_Somerst', 'Neighborhood_StoneBr', 'Neighborhood_Timber',\n",
       "       'Neighborhood_Veenker', 'HeatingQC_Fa', 'HeatingQC_Gd', 'HeatingQC_Po',\n",
       "       'HeatingQC_TA', 'CentralAir_Y', 'Condition1_Feedr', 'Condition1_Norm',\n",
       "       'Condition1_PosA', 'Condition1_PosN', 'Condition1_RRAe',\n",
       "       'Condition1_RRAn', 'Condition1_RRNe', 'Condition1_RRNn', 'Quarter_Q2',\n",
       "       'Quarter_Q3', 'Quarter_Q4', 'GFC_1', 'TotalBsmtSF', 'GrLivArea',\n",
       "       'MiscVal', 'PoolArea', 'Age', 'OutdoorSF'],\n",
       "      dtype='object')"
      ]
     },
     "execution_count": 469,
     "metadata": {},
     "output_type": "execute_result"
    }
   ],
   "source": [
    "housing_xvars.columns"
   ]
  },
  {
   "cell_type": "code",
   "execution_count": 464,
   "id": "5cce66c5-c384-46ac-b26b-e16ceba9f65e",
   "metadata": {
    "tags": []
   },
   "outputs": [
    {
     "ename": "ValueError",
     "evalue": "The feature names should match those that were passed during fit.\nFeature names seen at fit time, yet now missing:\n- HeatingQC_Po\n- MSZoning_C (all)\n- Neighborhood_GrnHill\n- Neighborhood_Landmrk\n",
     "output_type": "error",
     "traceback": [
      "\u001b[1;31m---------------------------------------------------------------------------\u001b[0m",
      "\u001b[1;31mValueError\u001b[0m                                Traceback (most recent call last)",
      "Cell \u001b[1;32mIn[464], line 1\u001b[0m\n\u001b[1;32m----> 1\u001b[0m test_preds \u001b[38;5;241m=\u001b[39m lr\u001b[38;5;241m.\u001b[39mpredict(housing_test1_xvars)\n",
      "File \u001b[1;32m~\\anaconda3\\Lib\\site-packages\\sklearn\\linear_model\\_base.py:386\u001b[0m, in \u001b[0;36mLinearModel.predict\u001b[1;34m(self, X)\u001b[0m\n\u001b[0;32m    372\u001b[0m \u001b[38;5;28;01mdef\u001b[39;00m \u001b[38;5;21mpredict\u001b[39m(\u001b[38;5;28mself\u001b[39m, X):\n\u001b[0;32m    373\u001b[0m \u001b[38;5;250m    \u001b[39m\u001b[38;5;124;03m\"\"\"\u001b[39;00m\n\u001b[0;32m    374\u001b[0m \u001b[38;5;124;03m    Predict using the linear model.\u001b[39;00m\n\u001b[0;32m    375\u001b[0m \n\u001b[1;32m   (...)\u001b[0m\n\u001b[0;32m    384\u001b[0m \u001b[38;5;124;03m        Returns predicted values.\u001b[39;00m\n\u001b[0;32m    385\u001b[0m \u001b[38;5;124;03m    \"\"\"\u001b[39;00m\n\u001b[1;32m--> 386\u001b[0m     \u001b[38;5;28;01mreturn\u001b[39;00m \u001b[38;5;28mself\u001b[39m\u001b[38;5;241m.\u001b[39m_decision_function(X)\n",
      "File \u001b[1;32m~\\anaconda3\\Lib\\site-packages\\sklearn\\linear_model\\_base.py:369\u001b[0m, in \u001b[0;36mLinearModel._decision_function\u001b[1;34m(self, X)\u001b[0m\n\u001b[0;32m    366\u001b[0m \u001b[38;5;28;01mdef\u001b[39;00m \u001b[38;5;21m_decision_function\u001b[39m(\u001b[38;5;28mself\u001b[39m, X):\n\u001b[0;32m    367\u001b[0m     check_is_fitted(\u001b[38;5;28mself\u001b[39m)\n\u001b[1;32m--> 369\u001b[0m     X \u001b[38;5;241m=\u001b[39m \u001b[38;5;28mself\u001b[39m\u001b[38;5;241m.\u001b[39m_validate_data(X, accept_sparse\u001b[38;5;241m=\u001b[39m[\u001b[38;5;124m\"\u001b[39m\u001b[38;5;124mcsr\u001b[39m\u001b[38;5;124m\"\u001b[39m, \u001b[38;5;124m\"\u001b[39m\u001b[38;5;124mcsc\u001b[39m\u001b[38;5;124m\"\u001b[39m, \u001b[38;5;124m\"\u001b[39m\u001b[38;5;124mcoo\u001b[39m\u001b[38;5;124m\"\u001b[39m], reset\u001b[38;5;241m=\u001b[39m\u001b[38;5;28;01mFalse\u001b[39;00m)\n\u001b[0;32m    370\u001b[0m     \u001b[38;5;28;01mreturn\u001b[39;00m safe_sparse_dot(X, \u001b[38;5;28mself\u001b[39m\u001b[38;5;241m.\u001b[39mcoef_\u001b[38;5;241m.\u001b[39mT, dense_output\u001b[38;5;241m=\u001b[39m\u001b[38;5;28;01mTrue\u001b[39;00m) \u001b[38;5;241m+\u001b[39m \u001b[38;5;28mself\u001b[39m\u001b[38;5;241m.\u001b[39mintercept_\n",
      "File \u001b[1;32m~\\anaconda3\\Lib\\site-packages\\sklearn\\base.py:579\u001b[0m, in \u001b[0;36mBaseEstimator._validate_data\u001b[1;34m(self, X, y, reset, validate_separately, cast_to_ndarray, **check_params)\u001b[0m\n\u001b[0;32m    508\u001b[0m \u001b[38;5;28;01mdef\u001b[39;00m \u001b[38;5;21m_validate_data\u001b[39m(\n\u001b[0;32m    509\u001b[0m     \u001b[38;5;28mself\u001b[39m,\n\u001b[0;32m    510\u001b[0m     X\u001b[38;5;241m=\u001b[39m\u001b[38;5;124m\"\u001b[39m\u001b[38;5;124mno_validation\u001b[39m\u001b[38;5;124m\"\u001b[39m,\n\u001b[1;32m   (...)\u001b[0m\n\u001b[0;32m    515\u001b[0m     \u001b[38;5;241m*\u001b[39m\u001b[38;5;241m*\u001b[39mcheck_params,\n\u001b[0;32m    516\u001b[0m ):\n\u001b[0;32m    517\u001b[0m \u001b[38;5;250m    \u001b[39m\u001b[38;5;124;03m\"\"\"Validate input data and set or check the `n_features_in_` attribute.\u001b[39;00m\n\u001b[0;32m    518\u001b[0m \n\u001b[0;32m    519\u001b[0m \u001b[38;5;124;03m    Parameters\u001b[39;00m\n\u001b[1;32m   (...)\u001b[0m\n\u001b[0;32m    577\u001b[0m \u001b[38;5;124;03m        validated.\u001b[39;00m\n\u001b[0;32m    578\u001b[0m \u001b[38;5;124;03m    \"\"\"\u001b[39;00m\n\u001b[1;32m--> 579\u001b[0m     \u001b[38;5;28mself\u001b[39m\u001b[38;5;241m.\u001b[39m_check_feature_names(X, reset\u001b[38;5;241m=\u001b[39mreset)\n\u001b[0;32m    581\u001b[0m     \u001b[38;5;28;01mif\u001b[39;00m y \u001b[38;5;129;01mis\u001b[39;00m \u001b[38;5;28;01mNone\u001b[39;00m \u001b[38;5;129;01mand\u001b[39;00m \u001b[38;5;28mself\u001b[39m\u001b[38;5;241m.\u001b[39m_get_tags()[\u001b[38;5;124m\"\u001b[39m\u001b[38;5;124mrequires_y\u001b[39m\u001b[38;5;124m\"\u001b[39m]:\n\u001b[0;32m    582\u001b[0m         \u001b[38;5;28;01mraise\u001b[39;00m \u001b[38;5;167;01mValueError\u001b[39;00m(\n\u001b[0;32m    583\u001b[0m             \u001b[38;5;124mf\u001b[39m\u001b[38;5;124m\"\u001b[39m\u001b[38;5;124mThis \u001b[39m\u001b[38;5;132;01m{\u001b[39;00m\u001b[38;5;28mself\u001b[39m\u001b[38;5;241m.\u001b[39m\u001b[38;5;18m__class__\u001b[39m\u001b[38;5;241m.\u001b[39m\u001b[38;5;18m__name__\u001b[39m\u001b[38;5;132;01m}\u001b[39;00m\u001b[38;5;124m estimator \u001b[39m\u001b[38;5;124m\"\u001b[39m\n\u001b[0;32m    584\u001b[0m             \u001b[38;5;124m\"\u001b[39m\u001b[38;5;124mrequires y to be passed, but the target y is None.\u001b[39m\u001b[38;5;124m\"\u001b[39m\n\u001b[0;32m    585\u001b[0m         )\n",
      "File \u001b[1;32m~\\anaconda3\\Lib\\site-packages\\sklearn\\base.py:506\u001b[0m, in \u001b[0;36mBaseEstimator._check_feature_names\u001b[1;34m(self, X, reset)\u001b[0m\n\u001b[0;32m    501\u001b[0m \u001b[38;5;28;01mif\u001b[39;00m \u001b[38;5;129;01mnot\u001b[39;00m missing_names \u001b[38;5;129;01mand\u001b[39;00m \u001b[38;5;129;01mnot\u001b[39;00m unexpected_names:\n\u001b[0;32m    502\u001b[0m     message \u001b[38;5;241m+\u001b[39m\u001b[38;5;241m=\u001b[39m (\n\u001b[0;32m    503\u001b[0m         \u001b[38;5;124m\"\u001b[39m\u001b[38;5;124mFeature names must be in the same order as they were in fit.\u001b[39m\u001b[38;5;130;01m\\n\u001b[39;00m\u001b[38;5;124m\"\u001b[39m\n\u001b[0;32m    504\u001b[0m     )\n\u001b[1;32m--> 506\u001b[0m \u001b[38;5;28;01mraise\u001b[39;00m \u001b[38;5;167;01mValueError\u001b[39;00m(message)\n",
      "\u001b[1;31mValueError\u001b[0m: The feature names should match those that were passed during fit.\nFeature names seen at fit time, yet now missing:\n- HeatingQC_Po\n- MSZoning_C (all)\n- Neighborhood_GrnHill\n- Neighborhood_Landmrk\n"
     ]
    }
   ],
   "source": [
    "test_preds = lr.predict(housing_test1_xvars)"
   ]
  }
 ],
 "metadata": {
  "kernelspec": {
   "display_name": "Python 3 (ipykernel)",
   "language": "python",
   "name": "python3"
  },
  "language_info": {
   "codemirror_mode": {
    "name": "ipython",
    "version": 3
   },
   "file_extension": ".py",
   "mimetype": "text/x-python",
   "name": "python",
   "nbconvert_exporter": "python",
   "pygments_lexer": "ipython3",
   "version": "3.11.4"
  }
 },
 "nbformat": 4,
 "nbformat_minor": 5
}
